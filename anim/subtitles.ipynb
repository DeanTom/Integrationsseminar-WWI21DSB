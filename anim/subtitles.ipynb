{
 "cells": [
  {
   "cell_type": "code",
   "execution_count": 9,
   "metadata": {},
   "outputs": [],
   "source": [
    "import imageio\n",
    "import os\n",
    "\n",
    "def extract_frames(video_path):\n",
    "    # Erstelle einen Ordner mit dem Namen des Videos\n",
    "    video_name = os.path.basename(video_path).split('.')[0] + \"_Frames\"\n",
    "    os.makedirs(video_name, exist_ok=True)\n",
    "\n",
    "    # Öffne das Video\n",
    "    reader = imageio.get_reader(video_path)\n",
    "\n",
    "    # Gehe durch jedes Bild und speichere es\n",
    "    for i, frame in enumerate(reader):\n",
    "        frame_path = os.path.join(video_name, f\"{i}.png\")\n",
    "        imageio.imwrite(frame_path, frame)\n",
    "\n",
    "# Verwende die Funktion mit dem Pfad deines Videos\n",
    "extract_frames('media/videos/Algorithm visualisation/480p15/MeineSzene.mp4')\n",
    "#extract_frames('media/videos/Algorithm visualisation/2160p60/RandomCircles.mp4')\n"
   ]
  }
 ],
 "metadata": {
  "kernelspec": {
   "display_name": "my-manim-environment",
   "language": "python",
   "name": "python3"
  },
  "language_info": {
   "codemirror_mode": {
    "name": "ipython",
    "version": 3
   },
   "file_extension": ".py",
   "mimetype": "text/x-python",
   "name": "python",
   "nbconvert_exporter": "python",
   "pygments_lexer": "ipython3",
   "version": "3.11.6"
  }
 },
 "nbformat": 4,
 "nbformat_minor": 2
}
