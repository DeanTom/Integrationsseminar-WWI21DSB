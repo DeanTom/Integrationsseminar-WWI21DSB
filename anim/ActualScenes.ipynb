{
 "cells": [
  {
   "cell_type": "code",
   "execution_count": 3,
   "metadata": {},
   "outputs": [
    {
     "data": {
      "text/html": [
       "<pre style=\"white-space:pre;overflow-x:auto;line-height:normal;font-family:Menlo,'DejaVu Sans Mono',consolas,'Courier New',monospace\">Manim Community <span style=\"color: #008000; text-decoration-color: #008000\">v0.18.0</span>\n",
       "\n",
       "</pre>\n"
      ],
      "text/plain": [
       "Manim Community \u001b[32mv0.\u001b[0m\u001b[32m18.0\u001b[0m\n",
       "\n"
      ]
     },
     "metadata": {},
     "output_type": "display_data"
    }
   ],
   "source": [
    "from manim import *"
   ]
  },
  {
   "cell_type": "markdown",
   "metadata": {},
   "source": [
    "Szene 6"
   ]
  },
  {
   "cell_type": "code",
   "execution_count": 279,
   "metadata": {},
   "outputs": [
    {
     "name": "stderr",
     "output_type": "stream",
     "text": [
      "                                                                                                  \r"
     ]
    },
    {
     "data": {
      "text/html": [
       "<video src=\"media/jupyter/ZeitstrahlScene@2024-01-04@16-47-22.mp4\" controls autoplay loop style=\"max-width: 60%;\"  >\n",
       "      Your browser does not support the <code>video</code> element.\n",
       "    </video>"
      ],
      "text/plain": [
       "<IPython.core.display.Video object>"
      ]
     },
     "metadata": {},
     "output_type": "display_data"
    }
   ],
   "source": [
    "%%manim -qk -v WARNING ZeitstrahlScene\n",
    "\n",
    "config.frame_rate = 60\n",
    "class ZeitstrahlScene(MovingCameraScene):\n",
    "    config.frame_rate = 60\n",
    "    def construct(self):\n",
    "        self.camera.background_color = WHITE\n",
    "\n",
    "        ### Zeitstrahl erstellen\n",
    "        timeline = NumberLine(\n",
    "            x_range=[1500, 2200, 10],\n",
    "            length=50,\n",
    "            #include_numbers=True,\n",
    "            #label_direction=UP,\n",
    "            color = BLACK\n",
    "        )\n",
    "\n",
    "        for x in range(1500, 2201, 50):\n",
    "            number = Text(str(x), color=BLACK).next_to(timeline.n2p(x), DOWN)\n",
    "            self.add(number)\n",
    "\n",
    "        ### Markierungen für Zeitstrahl erstellen\n",
    "        \n",
    "        line_2024 = Line(timeline.number_to_point(2024), timeline.number_to_point(2024) + 1 * np.array([np.cos(PI/4), np.sin(PI/4), 0]) , color =BLACK)\n",
    "        text_2024 = Tex(str(2024)+ \" - \" + \"Spongebob\", color = BLACK).next_to(line_2024, UP * 0.9 + RIGHT * 0.5)\n",
    "\n",
    "        line_1638 = Line(timeline.number_to_point(1638), timeline.number_to_point(1638) + 1 * np.array([np.cos(PI/4), np.sin(PI/4), 0]) , color =BLACK)\n",
    "        text_1638 = Tex(str(1638)+ \" - \" + \"Gallileo\", color = BLACK).next_to(line_1638, UP * 0.9 + RIGHT * 0.5)\n",
    "\n",
    "        line_1697 = Line(timeline.number_to_point(1697), timeline.number_to_point(1697) + 4 * np.array([np.cos(PI/4), 0.5 * np.sin(PI/4), 0]) , color =BLACK)\n",
    "        text_1697 = Tex(str(1697)+ \" - \" + \"Newton\", color = BLACK).next_to(line_1697, UP * 0.9 + RIGHT)\n",
    "\n",
    "        # Bilder Hinzufügen \n",
    "        gallileo_image = ImageMobject(\"img/Galileo_Galilei.png\")\n",
    "        gallileo_image.move_to(LEFT * 16 + UP * 3)\n",
    "        # Group\n",
    "        spongebob_image = ImageMobject(\"img/spongebob.png\").scale(0.7)\n",
    "        spongebob_image.move_to(RIGHT * 16 + UP * 3)\n",
    "\n",
    "        patrick_image = ImageMobject(\"img/patrick.png\")\n",
    "        patrick_image.move_to(RIGHT * 12 + UP * 2.3)\n",
    "\n",
    "        racecar_image = ImageMobject(\"img/RaceCar.png\")\n",
    "        racecar_image.scale(0.05)\n",
    "\n",
    "        newton_image = ImageMobject(\"img/Isaac_Newton.png\").scale(0.5)\n",
    "        newton_image.next_to(text_1697, UP)\n",
    "\n",
    "        lightbulb_image = ImageMobject(\"img/lightbulb.png\").scale(0.7)\n",
    "        lightbulb_image.next_to(newton_image, RIGHT)\n",
    "        \n",
    "\n",
    "        light_text = Text(\"light\")\n",
    "        light_text.move_to(lightbulb_image)\n",
    "\n",
    "\n",
    "\n",
    "        ### Kreis für Gallileo Erklärung hinzufügen\n",
    "        circle = Circle(radius=2, color=BLACK)\n",
    "        circle.move_to(LEFT * 11 + UP*4)\n",
    "        # Definiere zwei Punkte auf dem Umfang des Kreises unten links\n",
    "        point1 = circle.point_at_angle(5 * PI / 4) # 225 Grad\n",
    "        point2 = circle.point_at_angle(3 * PI / 2) # 270 Grad\n",
    "        # Erstelle Dot-Objekte für die Punkte\n",
    "        dot1 = Dot(point1, color=RED)\n",
    "        dot2 = Dot(point2, color=BLUE)\n",
    "        # Linie zwischen Punkten\n",
    "        arc = Arc(\n",
    "            start_angle=5 * PI / 4, \n",
    "            angle=3 * PI / 2 - 5 * PI / 4, \n",
    "            radius=circle.radius, \n",
    "            color=YELLOW,\n",
    "            arc_center=circle.get_center()\n",
    "        )\n",
    "\n",
    "\n",
    "        # objekte an richtige stelle bringen:   \n",
    "        # Objekte zu image hinzufügen.\n",
    "        self.add(timeline)\n",
    "        #self.add(circle,dot1,dot2,arc)\n",
    "        #self.add(racecar_image)\n",
    "\n",
    "        \n",
    "        # Camera setup für Frame creation\n",
    "        self.camera.frame.move_to(RIGHT * 13 + UP)\n",
    "        self.play(Create(line_2024))\n",
    "        self.play(Write(text_2024))\n",
    "        self.play(FadeIn(patrick_image,spongebob_image))\n",
    "        self.wait(3)\n",
    "        self.play(self.camera.frame.animate.shift(LEFT * 26), run_time = 3)\n",
    "        self.play(Create(line_1638))\n",
    "        self.play(Write(text_1638))\n",
    "        self.play(FadeIn(gallileo_image))\n",
    "        self.wait(3)\n",
    "        self.play(self.camera.frame.animate.shift(UP * 1.5), Run_time = 2)\n",
    "        self.play(Create(circle))\n",
    "        self.wait(3)\n",
    "        self.play(self.camera.frame.animate.scale(0.2).move_to(arc),run_time = 2)\n",
    "        self.wait(2)\n",
    "        self.play(FadeIn(dot1))\n",
    "        self.play(FadeIn(dot2))\n",
    "        self.wait(2)\n",
    "        self.play(Create(arc))\n",
    "        self.wait(2)\n",
    "        self.play(MoveAlongPath(racecar_image, arc), run_time=2)\n",
    "        self.wait(2)\n",
    "        self.play(self.camera.frame.animate.scale(5).move_to(ORIGIN + LEFT * 13 + UP * 2.5), run_time=2)\n",
    "        self.wait(2)\n",
    "        self.play(self.camera.frame.animate.move_to(text_1697),run_time = 2)\n",
    "        self.play(Create(line_1697))\n",
    "        self.play(Write(text_1697))\n",
    "        self.play(FadeIn(newton_image))\n",
    "        self.wait(2)\n",
    "        self.play(FadeIn(lightbulb_image))\n",
    "        self.play(self.camera.frame.animate.scale(0.1).move_to(light_text),run_time = 2)\n",
    "        self.play(Write(light_text))\n",
    "        self.wait(2)\n",
    "        "
   ]
  },
  {
   "cell_type": "code",
   "execution_count": 317,
   "metadata": {},
   "outputs": [
    {
     "name": "stderr",
     "output_type": "stream",
     "text": [
      "                                                                         \r"
     ]
    },
    {
     "data": {
      "text/html": [
       "<video src=\"media/jupyter/Cycloid@2024-01-04@22-10-45.mp4\" controls autoplay loop style=\"max-width: 60%;\"  >\n",
       "      Your browser does not support the <code>video</code> element.\n",
       "    </video>"
      ],
      "text/plain": [
       "<IPython.core.display.Video object>"
      ]
     },
     "metadata": {},
     "output_type": "display_data"
    }
   ],
   "source": [
    "%%manim -ql -v WARNING Cycloid\n",
    "\n",
    "class Cycloid(Scene):\n",
    "    def construct(self):\n",
    "        # Erstellen des Koordinatensystems\n",
    "        axes = Axes(\n",
    "            x_range=[-5, 5], y_range=[-5, 5],\n",
    "            axis_config={\"color\": BLUE}\n",
    "        )\n",
    "\n",
    "        # Erstellen eines Kreises, der auf der X-Achse aufliegt\n",
    "        circle = Circle(radius=0.5, color=RED).move_to(axes.c2p(0, 0.5))\n",
    "\n",
    "        # Hinzufügen des Koordinatensystems und des Kreises zur Szene\n",
    "        self.add(axes, circle)\n",
    "\n",
    "        # Punkt auf dem Kreis\n",
    "        point_on_circle = Dot(point=circle.get_start(), color=YELLOW)\n",
    "\n",
    "\n",
    "        # Erstellen einer Linie, die immer neu gezeichnet wird, um den aktuellen Punkt mit dem Mittelpunkt des Kreises zu verbinden\n",
    "        line = always_redraw(lambda: Line(circle.get_center(), point_on_circle.get_center(), color=GREEN))\n",
    "\n",
    "        # Animation für die Bewegung des Punktes um den Kreis\n",
    "        point_movement = Rotating(point_on_circle, about_point=circle.get_center(), radians=2*PI)\n",
    "\n",
    "        # Hinzufügen der Linie zur Szene und Starten der Animation\n",
    "        self.add(line)\n",
    "        self.play(point_movement, run_time=2)\n",
    "\n",
    "        # Bewegung des gesamten Kreises entlang der X-Achse\n",
    "        circle_movement = circle.animate.shift(RIGHT * 4)\n",
    "        point_movement2 = point_on_circle.animate.shift(RIGHT * 4)\n",
    "\n",
    "        # Kombinieren der Bewegung des Punktes um den Kreis und der Bewegung des Kreises\n",
    "        combined_movement = AnimationGroup(circle_movement, point_movement,\n",
    "        #point_movement2,\n",
    "        lag_ratio=0)\n",
    "\n",
    "        # Starten der kombinierten Animation\n",
    "        self.play(combined_movement, run_time=4)\n",
    "\n",
    "        \n",
    "\n",
    "\n",
    "\n"
   ]
  },
  {
   "cell_type": "code",
   "execution_count": null,
   "metadata": {},
   "outputs": [],
   "source": []
  }
 ],
 "metadata": {
  "kernelspec": {
   "display_name": "my-manim-environment",
   "language": "python",
   "name": "python3"
  },
  "language_info": {
   "codemirror_mode": {
    "name": "ipython",
    "version": 3
   },
   "file_extension": ".py",
   "mimetype": "text/x-python",
   "name": "python",
   "nbconvert_exporter": "python",
   "pygments_lexer": "ipython3",
   "version": "3.11.6"
  }
 },
 "nbformat": 4,
 "nbformat_minor": 2
}
