{
 "cells": [
  {
   "cell_type": "code",
   "execution_count": 16,
   "metadata": {},
   "outputs": [
    {
     "data": {
      "text/html": [
       "<pre style=\"white-space:pre;overflow-x:auto;line-height:normal;font-family:Menlo,'DejaVu Sans Mono',consolas,'Courier New',monospace\">Manim Community <span style=\"color: #008000; text-decoration-color: #008000\">v0.18.0</span>\n",
       "\n",
       "</pre>\n"
      ],
      "text/plain": [
       "Manim Community \u001b[32mv0.\u001b[0m\u001b[32m18.0\u001b[0m\n",
       "\n"
      ]
     },
     "metadata": {},
     "output_type": "display_data"
    }
   ],
   "source": [
    "from manim import *"
   ]
  },
  {
   "cell_type": "code",
   "execution_count": 17,
   "metadata": {},
   "outputs": [
    {
     "name": "stderr",
     "output_type": "stream",
     "text": [
      "                                                                              \r"
     ]
    },
    {
     "data": {
      "text/html": [
       "<video src=\"media/jupyter/SnellsLawScene@2024-02-08@16-44-11.mp4\" controls autoplay loop style=\"max-width: 60%;\"  >\n",
       "      Your browser does not support the <code>video</code> element.\n",
       "    </video>"
      ],
      "text/plain": [
       "<IPython.core.display.Video object>"
      ]
     },
     "metadata": {},
     "output_type": "display_data"
    }
   ],
   "source": [
    "%%manim -ql -v WARNING SnellsLawScene\n",
    "from manim import *\n",
    "\n",
    "class SnellsLawScene(Scene):\n",
    "    def construct(self):\n",
    "        # Erstellen des blauen Körpers\n",
    "        blue_body = Rectangle(width=config.frame_width, height=config.frame_height / 2, color=BLUE)\n",
    "        blue_body.shift(DOWN * config.frame_height / 4)\n",
    "\n",
    "        # Erstellen des Lichtstrahls\n",
    "        light_ray_start = UP * config.frame_height / 2\n",
    "        light_ray_end = ORIGIN\n",
    "        light_ray = Line(light_ray_start, light_ray_end, color=YELLOW)\n",
    "\n",
    "        # Lichtstrahl-Umlenkung nach Snells Gesetz\n",
    "        # Verwenden Sie den richtigen Brechungsindex für realistischere Effekte\n",
    "        refracted_ray_direction = self.refract(light_ray.get_vector(), n1=1, n2=1.5)\n",
    "        refracted_ray = Line(light_ray_end, light_ray_end + refracted_ray_direction, color=YELLOW)\n",
    "\n",
    "        self.play(Create(blue_body))\n",
    "        self.play(Create(light_ray))\n",
    "        self.play(Transform(light_ray, refracted_ray))\n",
    "        self.wait()\n",
    "\n",
    "    def refract(self, incoming, n1, n2):\n",
    "        # Implementierung der Umlenkungsberechnung nach Snells Gesetz\n",
    "        # Diese einfache Implementierung dient nur der Veranschaulichung\n",
    "        angle_of_incidence = np.arccos(incoming[1] / np.linalg.norm(incoming))\n",
    "        angle_of_refraction = np.arcsin(n1 / n2 * np.sin(angle_of_incidence))\n",
    "        return np.array([np.sin(angle_of_refraction), -np.cos(angle_of_refraction), 0])\n",
    "\n"
   ]
  },
  {
   "cell_type": "code",
   "execution_count": 18,
   "metadata": {},
   "outputs": [
    {
     "name": "stderr",
     "output_type": "stream",
     "text": [
      "                                                                     \r"
     ]
    },
    {
     "data": {
      "text/html": [
       "<video src=\"media/jupyter/SnellsLawScene2@2024-02-08@16-44-11.mp4\" controls autoplay loop style=\"max-width: 60%;\"  >\n",
       "      Your browser does not support the <code>video</code> element.\n",
       "    </video>"
      ],
      "text/plain": [
       "<IPython.core.display.Video object>"
      ]
     },
     "metadata": {},
     "output_type": "display_data"
    }
   ],
   "source": [
    "%%manim -ql -v WARNING SnellsLawScene2\n",
    "from manim import *\n",
    "\n",
    "class SnellsLawScene2(Scene):\n",
    "    def construct(self):\n",
    "        # Erstellen des blauen Körpers\n",
    "        blue_body = Rectangle(width=config.frame_width, height=config.frame_height / 2, color=BLUE)\n",
    "        blue_body.shift(DOWN * config.frame_height / 4)\n",
    "\n",
    "        # Erstellen des ersten Lichtstrahls\n",
    "        light_ray_start = UP * config.frame_height / 2\n",
    "        light_ray_end = ORIGIN\n",
    "        light_ray = Line(light_ray_start, light_ray_end, color=YELLOW)\n",
    "\n",
    "        # Berechnung der neuen Richtung nach Brechung\n",
    "        refracted_ray_direction = self.refract_at_angle(light_ray.get_vector(), angle=30 * DEGREES)\n",
    "        refracted_ray_start = light_ray_end\n",
    "        refracted_ray_end = refracted_ray_start + refracted_ray_direction\n",
    "        refracted_ray = Line(refracted_ray_start, refracted_ray_end, color=YELLOW)\n",
    "\n",
    "        # Erstellen des zweiten Lichtstrahls innerhalb des blauen Körpers\n",
    "        internal_ray = Line(refracted_ray_end, refracted_ray_end + 3 * RIGHT, color=YELLOW)\n",
    "\n",
    "        self.play(Create(blue_body))\n",
    "        self.play(Create(light_ray))\n",
    "        self.wait(1)\n",
    "        self.play(Create(refracted_ray))\n",
    "        self.wait(1)\n",
    "        self.play(Create(internal_ray))\n",
    "        self.wait()\n",
    "\n",
    "    def refract_at_angle(self, incoming, angle):\n",
    "        direction = rotate_vector(incoming, angle)\n",
    "        return direction\n",
    "\n",
    "if __name__ == \"__main__\":\n",
    "    scene = SnellsLawScene()\n",
    "    scene.render()\n",
    "\n"
   ]
  },
  {
   "cell_type": "code",
   "execution_count": 19,
   "metadata": {},
   "outputs": [
    {
     "name": "stderr",
     "output_type": "stream",
     "text": [
      "                                                                     \r"
     ]
    },
    {
     "data": {
      "text/html": [
       "<video src=\"media/jupyter/SnellsLawScene3@2024-02-08@16-44-11.mp4\" controls autoplay loop style=\"max-width: 60%;\"  >\n",
       "      Your browser does not support the <code>video</code> element.\n",
       "    </video>"
      ],
      "text/plain": [
       "<IPython.core.display.Video object>"
      ]
     },
     "metadata": {},
     "output_type": "display_data"
    }
   ],
   "source": [
    "%%manim -ql -v WARNING SnellsLawScene3\n",
    "\n",
    "\n",
    "class SnellsLawScene3(Scene):\n",
    "    def construct(self):\n",
    "        # Erstellen des blauen Körpers mit Füllung\n",
    "        blue_body = Rectangle(width=config.frame_width, height=config.frame_height / 2, fill_color=BLUE, fill_opacity=1.0)\n",
    "        blue_body.shift(DOWN * config.frame_height / 4)\n",
    "\n",
    "        # Erstellen des ersten Lichtstrahls\n",
    "        light_ray_start = UP * config.frame_height / 2\n",
    "        light_ray_end = ORIGIN\n",
    "        light_ray = Line(light_ray_start, light_ray_end, color=YELLOW)\n",
    "\n",
    "        # Berechnung der neuen Richtung nach Brechung\n",
    "        refracted_ray_direction = self.refract_at_angle(light_ray.get_vector(), angle=30 * DEGREES)\n",
    "        refracted_ray_start = light_ray_end\n",
    "        refracted_ray_end = refracted_ray_start + refracted_ray_direction\n",
    "        refracted_ray = Line(refracted_ray_start, refracted_ray_end, color=YELLOW)\n",
    "\n",
    "        # Erstellen des zweiten Lichtstrahls innerhalb des blauen Körpers\n",
    "        internal_ray = Line(refracted_ray_end, refracted_ray_end + 3 * RIGHT, color=YELLOW)\n",
    "\n",
    "        self.play(Create(blue_body))\n",
    "        self.play(Create(light_ray))\n",
    "        self.wait(1)\n",
    "        self.play(Create(refracted_ray))\n",
    "        self.wait(1)\n",
    "        self.play(Create(internal_ray))\n",
    "        self.wait()\n",
    "\n",
    "    def refract_at_angle(self, incoming, angle):\n",
    "        direction = rotate_vector(incoming, angle)\n",
    "        return direction\n",
    "\n",
    "\n"
   ]
  },
  {
   "cell_type": "code",
   "execution_count": 20,
   "metadata": {},
   "outputs": [
    {
     "name": "stdout",
     "output_type": "stream",
     "text": [
      "1.0\n"
     ]
    },
    {
     "data": {
      "text/html": [
       "<video src=\"media/jupyter/BrachistochroneCurve@2024-02-08@16-44-12.mp4\" controls autoplay loop style=\"max-width: 60%;\"  >\n",
       "      Your browser does not support the <code>video</code> element.\n",
       "    </video>"
      ],
      "text/plain": [
       "<IPython.core.display.Video object>"
      ]
     },
     "metadata": {},
     "output_type": "display_data"
    }
   ],
   "source": [
    "%%manim -ql -v WARNING BrachistochroneCurve\n",
    "from manim import *\n",
    "\n",
    "class BrachistochroneCurve(Scene):\n",
    "    def construct(self):\n",
    "        # Anfangs- und Endpunkt definieren\n",
    "        start_point = 2 * UP + LEFT *4\n",
    "        end_point = 2 * DOWN + 4 * LEFT  # Verschiebe den Endpunkt weiter nach links\n",
    "\n",
    "        # Den Abstand und den Winkel zwischen den Punkten berechnen\n",
    "        dist = np.linalg.norm(start_point - end_point)\n",
    "        angle = np.arctan2(*(end_point - start_point)[1::-1])\n",
    "\n",
    "        # Radius basierend auf der Distanz berechnen\n",
    "        r = dist / (2 * np.pi)  # Einen vollen Zyklus für die Kurve verwenden\n",
    "\n",
    "        # Parametrische Funktion für die Brachistochrone\n",
    "        brachistochrone_curve = ParametricFunction(\n",
    "            lambda t: r * np.array([\n",
    "                t - np.sin(t),\n",
    "                -(1 - np.cos(t)),\n",
    "                0\n",
    "            ]),\n",
    "            t_range=[0, 2 * np.pi],\n",
    "            color=RED\n",
    "        )\n",
    "\n",
    "        # Skalieren und Drehen der Kurve\n",
    "        brachistochrone_curve.scale(2)\n",
    "        \n",
    "        print(dist / (2 * np.pi * r))\n",
    "        brachistochrone_curve.rotate(np.radians(-20))\n",
    "\n",
    "        # Verschiebung der Kurve zum Startpunkt\n",
    "        brachistochrone_curve.shift(start_point - brachistochrone_curve.get_start())\n",
    "\n",
    "        # Zeichne nur die Brachistochrone-Kurve\n",
    "        self.add(brachistochrone_curve)\n",
    "        #self.play(Create(brachistochrone_curve), run_time=3)\n",
    "        self.wait()\n",
    "\n",
    "\n"
   ]
  },
  {
   "cell_type": "code",
   "execution_count": 21,
   "metadata": {},
   "outputs": [
    {
     "name": "stdout",
     "output_type": "stream",
     "text": [
      "1.0\n"
     ]
    },
    {
     "data": {
      "image/png": "[encoded data removed]",
      "text/plain": [
       "<IPython.core.display.Image object>"
      ]
     },
     "metadata": {},
     "output_type": "display_data"
    }
   ],
   "source": [
    "%%manim -ql -v WARNING LightScene\n",
    "\n",
    "class LightScene(ZoomedScene):\n",
    "    def construct(self):\n",
    "        self.camera.background_color = GRAY_A\n",
    "        box_height = config.frame_height / 8\n",
    "        extra_width = 1000\n",
    "\n",
    "        # Erstellen der Blauen Körper\n",
    "        water1 = Rectangle(width=config.frame_width + extra_width, height=box_height, fill_color=BLUE_A, fill_opacity=1.0,stroke_width=0)\n",
    "        water1.shift(UP * box_height * (0 + 0.5 - 8 / 2))\n",
    "\n",
    "        water2 = Rectangle(width=config.frame_width + extra_width, height=box_height, fill_color=BLUE_B, fill_opacity=1.0,stroke_width=0)\n",
    "        water2.shift(UP * box_height * (1 + 0.5 - 8 / 2))\n",
    "\n",
    "        water3 = Rectangle(width=config.frame_width + extra_width, height=box_height, fill_color=BLUE_C, fill_opacity=1.0,stroke_width=0)\n",
    "        water3.shift(UP * box_height * (2 + 0.5 - 8 / 2))\n",
    "\n",
    "        water4 = Rectangle(width=config.frame_width + extra_width, height=box_height, fill_color=BLUE_D, fill_opacity=1.0,stroke_width=0)\n",
    "        water4.shift(UP * box_height * (3 + 0.5 - 8 / 2))\n",
    "\n",
    "        water5 = Rectangle(width=config.frame_width + extra_width, height=box_height, fill_color=BLUE_E, fill_opacity=1.0,stroke_width=0)\n",
    "        water5.shift(UP * box_height * (4 + 0.5 - 8 / 2))\n",
    "        self.add(water1,water2,water3,water4,water5)\n",
    "\n",
    "        #Erstellen einer Brachistachrone Kurve:\n",
    "        # Anfangs- und Endpunkt definieren\n",
    "        start_point = 1 * UP + LEFT *4\n",
    "        end_point = 2 * DOWN + 4 * LEFT\n",
    "        size = 4.5\n",
    "        rotation = -10\n",
    "\n",
    "        # Den Abstand und den Winkel zwischen den Punkten berechnen\n",
    "        dist = np.linalg.norm(start_point - end_point)\n",
    "        angle = np.arctan2(*(end_point - start_point)[1::-1])\n",
    "\n",
    "        # Radius basierend auf der Distanz berechnen\n",
    "        r = dist / (2 * np.pi)  # Einen vollen Zyklus für die Kurve verwenden\n",
    "        # Parametrische Funktion für die Brachistochrone\n",
    "\n",
    "\n",
    "        brachistochrone_curve = ParametricFunction(\n",
    "            lambda t: r * np.array([\n",
    "                t - np.sin(t),\n",
    "                -(1 - np.cos(t)),\n",
    "                0\n",
    "            ]),\n",
    "            t_range=[0, 2 * np.pi],\n",
    "            color=YELLOW\n",
    "        )\n",
    "        # Skalieren und Drehen der Kurve\n",
    "        brachistochrone_curve.scale(size)\n",
    "        print(dist / (2 * np.pi * r))\n",
    "        brachistochrone_curve.rotate(np.radians(rotation))\n",
    "        # Verschiebung der Kurve zum Startpunkt\n",
    "        brachistochrone_curve.shift(start_point - brachistochrone_curve.get_start())\n",
    "        # Einfügen der Brahistachrone\n",
    "        #self.add(brachistochrone_curve)\n",
    "\n",
    "\n",
    "        # Jeden Schnittpunkt von Brachistachrone und rectangels bekommen\n",
    "        entry_point0 = Dot(UP * 100 + LEFT *4)\n",
    "        entry_point1 = Dot(point=1 * UP + LEFT *4)\n",
    "        entry_point2 = Dot(point=water4.get_top()+ LEFT * 3.85)\n",
    "        entry_point3 = Dot(point=water3.get_top()+ LEFT * 3.38)\n",
    "        entry_point4 = Dot(point=water2.get_top()+ LEFT * 2.62)\n",
    "        entry_point5 = Dot(point=water1.get_top()+ LEFT * 1.50)\n",
    "        entry_point6 = Dot(point=water1.get_top() + DOWN * box_height + RIGHT * 0.38)\n",
    "        #self.add(entry_point0,entry_point1,entry_point2,entry_point3,entry_point4,entry_point5,entry_point6)\n",
    "\n",
    "\n",
    "        # Lichtstrahlen einzeichnen\n",
    "        light_color = YELLOW\n",
    "        strahl1 = Line(entry_point0.get_center(), entry_point1.get_center(), color = light_color)\n",
    "        strahl2 = Line(entry_point1.get_center(), entry_point2.get_center(), color = light_color)\n",
    "        strahl3 = Line(entry_point2.get_center(), entry_point3.get_center(), color = light_color)\n",
    "        strahl4 = Line(entry_point3.get_center(), entry_point4.get_center(), color = light_color)\n",
    "        strahl5 = Line(entry_point4.get_center(), entry_point5.get_center(), color = light_color)\n",
    "        strahl6 = Line(entry_point5.get_center(), entry_point6.get_center(), color = light_color)\n",
    "\n",
    "        self.add(strahl1,strahl2,strahl3,strahl4,strahl5,strahl6)\n",
    "\n",
    "        \n",
    "        additional_boxes = 5\n",
    "\n",
    "        # Neue Höhe der Boxen berechnen\n",
    "        new_box_height = box_height / (5 + additional_boxes)\n",
    "\n",
    "        # Aktualisiere die Höhe und Position der vorhandenen Boxen\n",
    "        last_pos = 0\n",
    "        for i, water in enumerate([water1, water2, water3, water4, water5]):\n",
    "            water.height = new_box_height\n",
    "            water.shift(UP + UP * (new_box_height - box_height) * (i + 0.5 - 8 / 2))\n",
    "            last_pos =  UP + UP * (new_box_height - box_height) * (i + 0.5 - 8 / 2)\n",
    "\n",
    "        # Erstellen und Hinzufügen der neuen Boxen\n",
    "        # for i in range(70):\n",
    "        #     new_box = Rectangle(width=config.frame_width + 10, height=new_box_height, fill_color=BLUE_E, fill_opacity=1.0, stroke_width=1)\n",
    "        #     new_box.shift( last_pos + DOWN * new_box_height * (5 + i - 8 / 2) + new_box_height)\n",
    "        #     self.add(new_box)\n",
    "        \n",
    "        # self.remove(strahl2)\n",
    "        # self.add(brachistochrone_curve)\n",
    "        # self.play(self.camera.frame.animate.scale(1.2).shift(RIGHT * 2.7), run_time = 4 )\n",
    "        # self.wait(4)"
   ]
  },
  {
   "cell_type": "code",
   "execution_count": 22,
   "metadata": {},
   "outputs": [
    {
     "data": {
      "text/html": [
       "<video src=\"media/jupyter/SnellsLawStackedBoxesScene@2024-02-08@16-44-12.mp4\" controls autoplay loop style=\"max-width: 60%;\"  >\n",
       "      Your browser does not support the <code>video</code> element.\n",
       "    </video>"
      ],
      "text/plain": [
       "<IPython.core.display.Video object>"
      ]
     },
     "metadata": {},
     "output_type": "display_data"
    }
   ],
   "source": [
    "%%manim -ql -v WARNING SnellsLawStackedBoxesScene\n",
    "from manim import *\n",
    "\n",
    "class SnellsLawStackedBoxesScene(Scene):\n",
    "    def construct(self):\n",
    "        # Anzahl der Boxen und Einstellungen\n",
    "        num_boxes = 20\n",
    "        box_height = config.frame_height / num_boxes\n",
    "        initial_angle = 0\n",
    "        angle_increment = 5 * DEGREES  # Winkeländerung bei jedem Boxübergang\n",
    "\n",
    "        # Erstellen des ersten Lichtstrahls\n",
    "        light_ray_start = UP * config.frame_height / 2\n",
    "        light_ray_end = light_ray_start\n",
    "\n",
    "        for i in range(num_boxes):\n",
    "            # Erstellen der Box\n",
    "            box = Rectangle(width=config.frame_width, height=box_height, fill_color=BLUE, fill_opacity=1.0)\n",
    "            box.shift(DOWN * box_height * (i + 0.5 - num_boxes / 2))\n",
    "            self.add(box)\n",
    "\n",
    "            # Aktualisierung des Lichtstrahls\n",
    "            new_angle = initial_angle + i * angle_increment\n",
    "            light_ray_end = light_ray_end + rotate_vector(DOWN * box_height, new_angle)\n",
    "            light_ray = Line(light_ray_start, light_ray_end, color=YELLOW)\n",
    "            self.add(light_ray)\n",
    "\n",
    "        self.wait()\n",
    "\n",
    "if __name__ == \"__main__\":\n",
    "    scene = SnellsLawStackedBoxesScene()\n",
    "    scene.render()\n"
   ]
  },
  {
   "cell_type": "code",
   "execution_count": 23,
   "metadata": {},
   "outputs": [
    {
     "data": {
      "image/png": "[encoded data removed]",
      "text/plain": [
       "<IPython.core.display.Image object>"
      ]
     },
     "metadata": {},
     "output_type": "display_data"
    }
   ],
   "source": [
    "%%manim -ql -v WARNING PointOnBrachistochrone\n",
    "from manim import *\n",
    "import numpy as np\n",
    "\n",
    "class PointOnBrachistochrone(Scene):\n",
    "    def construct(self):\n",
    "        # Gegebene Werte\n",
    "        start_point = 1 * UP + LEFT * 4\n",
    "        end_point = 2 * DOWN + 4 * LEFT\n",
    "        size = 4.5\n",
    "        rotation = -10\n",
    "\n",
    "        # Brachistochrone-Kurve\n",
    "        dist = np.linalg.norm(start_point - end_point)\n",
    "        r = dist / (2 * np.pi)\n",
    "        brachistochrone_curve = ParametricFunction(\n",
    "            lambda t: r * np.array([\n",
    "                t - np.sin(t),\n",
    "                -(1 - np.cos(t)),\n",
    "                0\n",
    "            ]),\n",
    "            t_range=[0, 2 * np.pi],\n",
    "            color=RED\n",
    "        )\n",
    "\n",
    "        # Skalieren und Drehen der Kurve\n",
    "        brachistochrone_curve.scale(size)\n",
    "        brachistochrone_curve.rotate(np.radians(rotation))\n",
    "\n",
    "        # Mitte des Frames (in Y-Richtung)\n",
    "        frame_center_y = -10\n",
    "\n",
    "        # Finde den passenden t-Wert für die gegebene Y-Position\n",
    "        def find_t_for_y(y, precision=0.01):\n",
    "            t_min, t_max = 0, 2 * np.pi\n",
    "            while t_max - t_min > precision:\n",
    "                t = (t_max + t_min) / 2\n",
    "                _, y_val, _ = brachistochrone_curve.function(t)\n",
    "                if y_val > y:\n",
    "                    t_min = t\n",
    "                else:\n",
    "                    t_max = t\n",
    "            return (t_max + t_min) / 2\n",
    "\n",
    "        t_value = find_t_for_y(-frame_center_y / size)\n",
    "        point_position = brachistochrone_curve.function(t_value)\n",
    "\n",
    "        # Erstelle einen Punkt an dieser Position\n",
    "        point = Dot(point=point_position, color=YELLOW)\n",
    "\n",
    "        self.add(brachistochrone_curve,point)\n",
    "\n",
    "\n"
   ]
  },
  {
   "cell_type": "code",
   "execution_count": 24,
   "metadata": {},
   "outputs": [
    {
     "name": "stderr",
     "output_type": "stream",
     "text": [
      "                                                                                     \r"
     ]
    },
    {
     "data": {
      "text/html": [
       "<video src=\"media/jupyter/SizeAndPositionChange@2024-02-08@16-44-12.mp4\" controls autoplay loop style=\"max-width: 60%;\"  >\n",
       "      Your browser does not support the <code>video</code> element.\n",
       "    </video>"
      ],
      "text/plain": [
       "<IPython.core.display.Video object>"
      ]
     },
     "metadata": {},
     "output_type": "display_data"
    }
   ],
   "source": [
    "%%manim -ql -v WARNING SizeAndPositionChange\n",
    "from manim import *\n",
    "\n",
    "class SizeAndPositionChange(Scene):\n",
    "    def construct(self):\n",
    "        # Create 10 rectangles and store them in a list\n",
    "        rectangles = [Rectangle() for _ in range(10)]\n",
    "\n",
    "        # Position rectangles in a row or grid for visibility\n",
    "        self.add(*rectangles)\n",
    "        self.play(*[rect.animate.shift(LEFT * 3 + RIGHT * i) for i, rect in enumerate(rectangles)])\n",
    "\n",
    "        # Define the animations for each rectangle\n",
    "        animations = []\n",
    "        for i, rect in enumerate(rectangles):\n",
    "            # Change the size of each rectangle\n",
    "            new_width = 1 + 0.1 * i  # example width change\n",
    "            new_height = 1 + 0.1 * i  # example height change\n",
    "            animations.append(rect.animate.stretch_to_fit_width(new_width).stretch_to_fit_height(new_height))\n",
    "\n",
    "        # Animate all changes simultaneously\n",
    "        self.play(AnimationGroup(*animations))\n",
    "\n",
    "        # Keep the scene still for a while after the animation\n",
    "        self.wait(2)\n"
   ]
  },
  {
   "cell_type": "code",
   "execution_count": 25,
   "metadata": {},
   "outputs": [
    {
     "ename": "IndentationError",
     "evalue": "expected an indented block after function definition on line 95 (<string>, line 97)",
     "output_type": "error",
     "traceback": [
      "Traceback \u001b[0;36m(most recent call last)\u001b[0m:\n",
      "\u001b[0m  File \u001b[1;32m~/anaconda3/envs/my-manim-environment/lib/python3.11/site-packages/IPython/core/interactiveshell.py:3548\u001b[0m in \u001b[1;35mrun_code\u001b[0m\n    exec(code_obj, self.user_global_ns, self.user_ns)\u001b[0m\n",
      "\u001b[0m  Cell \u001b[1;32mIn[25], line 1\u001b[0m\n    get_ipython().run_cell_magic('manim', '-ql -v WARNING LightScene', '\\nclass LightScene(ZoomedScene):\\n    def construct(self):\\n        self.camera.background_color = GRAY_A\\n        box_height = config.frame_height / 8\\n        extra_width = 1000\\n\\n        # Erstellen der Blauen Körper\\n        water1 = Rectangle(width=config.frame_width + extra_width, height=box_height, fill_color=BLUE_A, fill_opacity=1.0,stroke_width=0)\\n        water1.shift(UP * box_height * (0 + 0.5 - 8 / 2))\\n\\n        water2 = Rectangle(width=config.frame_width + extra_width, height=box_height, fill_color=BLUE_B, fill_opacity=1.0,stroke_width=0)\\n        water2.shift(UP * box_height * (1 + 0.5 - 8 / 2))\\n\\n        water3 = Rectangle(width=config.frame_width + extra_width, height=box_height, fill_color=BLUE_C, fill_opacity=1.0,stroke_width=0)\\n        water3.shift(UP * box_height * (2 + 0.5 - 8 / 2))\\n\\n        water4 = Rectangle(width=config.frame_width + extra_width, height=box_height, fill_color=BLUE_D, fill_opacity=1.0,stroke_width=0)\\n        water4.shift(UP * box_height * (3 + 0.5 - 8 / 2))\\n\\n        water5 = Rectangle(width=config.frame_width + extra_width, height=box_height, fill_color=BLUE_E, fill_opacity=1.0,stroke_width=0)\\n        water5.shift(UP * box_height * (4 + 0.5 - 8 / 2))\\n        self.add(water1,water2,water3,water4,water5)\\n\\n        #Erstellen einer Brachistachrone Kurve:\\n        # Anfangs- und Endpunkt definieren\\n        start_point = 1 * UP + LEFT *4\\n        end_point = 2 * DOWN + 4 * LEFT\\n        size = 4.5\\n        rotation = -10\\n\\n        # Den Abstand und den Winkel zwischen den Punkten berechnen\\n        dist = np.linalg.norm(start_point - end_point)\\n        angle = np.arctan2(*(end_point - start_point)[1::-1])\\n\\n        # Radius basierend auf der Distanz berechnen\\n        r = dist / (2 * np.pi)  # Einen vollen Zyklus für die Kurve verwenden\\n        # Parametrische Funktion für die Brachistochrone\\n\\n\\n        brachistochrone_curve = ParametricFunction(\\n            lambda t: r * np.array([\\n                t - np.sin(t),\\n                -(1 - np.cos(t)),\\n                0\\n            ]),\\n            t_range=[0, 2 * np.pi],\\n            color=YELLOW\\n        )\\n        # Skalieren und Drehen der Kurve\\n        brachistochrone_curve.scale(size)\\n        print(dist / (2 * np.pi * r))\\n        brachistochrone_curve.rotate(np.radians(rotation))\\n        # Verschiebung der Kurve zum Startpunkt\\n        brachistochrone_curve.shift(start_point - brachistochrone_curve.get_start())\\n        # Einfügen der Brahistachrone\\n        #self.add(brachistochrone_curve)\\n\\n\\n        # Jeden Schnittpunkt von Brachistachrone und rectangels bekommen\\n        entry_point0 = Dot(UP * 100 + LEFT *4)\\n        entry_point1 = Dot(point=1 * UP + LEFT *4)\\n        entry_point2 = Dot(point=water4.get_top()+ LEFT * 3.85)\\n        entry_point3 = Dot(point=water3.get_top()+ LEFT * 3.38)\\n        entry_point4 = Dot(point=water2.get_top()+ LEFT * 2.62)\\n        entry_point5 = Dot(point=water1.get_top()+ LEFT * 1.50)\\n        entry_point6 = Dot(point=water1.get_top() + DOWN * box_height + RIGHT * 0.38)\\n        #self.add(entry_point0,entry_point1,entry_point2,entry_point3,entry_point4,entry_point5,entry_point6)\\n\\n\\n        # Lichtstrahlen einzeichnen\\n        light_color = YELLOW\\n        strahl1 = Line(entry_point0.get_center(), entry_point1.get_center(), color = light_color)\\n        strahl2 = Line(entry_point1.get_center(), entry_point2.get_center(), color = light_color)\\n        strahl3 = Line(entry_point2.get_center(), entry_point3.get_center(), color = light_color)\\n        strahl4 = Line(entry_point3.get_center(), entry_point4.get_center(), color = light_color)\\n        strahl5 = Line(entry_point4.get_center(), entry_point5.get_center(), color = light_color)\\n        strahl6 = Line(entry_point5.get_center(), entry_point6.get_center(), color = light_color)\\n\\n        self.add(strahl1,strahl2,strahl3,strahl4,strahl5,strahl6)\\n\\n        \\n        additional_boxes = 5\\n\\n        # Neue Höhe der Boxen berechnen\\n        new_box_height = box_height / (5 + additional_boxes)\\n\\n        # Aktualisiere die Höhe und Position der vorhandenen Boxen\\n        last_pos = 0\\n        waters = [water1, water2, water3, water4, water5]\\n        \\n        #Same time modification algorithm\\n        from functools import partial\\n\\n        def modify_rect(obj, new_box_height, box_height, i, num_waters):\\n    # Change the size of the rectangle\\n    obj.stretch_to_fit_height(new_box_height)\\n\\n    # Calculate the shift amount\\n    # Adjust this calculation based on your specific layout and desired effect\\n    vertical_spacing = 1  # This is the vertical spacing between rectangles, adjust as needed\\n    shift_amount = UP * vertical_spacing * (i - (num_waters - 1) / 2)\\n\\n    # Change the position of the rectangle\\n    obj.shift(shift_amount)\\n\\n    return obj\\n\\n# Define the animations for the Water\\nanimations = []\\nnum_waters = len(waters)  # Get the number of water objects\\nfor i, water in enumerate(waters):\\n    # Customize the function for each water object\\n    custom_modify_rect = partial(modify_rect, new_box_height=new_box_height, box_height=box_height, i=i, num_waters=num_waters)\\n    animation = ApplyFunction(custom_modify_rect, water)\\n    animations.append(animation)\\n\\n# Play all animations at the same time\\nself.play(*animations)\\n\\n\\n            \\n\\n\\n\\n        # Erstellen und Hinzufügen der neuen Boxen\\n        # for i in range(70):\\n        #     new_box = Rectangle(width=config.frame_width + 10, height=new_box_height, fill_color=BLUE_E, fill_opacity=1.0, stroke_width=1)\\n        #     new_box.shift( last_pos + DOWN * new_box_height * (5 + i - 8 / 2) + new_box_height)\\n        #     self.add(new_box)\\n        \\n        # self.remove(strahl2)\\n        # self.add(brachistochrone_curve)\\n        # self.play(self.camera.frame.animate.scale(1.2).shift(RIGHT * 2.7), run_time = 4 )\\n        # self.wait(4)\\n')\u001b[0m\n",
      "\u001b[0m  File \u001b[1;32m~/anaconda3/envs/my-manim-environment/lib/python3.11/site-packages/IPython/core/interactiveshell.py:2515\u001b[0m in \u001b[1;35mrun_cell_magic\u001b[0m\n    result = fn(*args, **kwargs)\u001b[0m\n",
      "\u001b[0;36m  File \u001b[0;32m~/anaconda3/envs/my-manim-environment/lib/python3.11/site-packages/manim/utils/ipython_magic.py:120\u001b[0;36m in \u001b[0;35mmanim\u001b[0;36m\n\u001b[0;31m    exec(cell, local_ns)\u001b[0;36m\n",
      "\u001b[0;36m  File \u001b[0;32m<string>:97\u001b[0;36m\u001b[0m\n\u001b[0;31m    obj.stretch_to_fit_height(new_box_height)\u001b[0m\n\u001b[0m    ^\u001b[0m\n\u001b[0;31mIndentationError\u001b[0m\u001b[0;31m:\u001b[0m expected an indented block after function definition on line 95\n"
     ]
    }
   ],
   "source": [
    "%%manim -ql -v WARNING LightScene\n",
    "\n",
    "class LightScene(ZoomedScene):\n",
    "    def construct(self):\n",
    "        self.camera.background_color = GRAY_A\n",
    "        box_height = config.frame_height / 8\n",
    "        extra_width = 1000\n",
    "\n",
    "        # Erstellen der Blauen Körper\n",
    "        water1 = Rectangle(width=config.frame_width + extra_width, height=box_height, fill_color=BLUE_A, fill_opacity=1.0,stroke_width=0)\n",
    "        water1.shift(UP * box_height * (0 + 0.5 - 8 / 2))\n",
    "\n",
    "        water2 = Rectangle(width=config.frame_width + extra_width, height=box_height, fill_color=BLUE_B, fill_opacity=1.0,stroke_width=0)\n",
    "        water2.shift(UP * box_height * (1 + 0.5 - 8 / 2))\n",
    "\n",
    "        water3 = Rectangle(width=config.frame_width + extra_width, height=box_height, fill_color=BLUE_C, fill_opacity=1.0,stroke_width=0)\n",
    "        water3.shift(UP * box_height * (2 + 0.5 - 8 / 2))\n",
    "\n",
    "        water4 = Rectangle(width=config.frame_width + extra_width, height=box_height, fill_color=BLUE_D, fill_opacity=1.0,stroke_width=0)\n",
    "        water4.shift(UP * box_height * (3 + 0.5 - 8 / 2))\n",
    "\n",
    "        water5 = Rectangle(width=config.frame_width + extra_width, height=box_height, fill_color=BLUE_E, fill_opacity=1.0,stroke_width=0)\n",
    "        water5.shift(UP * box_height * (4 + 0.5 - 8 / 2))\n",
    "        self.add(water1,water2,water3,water4,water5)\n",
    "\n",
    "        #Erstellen einer Brachistachrone Kurve:\n",
    "        # Anfangs- und Endpunkt definieren\n",
    "        start_point = 1 * UP + LEFT *4\n",
    "        end_point = 2 * DOWN + 4 * LEFT\n",
    "        size = 4.5\n",
    "        rotation = -10\n",
    "\n",
    "        # Den Abstand und den Winkel zwischen den Punkten berechnen\n",
    "        dist = np.linalg.norm(start_point - end_point)\n",
    "        angle = np.arctan2(*(end_point - start_point)[1::-1])\n",
    "\n",
    "        # Radius basierend auf der Distanz berechnen\n",
    "        r = dist / (2 * np.pi)  # Einen vollen Zyklus für die Kurve verwenden\n",
    "        # Parametrische Funktion für die Brachistochrone\n",
    "\n",
    "\n",
    "        brachistochrone_curve = ParametricFunction(\n",
    "            lambda t: r * np.array([\n",
    "                t - np.sin(t),\n",
    "                -(1 - np.cos(t)),\n",
    "                0\n",
    "            ]),\n",
    "            t_range=[0, 2 * np.pi],\n",
    "            color=YELLOW\n",
    "        )\n",
    "        # Skalieren und Drehen der Kurve\n",
    "        brachistochrone_curve.scale(size)\n",
    "        print(dist / (2 * np.pi * r))\n",
    "        brachistochrone_curve.rotate(np.radians(rotation))\n",
    "        # Verschiebung der Kurve zum Startpunkt\n",
    "        brachistochrone_curve.shift(start_point - brachistochrone_curve.get_start())\n",
    "        # Einfügen der Brahistachrone\n",
    "        #self.add(brachistochrone_curve)\n",
    "\n",
    "\n",
    "        # Jeden Schnittpunkt von Brachistachrone und rectangels bekommen\n",
    "        entry_point0 = Dot(UP * 100 + LEFT *4)\n",
    "        entry_point1 = Dot(point=1 * UP + LEFT *4)\n",
    "        entry_point2 = Dot(point=water4.get_top()+ LEFT * 3.85)\n",
    "        entry_point3 = Dot(point=water3.get_top()+ LEFT * 3.38)\n",
    "        entry_point4 = Dot(point=water2.get_top()+ LEFT * 2.62)\n",
    "        entry_point5 = Dot(point=water1.get_top()+ LEFT * 1.50)\n",
    "        entry_point6 = Dot(point=water1.get_top() + DOWN * box_height + RIGHT * 0.38)\n",
    "        #self.add(entry_point0,entry_point1,entry_point2,entry_point3,entry_point4,entry_point5,entry_point6)\n",
    "\n",
    "\n",
    "        # Lichtstrahlen einzeichnen\n",
    "        light_color = YELLOW\n",
    "        strahl1 = Line(entry_point0.get_center(), entry_point1.get_center(), color = light_color)\n",
    "        strahl2 = Line(entry_point1.get_center(), entry_point2.get_center(), color = light_color)\n",
    "        strahl3 = Line(entry_point2.get_center(), entry_point3.get_center(), color = light_color)\n",
    "        strahl4 = Line(entry_point3.get_center(), entry_point4.get_center(), color = light_color)\n",
    "        strahl5 = Line(entry_point4.get_center(), entry_point5.get_center(), color = light_color)\n",
    "        strahl6 = Line(entry_point5.get_center(), entry_point6.get_center(), color = light_color)\n",
    "\n",
    "        self.add(strahl1,strahl2,strahl3,strahl4,strahl5,strahl6)\n",
    "\n",
    "        \n",
    "        additional_boxes = 5\n",
    "\n",
    "        # Neue Höhe der Boxen berechnen\n",
    "        new_box_height = box_height / (5 + additional_boxes)\n",
    "\n",
    "        # Aktualisiere die Höhe und Position der vorhandenen Boxen\n",
    "        last_pos = 0\n",
    "        waters = [water1, water2, water3, water4, water5]\n",
    "        \n",
    "        #Same time modification algorithm\n",
    "        from functools import partial\n",
    "\n",
    "        def modify_rect(obj, new_box_height, box_height, i, num_waters):\n",
    "    # Change the size of the rectangle\n",
    "    obj.stretch_to_fit_height(new_box_height)\n",
    "\n",
    "    # Calculate the shift amount\n",
    "    # Adjust this calculation based on your specific layout and desired effect\n",
    "    vertical_spacing = 1  # This is the vertical spacing between rectangles, adjust as needed\n",
    "    shift_amount = UP * vertical_spacing * (i - (num_waters - 1) / 2)\n",
    "\n",
    "    # Change the position of the rectangle\n",
    "    obj.shift(shift_amount)\n",
    "\n",
    "    return obj\n",
    "\n",
    "# Define the animations for the Water\n",
    "animations = []\n",
    "num_waters = len(waters)  # Get the number of water objects\n",
    "for i, water in enumerate(waters):\n",
    "    # Customize the function for each water object\n",
    "    custom_modify_rect = partial(modify_rect, new_box_height=new_box_height, box_height=box_height, i=i, num_waters=num_waters)\n",
    "    animation = ApplyFunction(custom_modify_rect, water)\n",
    "    animations.append(animation)\n",
    "\n",
    "# Play all animations at the same time\n",
    "self.play(*animations)\n",
    "\n",
    "\n",
    "            \n",
    "\n",
    "\n",
    "\n",
    "        # Erstellen und Hinzufügen der neuen Boxen\n",
    "        # for i in range(70):\n",
    "        #     new_box = Rectangle(width=config.frame_width + 10, height=new_box_height, fill_color=BLUE_E, fill_opacity=1.0, stroke_width=1)\n",
    "        #     new_box.shift( last_pos + DOWN * new_box_height * (5 + i - 8 / 2) + new_box_height)\n",
    "        #     self.add(new_box)\n",
    "        \n",
    "        # self.remove(strahl2)\n",
    "        # self.add(brachistochrone_curve)\n",
    "        # self.play(self.camera.frame.animate.scale(1.2).shift(RIGHT * 2.7), run_time = 4 )\n",
    "        # self.wait(4)"
   ]
  },
  {
   "cell_type": "code",
   "execution_count": 26,
   "metadata": {},
   "outputs": [],
   "source": [
    "class MoveToPosition(Animation):\n",
    "    def __init__(self, mobject, new_position, **kwargs):\n",
    "        super().__init__(mobject, **kwargs)\n",
    "        self.new_position = new_position\n",
    "\n",
    "    def interpolate_mobject(self, alpha):\n",
    "        self.mobject.move_to(self.new_position)\n",
    "    \n",
    "    "
   ]
  },
  {
   "cell_type": "code",
   "execution_count": 27,
   "metadata": {},
   "outputs": [
    {
     "name": "stderr",
     "output_type": "stream",
     "text": [
      "                                                                            \r"
     ]
    },
    {
     "data": {
      "text/html": [
       "<video src=\"media/jupyter/SizeAndPositionChange@2024-02-08@16-44-31.mp4\" controls autoplay loop style=\"max-width: 60%;\"  >\n",
       "      Your browser does not support the <code>video</code> element.\n",
       "    </video>"
      ],
      "text/plain": [
       "<IPython.core.display.Video object>"
      ]
     },
     "metadata": {},
     "output_type": "display_data"
    }
   ],
   "source": [
    "%%manim -ql -v WARNING SizeAndPositionChange\n",
    "from manim import *\n",
    "\n",
    "class SizeAndPositionChange(Scene):\n",
    "    def construct(self):\n",
    "        # Create a rectangle\n",
    "        rect = Rectangle()\n",
    "\n",
    "        # Define the function for modifying the rectangle\n",
    "        def modify_rect(obj):\n",
    "            # Change the size of the rectangle\n",
    "            obj.stretch_to_fit_height(2)\n",
    "            obj.stretch_to_fit_width(3)\n",
    "\n",
    "            # Change the position of the rectangle\n",
    "            obj.move_to(RIGHT * 2 + UP * 2)\n",
    "\n",
    "            return obj\n",
    "\n",
    "        # Animate the modification of the rectangle\n",
    "        self.play(ApplyFunction(modify_rect, rect))\n",
    "\n",
    "        # Keep the scene still for a while after the animation\n",
    "        self.wait(2)\n"
   ]
  },
  {
   "cell_type": "code",
   "execution_count": 30,
   "metadata": {},
   "outputs": [
    {
     "name": "stdout",
     "output_type": "stream",
     "text": [
      "1.0\n"
     ]
    },
    {
     "name": "stderr",
     "output_type": "stream",
     "text": [
      "                                                                           \r"
     ]
    },
    {
     "data": {
      "text/html": [
       "<video src=\"media/jupyter/LightScene@2024-02-08@16-46-02.mp4\" controls autoplay loop style=\"max-width: 60%;\"  >\n",
       "      Your browser does not support the <code>video</code> element.\n",
       "    </video>"
      ],
      "text/plain": [
       "<IPython.core.display.Video object>"
      ]
     },
     "metadata": {},
     "output_type": "display_data"
    }
   ],
   "source": [
    "%%manim -ql -v WARNING LightScene\n",
    "\n",
    "class LightScene(ZoomedScene):\n",
    "    def construct(self):\n",
    "        self.camera.background_color = GRAY_A\n",
    "        box_height = config.frame_height / 8\n",
    "        extra_width = 1000\n",
    "\n",
    "        # Erstellen der Blauen Körper\n",
    "        water1 = Rectangle(width=config.frame_width + extra_width, height=box_height, fill_color=BLUE_A, fill_opacity=1.0,stroke_width=0)\n",
    "        water1.shift(UP * box_height * (0 + 0.5 - 8 / 2))\n",
    "\n",
    "        water2 = Rectangle(width=config.frame_width + extra_width, height=box_height, fill_color=BLUE_B, fill_opacity=1.0,stroke_width=0)\n",
    "        water2.shift(UP * box_height * (1 + 0.5 - 8 / 2))\n",
    "\n",
    "        water3 = Rectangle(width=config.frame_width + extra_width, height=box_height, fill_color=BLUE_C, fill_opacity=1.0,stroke_width=0)\n",
    "        water3.shift(UP * box_height * (2 + 0.5 - 8 / 2))\n",
    "\n",
    "        water4 = Rectangle(width=config.frame_width + extra_width, height=box_height, fill_color=BLUE_D, fill_opacity=1.0,stroke_width=0)\n",
    "        water4.shift(UP * box_height * (3 + 0.5 - 8 / 2))\n",
    "\n",
    "        water5 = Rectangle(width=config.frame_width + extra_width, height=box_height, fill_color=BLUE_E, fill_opacity=1.0,stroke_width=0)\n",
    "        water5.shift(UP * box_height * (4 + 0.5 - 8 / 2))\n",
    "        self.add(water1,water2,water3,water4,water5)\n",
    "\n",
    "        #Erstellen einer Brachistachrone Kurve:\n",
    "        # Anfangs- und Endpunkt definieren\n",
    "        start_point = 1 * UP + LEFT *4\n",
    "        end_point = 2 * DOWN + 4 * LEFT\n",
    "        size = 4.5\n",
    "        rotation = -10\n",
    "\n",
    "        # Den Abstand und den Winkel zwischen den Punkten berechnen\n",
    "        dist = np.linalg.norm(start_point - end_point)\n",
    "        angle = np.arctan2(*(end_point - start_point)[1::-1])\n",
    "\n",
    "        # Radius basierend auf der Distanz berechnen\n",
    "        r = dist / (2 * np.pi)  # Einen vollen Zyklus für die Kurve verwenden\n",
    "        # Parametrische Funktion für die Brachistochrone\n",
    "\n",
    "\n",
    "        brachistochrone_curve = ParametricFunction(\n",
    "            lambda t: r * np.array([\n",
    "                t - np.sin(t),\n",
    "                -(1 - np.cos(t)),\n",
    "                0\n",
    "            ]),\n",
    "            t_range=[0, 2 * np.pi],\n",
    "            color=YELLOW\n",
    "        )\n",
    "        # Skalieren und Drehen der Kurve\n",
    "        brachistochrone_curve.scale(size)\n",
    "        print(dist / (2 * np.pi * r))\n",
    "        brachistochrone_curve.rotate(np.radians(rotation))\n",
    "        # Verschiebung der Kurve zum Startpunkt\n",
    "        brachistochrone_curve.shift(start_point - brachistochrone_curve.get_start())\n",
    "        # Einfügen der Brahistachrone\n",
    "        #self.add(brachistochrone_curve)\n",
    "\n",
    "\n",
    "        # Jeden Schnittpunkt von Brachistachrone und rectangels bekommen\n",
    "        entry_point0 = Dot(UP * 100 + LEFT *4)\n",
    "        entry_point1 = Dot(point=1 * UP + LEFT *4)\n",
    "        entry_point2 = Dot(point=water4.get_top()+ LEFT * 3.85)\n",
    "        entry_point3 = Dot(point=water3.get_top()+ LEFT * 3.38)\n",
    "        entry_point4 = Dot(point=water2.get_top()+ LEFT * 2.62)\n",
    "        entry_point5 = Dot(point=water1.get_top()+ LEFT * 1.50)\n",
    "        entry_point6 = Dot(point=water1.get_top() + DOWN * box_height + RIGHT * 0.38)\n",
    "        #self.add(entry_point0,entry_point1,entry_point2,entry_point3,entry_point4,entry_point5,entry_point6)\n",
    "\n",
    "\n",
    "        # Lichtstrahlen einzeichnen\n",
    "        light_color = YELLOW\n",
    "        strahl1 = Line(entry_point0.get_center(), entry_point1.get_center(), color = light_color)\n",
    "        strahl2 = Line(entry_point1.get_center(), entry_point2.get_center(), color = light_color)\n",
    "        strahl3 = Line(entry_point2.get_center(), entry_point3.get_center(), color = light_color)\n",
    "        strahl4 = Line(entry_point3.get_center(), entry_point4.get_center(), color = light_color)\n",
    "        strahl5 = Line(entry_point4.get_center(), entry_point5.get_center(), color = light_color)\n",
    "        strahl6 = Line(entry_point5.get_center(), entry_point6.get_center(), color = light_color)\n",
    "\n",
    "        #self.add(strahl1,strahl2,strahl3,strahl4,strahl5,strahl6)\n",
    "\n",
    "        for strahl in [strahl1,strahl2,strahl3,strahl4,strahl5,strahl6]:\n",
    "            self.play(Create(strahl)) \n",
    "\n",
    "        \n",
    "        "
   ]
  },
  {
   "cell_type": "code",
   "execution_count": 41,
   "metadata": {},
   "outputs": [
    {
     "data": {
      "image/png": "[encoded data removed]",
      "text/plain": [
       "<IPython.core.display.Image object>"
      ]
     },
     "metadata": {},
     "output_type": "display_data"
    }
   ],
   "source": [
    "%%manim -ql -v WARNING LightScene\n",
    "\n",
    "class LightScene(ZoomedScene):\n",
    "    def construct(self):\n",
    "        self.camera.background_color = GRAY_A\n",
    "\n",
    "\n",
    "        box_number = 2\n",
    "        box_height = config.frame_height / 2\n",
    "\n",
    "        def Create_Box ():\n",
    "\n",
    "\n",
    "            # Erstellen der Blauen Körper\n",
    "            water1 = Rectangle(width=config.frame_width + 1000, height=box_height, fill_color=BLUE, fill_opacity=1.0,stroke_width=0)\n",
    "            water1.shift(UP * box_height * (0 + 0.5 - 8 / 2))\n",
    "\n",
    "            self.add(water1)\n",
    "\n",
    "        Create_Box()\n",
    "\n",
    "    \n",
    "\n",
    "\n",
    "        \n",
    "        "
   ]
  },
  {
   "cell_type": "code",
   "execution_count": 250,
   "metadata": {},
   "outputs": [
    {
     "name": "stderr",
     "output_type": "stream",
     "text": [
      "                                                                         \r"
     ]
    },
    {
     "data": {
      "text/html": [
       "<video src=\"media/jupyter/BlaueBoxenSzene@2024-02-08@20-22-33.mp4\" controls autoplay loop style=\"max-width: 60%;\"  >\n",
       "      Your browser does not support the <code>video</code> element.\n",
       "    </video>"
      ],
      "text/plain": [
       "<IPython.core.display.Video object>"
      ]
     },
     "metadata": {},
     "output_type": "display_data"
    }
   ],
   "source": [
    "%%manim -ql -v WARNING BlaueBoxenSzene\n",
    "\n",
    "class BlaueBoxenSzene(Scene):\n",
    "    def construct(self):\n",
    "        self.camera.background_color = GRAY_A\n",
    "\n",
    "        liste_boxen_liste = []\n",
    "\n",
    "        for box_anzahl in range(2,10):\n",
    "            farben = self.generiere_blaue_farbverlauf_liste(box_anzahl)\n",
    "            box_height = self.berechne_box_hoehe(box_anzahl)\n",
    "            boxen = self.erstelle_boxen(box_height,box_anzahl,farben,[])\n",
    "            liste_boxen_liste.append(boxen)\n",
    "\n",
    "        for boxen in liste_boxen_liste:\n",
    "            self.play(AnimationGroup(*[Create(box) for box in boxen], run_time=0.1))\n",
    "\n",
    "\n",
    "    def berechne_box_hoehe(self, anzahl_boxen):\n",
    "        screen_hoehe = config.frame_height  # Die Höhe des Bildschirms in Manim Einheiten\n",
    "        box_hoehe = (2 * screen_hoehe / 3) / anzahl_boxen  # Höhe jeder Box\n",
    "        #print(box_hoehe)\n",
    "        return box_hoehe\n",
    "\n",
    "\n",
    "    def generiere_blaue_farbverlauf_liste(self, laenge):\n",
    "        # Definiere die RGB-Werte für helles und dunkles Blau\n",
    "        start_rgb = (173, 216, 230)  # Helles Blau, z.B. #ADD8E6\n",
    "        ende_rgb = (0, 0, 139)  # Dunkles Blau, z.B. #00008B\n",
    "\n",
    "        # Generiere den Farbverlauf\n",
    "        farbverlauf_liste = []\n",
    "        for i in range(laenge):\n",
    "            # Berechne die interpolierten RGB-Werte\n",
    "            zwischen_rgb = tuple(start + (end - start) * i / (laenge - 1) for start, end in zip(start_rgb, ende_rgb))\n",
    "            # Konvertiere die RGB-Werte zu einem Hex-String und füge sie der Liste hinzu\n",
    "            farbverlauf_liste.append('#{:02X}{:02X}{:02X}'.format(int(zwischen_rgb[0]), int(zwischen_rgb[1]), int(zwischen_rgb[2])))\n",
    "\n",
    "        return farbverlauf_liste\n",
    "\n",
    "\n",
    "    def erstelle_boxen(self, box_hoehe, box_anzahl, farbverlauf_liste, box_liste, box_num = 0):\n",
    "        if box_num != box_anzahl:\n",
    "            box = Rectangle(width=config.frame_width * 3, height=box_hoehe, fill_color=farbverlauf_liste[box_num], fill_opacity=1.0, stroke_width=3, color=farbverlauf_liste[box_num])\n",
    "            #Box am unteren rand des Bildschirms platzieren\n",
    "            box.to_edge(DOWN, buff=0)\n",
    "            #Box nach nummer der box multipliziert mit der Höhe der box nach oben verschieben, also um so viele box einheiten wie nummern\n",
    "            box.shift(UP * box_num * box_hoehe)\n",
    "            box_num += 1\n",
    "            box_liste.append(box)\n",
    "            #self.add(box)\n",
    "            return self.erstelle_boxen(box_hoehe = box_hoehe, box_anzahl = box_anzahl, farbverlauf_liste = farbverlauf_liste, box_liste = box_liste, box_num = box_num)\n",
    "        else:\n",
    "            return box_liste\n"
   ]
  },
  {
   "cell_type": "code",
   "execution_count": 257,
   "metadata": {},
   "outputs": [
    {
     "name": "stdout",
     "output_type": "stream",
     "text": [
      "1.0\n"
     ]
    },
    {
     "name": "stderr",
     "output_type": "stream",
     "text": [
      "                                                                         \r"
     ]
    },
    {
     "data": {
      "text/html": [
       "<video src=\"media/jupyter/BlaueBoxenSzene@2024-02-08@20-29-03.mp4\" controls autoplay loop style=\"max-width: 60%;\"  >\n",
       "      Your browser does not support the <code>video</code> element.\n",
       "    </video>"
      ],
      "text/plain": [
       "<IPython.core.display.Video object>"
      ]
     },
     "metadata": {},
     "output_type": "display_data"
    }
   ],
   "source": [
    "%%manim -ql -v WARNING BlaueBoxenSzene\n",
    "\n",
    "class BlaueBoxenSzene(Scene):\n",
    "    def berechne_box_hoehe(self, anzahl_boxen):\n",
    "        screen_hoehe = config.frame_height  # Die Höhe des Bildschirms in Manim Einheiten\n",
    "        box_hoehe = (2 * screen_hoehe / 3) / anzahl_boxen  # Höhe jeder Box\n",
    "        #print(box_hoehe)\n",
    "        return box_hoehe\n",
    "\n",
    "\n",
    "    def generiere_blaue_farbverlauf_liste(self, laenge):\n",
    "        # Definiere die RGB-Werte für helles und dunkles Blau\n",
    "        start_rgb = (173, 216, 230)  # Helles Blau, z.B. #ADD8E6\n",
    "        ende_rgb = (0, 0, 139)  # Dunkles Blau, z.B. #00008B\n",
    "\n",
    "        # Generiere den Farbverlauf\n",
    "        farbverlauf_liste = []\n",
    "        for i in range(laenge):\n",
    "            # Berechne die interpolierten RGB-Werte\n",
    "            zwischen_rgb = tuple(start + (end - start) * i / (laenge - 1) for start, end in zip(start_rgb, ende_rgb))\n",
    "            # Konvertiere die RGB-Werte zu einem Hex-String und füge sie der Liste hinzu\n",
    "            farbverlauf_liste.append('#{:02X}{:02X}{:02X}'.format(int(zwischen_rgb[0]), int(zwischen_rgb[1]), int(zwischen_rgb[2])))\n",
    "\n",
    "        return farbverlauf_liste\n",
    "\n",
    "\n",
    "    def erstelle_boxen(self, box_hoehe, box_anzahl, farbverlauf_liste, box_liste, box_num = 0):\n",
    "        if box_num != box_anzahl:\n",
    "            box = Rectangle(width=config.frame_width * 3, height=box_hoehe, fill_color=farbverlauf_liste[box_num], fill_opacity=1.0, stroke_width=3, color=farbverlauf_liste[box_num])\n",
    "            #Box am unteren rand des Bildschirms platzieren\n",
    "            box.to_edge(DOWN, buff=0)\n",
    "            #Box nach nummer der box multipliziert mit der Höhe der box nach oben verschieben, also um so viele box einheiten wie nummern\n",
    "            box.shift(UP * box_num * box_hoehe)\n",
    "            box_num += 1\n",
    "            box_liste.append(box)\n",
    "            #self.add(box)\n",
    "            return self.erstelle_boxen(box_hoehe = box_hoehe, box_anzahl = box_anzahl, farbverlauf_liste = farbverlauf_liste, box_liste = box_liste, box_num = box_num)\n",
    "        else:\n",
    "            return box_liste \n",
    "\n",
    "    def zeichne_brachistochrone(self):\n",
    "        start_point = 2 * UP + LEFT *4\n",
    "        end_point = 2 * DOWN + 4 * LEFT  # Verschiebe den Endpunkt weiter nach links\n",
    "\n",
    "        # Den Abstand und den Winkel zwischen den Punkten berechnen\n",
    "        dist = np.linalg.norm(start_point - end_point)\n",
    "        angle = np.arctan2(*(end_point - start_point)[1::-1])\n",
    "\n",
    "        # Radius basierend auf der Distanz berechnen\n",
    "        r = dist / (2 * np.pi)  # Einen vollen Zyklus für die Kurve verwenden\n",
    "\n",
    "        # Parametrische Funktion für die Brachistochrone\n",
    "        brachistochrone_curve = ParametricFunction(\n",
    "            lambda t: r * np.array([\n",
    "                t - np.sin(t),\n",
    "                -(1 - np.cos(t)),\n",
    "                0\n",
    "            ]),\n",
    "            t_range=[0, 2 * np.pi],\n",
    "            color=RED\n",
    "        )\n",
    "\n",
    "        # Skalieren und Drehen der Kurve\n",
    "        brachistochrone_curve.scale(2)\n",
    "        \n",
    "        print(dist / (2 * np.pi * r))\n",
    "        brachistochrone_curve.rotate(np.radians(-20))\n",
    "\n",
    "        # Verschiebung der Kurve zum Startpunkt\n",
    "        brachistochrone_curve.shift(start_point - brachistochrone_curve.get_start())\n",
    "\n",
    "        # Zeichne nur die Brachistochrone-Kurve\n",
    "        return brachistochrone_curve\n",
    "\n",
    "\n",
    "    def construct(self):\n",
    "        self.camera.background_color = GRAY_A\n",
    "\n",
    "        liste_boxen_liste = []\n",
    "        boxen_anzahl = 9\n",
    "\n",
    "        brachistochrone_curve = self.zeichne_brachistochrone()\n",
    "        brachistochrone_curve.shift(DOWN * 0.65)\n",
    "\n",
    "        for box_anzahl in range(9,10):\n",
    "            farben = self.generiere_blaue_farbverlauf_liste(box_anzahl)\n",
    "            box_height = self.berechne_box_hoehe(box_anzahl)\n",
    "            boxen = self.erstelle_boxen(box_height,box_anzahl,farben,[])\n",
    "            liste_boxen_liste.append(boxen)\n",
    "\n",
    "        for boxen in liste_boxen_liste:\n",
    "            self.play(AnimationGroup(*[Create(box) for box in boxen], run_time=0.1))\n",
    "\n",
    "        self.add(brachistochrone_curve)\n",
    "\n",
    "        self.wait(2)\n"
   ]
  }
 ],
 "metadata": {
  "kernelspec": {
   "display_name": "my-manim-environment",
   "language": "python",
   "name": "python3"
  },
  "language_info": {
   "codemirror_mode": {
    "name": "ipython",
    "version": 3
   },
   "file_extension": ".py",
   "mimetype": "text/x-python",
   "name": "python",
   "nbconvert_exporter": "python",
   "pygments_lexer": "ipython3",
   "version": "3.11.6"
  }
 },
 "nbformat": 4,
 "nbformat_minor": 2
}
