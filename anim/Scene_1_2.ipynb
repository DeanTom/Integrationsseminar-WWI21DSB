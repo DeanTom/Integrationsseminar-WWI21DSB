{
 "cells": [
  {
   "cell_type": "code",
   "execution_count": 2,
   "metadata": {},
   "outputs": [
    {
     "data": {
      "text/html": [
       "<pre style=\"white-space:pre;overflow-x:auto;line-height:normal;font-family:Menlo,'DejaVu Sans Mono',consolas,'Courier New',monospace\">Manim Community <span style=\"color: #008000; text-decoration-color: #008000\">v0.18.0</span>\n",
       "\n",
       "</pre>\n"
      ],
      "text/plain": [
       "Manim Community \u001b[32mv0.\u001b[0m\u001b[32m18.0\u001b[0m\n",
       "\n"
      ]
     },
     "metadata": {},
     "output_type": "display_data"
    }
   ],
   "source": [
    "from manim import *"
   ]
  },
  {
   "cell_type": "code",
   "execution_count": 9,
   "metadata": {},
   "outputs": [
    {
     "name": "stderr",
     "output_type": "stream",
     "text": [
      "<string>:82: DeprecationWarning: This method is not guaranteed to stay around. Please prefer getting the attribute normally.\n",
      "                                                                                                            \r"
     ]
    },
    {
     "data": {
      "text/html": [
       "<video src=\"media\\jupyter\\SpongebobAndPatrickScene1@2024-01-06@09-30-44.mp4\" controls autoplay loop style=\"max-width: 60%;\"  >\n",
       "      Your browser does not support the <code>video</code> element.\n",
       "    </video>"
      ],
      "text/plain": [
       "<IPython.core.display.Video object>"
      ]
     },
     "metadata": {},
     "output_type": "display_data"
    }
   ],
   "source": [
    "%%manim -ql -v WARNING SpongebobAndPatrickScene1\n",
    "\n",
    "class SpongebobAndPatrickScene1(MovingCameraScene):\n",
    "    def construct(self):\n",
    "        self.camera.background_color=GRAY_A\n",
    "\n",
    "        # Create the images\n",
    "        spongebob = ImageMobject(\"img\\spongebob.png\")\n",
    "        patrick = ImageMobject(\"img\\patrick.png\")\n",
    "\n",
    "        spongebob.scale(0.7)\n",
    "        patrick.scale(0.7)\n",
    "\n",
    "        spongebob.move_to(20 * LEFT)\n",
    "        patrick.move_to(20 * RIGHT)\n",
    "        self.add(spongebob, patrick)\n",
    "\n",
    "\n",
    "        # Move the images to the edges of the screen\n",
    "        spongebob_animation = AnimationGroup(\n",
    "            FadeIn(spongebob),\n",
    "            spongebob.animate.to_edge(RIGHT, buff=1),\n",
    "        )\n",
    "\n",
    "        patrick_animation = AnimationGroup(\n",
    "            FadeIn(patrick),\n",
    "            patrick.animate.to_edge(LEFT, buff=1),\n",
    "        )\n",
    "\n",
    "        self.play(spongebob_animation, patrick_animation)\n",
    "        self.wait(1)\n",
    "\n",
    "        # Add the text\n",
    "        text_spongebob = Text(\"Spongebob\", color = BLACK).next_to(spongebob, UP)\n",
    "        text_patrick = Text(\"Patrick\", color = BLACK).next_to(patrick, UP)\n",
    "        self.play(Write(text_patrick), Write(text_spongebob))\n",
    "        self.wait(3)\n",
    "        self.play(FadeOut(text_patrick), FadeOut(text_spongebob))\n",
    "\n",
    "        # Define the mountainside\n",
    "        def custom_func(x):\n",
    "            return np.where(x < 1, 1, np.where(1 <= x < 2, -x + 2, 0))\n",
    "\n",
    "        custom_graph = FunctionGraph(\n",
    "            custom_func,\n",
    "            color=BLACK,\n",
    "            x_range=[0, 3]\n",
    "        ).scale(1.5)\n",
    "\n",
    "        # Define the tracks for the other car so its visible\n",
    "        def custom_func2(x):\n",
    "            return np.where(x < 1, 1, np.where(1 <= x < 2, -x + 2, 0))\n",
    "\n",
    "        custom_graph2 = FunctionGraph(\n",
    "            custom_func2,\n",
    "            color=GRAY_A,\n",
    "            x_range=[0, 3]\n",
    "        ).scale(1.5)\n",
    "        graph_label = Text(\"Let's do a race\", color=BLACK, font_size = 20).next_to(custom_graph, DOWN * 3)\n",
    "\n",
    "        custom_graph.center()\n",
    "        custom_graph2.center()\n",
    "        custom_graph2.shift(UP * 0.2)\n",
    "\n",
    "        # Move the images to the top left corner\n",
    "        spongebob_animation_to_corner = AnimationGroup(\n",
    "            spongebob.animate.move_to(custom_graph.points[0] + LEFT + UP/2).scale(0.3),\n",
    "        )\n",
    "\n",
    "        patrick_animation_to_corner = AnimationGroup(\n",
    "            patrick.animate.move_to(custom_graph.points[0] + 2/3* UP + 1/3 * LEFT).scale(0.3),\n",
    "        )\n",
    "\n",
    "        # Group the animations together and add lag\n",
    "        animations = AnimationGroup(\n",
    "            spongebob_animation_to_corner,\n",
    "            patrick_animation_to_corner,\n",
    "            lag_ratio=0.5  \n",
    "        )\n",
    "\n",
    "        # Add the animations to the scene\n",
    "        self.play(animations)\n",
    "        self.play(self.camera.frame.animate.set(width=custom_graph.get_width() * 1.8))\n",
    "        self.play(Create(custom_graph), Create(custom_graph2), Write(graph_label))\n",
    "        self.wait(3)\n",
    "        self.play(FadeOut(graph_label))\n",
    "        self.wait(1)\n",
    "\n",
    "        # Add the racecars\n",
    "        racecar1 = ImageMobject(\"img\\RaceCar.png\")\n",
    "        racecar2 = ImageMobject(\"img\\RaceCar.png\")\n",
    "        racecar1.scale(0.2)\n",
    "        racecar2.scale(0.2)\n",
    "        racecar1.move_to(custom_graph.points[0])\n",
    "        racecar2.move_to(custom_graph2.points[0])\n",
    "\n",
    "        # # Add the finish flag\n",
    "        # finish_flag = ImageMobject(\"img\\rennflagge.png\")\n",
    "        # finish_flag.scale(0.1)\n",
    "        # finish_flag.move_to(custom_graph.points[-1]).scale(0.3)\n",
    "\n",
    "        # Play the race\n",
    "        self.play(FadeIn(racecar1), FadeIn(racecar2))\n",
    "        self.wait(1)\n",
    "        self.play(MoveAlongPath(racecar1, custom_graph, rate_func=smooth), MoveAlongPath(racecar2, custom_graph2, rate_func=smooth), run_time=2)\n",
    "        self.wait(1)\n",
    "\n",
    "        # Next up : Woahh, both arrive at the same time \n",
    "        graph_label2 = Text(\"Both arrive at the same time!\", color=BLACK, font_size= 20).next_to(custom_graph, DOWN)\n",
    "        self.play(Write(graph_label2))\n",
    "        self.wait(1)\n",
    "        \n",
    "        # Add all objects to a list\n",
    "        objects = [spongebob, patrick, custom_graph, custom_graph2, racecar1, racecar2, graph_label2]\n",
    "\n",
    "        # Fade out all objects\n",
    "        self.play(*[FadeOut(obj) for obj in objects])"
   ]
  }
 ],
 "metadata": {
  "kernelspec": {
   "display_name": "Python 3",
   "language": "python",
   "name": "python3"
  },
  "language_info": {
   "codemirror_mode": {
    "name": "ipython",
    "version": 3
   },
   "file_extension": ".py",
   "mimetype": "text/x-python",
   "name": "python",
   "nbconvert_exporter": "python",
   "pygments_lexer": "ipython3",
   "version": "3.10.11"
  }
 },
 "nbformat": 4,
 "nbformat_minor": 2
}
