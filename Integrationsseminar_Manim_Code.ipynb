{
 "cells": [
  {
   "cell_type": "code",
   "execution_count": 118,
   "metadata": {},
   "outputs": [],
   "source": [
    "from manim import *"
   ]
  },
  {
   "cell_type": "markdown",
   "metadata": {},
   "source": [
    "# Scene: Shortest Time and Brachistochrone"
   ]
  },
  {
   "cell_type": "code",
   "execution_count": 119,
   "metadata": {},
   "outputs": [
    {
     "name": "stderr",
     "output_type": "stream",
     "text": [
      "<string>:28: DeprecationWarning: This method is not guaranteed to stay around. Please prefer getting the attribute normally.\n",
      "                                                                                     \r"
     ]
    },
    {
     "data": {
      "text/html": [
       "<video src=\"media\\jupyter\\ColoredTextExample@2024-01-05@14-33-30.mp4\" controls autoplay loop style=\"max-width: 60%;\"  >\n",
       "      Your browser does not support the <code>video</code> element.\n",
       "    </video>"
      ],
      "text/plain": [
       "<IPython.core.display.Video object>"
      ]
     },
     "metadata": {},
     "output_type": "display_data"
    }
   ],
   "source": [
    "%%manim -ql -v WARNING ColoredTextExample\n",
    "\n",
    "class ColoredTextExample(MovingCameraScene):\n",
    "    def construct(self):\n",
    "        shortest_text = Text(\"SHORTEST\", color=GREEN)\n",
    "        time_text = Text(\"TIME?\", color=RED)\n",
    "        full_shortest_time_text = VGroup(shortest_text, time_text).arrange(RIGHT)\n",
    "\n",
    "        brachisto_text = Text(\"BRACHISTO\", color=GREEN)\n",
    "        brachisto_text.shift(UP + LEFT * 3)\n",
    "        chrone_text = Text(\"CHRONE\", color=RED)\n",
    "        chrone_text.shift(UP + RIGHT * 3)\n",
    "\n",
    "        diagonal_line_1 = Line(UP * 0.5 + LEFT * 0.5, DOWN * 0.5+ RIGHT * 0.5, color=BLACK).shift(LEFT * 3)\n",
    "        diagonal_line_2 = Line(UP * 0.5 + RIGHT * 0.5, DOWN * 0.5 + LEFT * 0.5, color=BLACK).shift(RIGHT * 3)\n",
    "\n",
    "        self.camera.background_color=WHITE\n",
    "        self.play(Write(full_shortest_time_text))\n",
    "        self.wait(2)\n",
    "        self.play(full_shortest_time_text.animate.shift(DOWN))\n",
    "        self.add(diagonal_line_1)\n",
    "        self.play(Write(brachisto_text))\n",
    "        self.wait(2)\n",
    "        self.add(diagonal_line_2)\n",
    "        self.play(Write(chrone_text))\n",
    "        self.wait(2)\n",
    "        self.play(FadeOut(diagonal_line_1), FadeOut(diagonal_line_2))\n",
    "        self.play(brachisto_text.animate.shift(RIGHT * 1.3), chrone_text.animate.shift(LEFT * 0.9))\n",
    "        self.play(self.camera.frame.animate.set(width=full_shortest_time_text.get_width() * 1.8))\n",
    "        self.wait(2)"
   ]
  },
  {
   "cell_type": "markdown",
   "metadata": {},
   "source": [
    "# Scene: \"Short and Steep\" Scale"
   ]
  },
  {
   "cell_type": "code",
   "execution_count": 120,
   "metadata": {},
   "outputs": [
    {
     "ename": "KeyboardInterrupt",
     "evalue": "",
     "output_type": "error",
     "traceback": [
      "\u001b[1;31m---------------------------------------------------------------------------\u001b[0m",
      "\u001b[1;31mKeyboardInterrupt\u001b[0m                         Traceback (most recent call last)",
      "Input \u001b[1;32mIn [120]\u001b[0m, in \u001b[0;36m<cell line: 1>\u001b[1;34m()\u001b[0m\n\u001b[1;32m----> 1\u001b[0m \u001b[43mget_ipython\u001b[49m\u001b[43m(\u001b[49m\u001b[43m)\u001b[49m\u001b[38;5;241;43m.\u001b[39;49m\u001b[43mrun_cell_magic\u001b[49m\u001b[43m(\u001b[49m\u001b[38;5;124;43m'\u001b[39;49m\u001b[38;5;124;43mmanim\u001b[39;49m\u001b[38;5;124;43m'\u001b[39;49m\u001b[43m,\u001b[49m\u001b[43m \u001b[49m\u001b[38;5;124;43m'\u001b[39;49m\u001b[38;5;124;43m-ql -v WARNING Scale1\u001b[39;49m\u001b[38;5;124;43m'\u001b[39;49m\u001b[43m,\u001b[49m\u001b[43m \u001b[49m\u001b[38;5;124;43m'\u001b[39;49m\u001b[38;5;130;43;01m\\n\u001b[39;49;00m\u001b[38;5;124;43mclass Scale1(Scene):\u001b[39;49m\u001b[38;5;130;43;01m\\n\u001b[39;49;00m\u001b[38;5;124;43m    def construct(self):\u001b[39;49m\u001b[38;5;130;43;01m\\n\u001b[39;49;00m\u001b[38;5;124;43m        # Erstelle die Waage\u001b[39;49m\u001b[38;5;130;43;01m\\n\u001b[39;49;00m\u001b[38;5;124;43m        short_text = Text(\u001b[39;49m\u001b[38;5;124;43m\"\u001b[39;49m\u001b[38;5;124;43mShort\u001b[39;49m\u001b[38;5;124;43m\"\u001b[39;49m\u001b[38;5;124;43m, color=GREEN).shift(LEFT * 3 + UP * 0.5)\u001b[39;49m\u001b[38;5;130;43;01m\\n\u001b[39;49;00m\u001b[38;5;124;43m        steep_text = Text(\u001b[39;49m\u001b[38;5;124;43m\"\u001b[39;49m\u001b[38;5;124;43mSteep\u001b[39;49m\u001b[38;5;124;43m\"\u001b[39;49m\u001b[38;5;124;43m, color=RED).shift(RIGHT * 3 + UP * 0.5)\u001b[39;49m\u001b[38;5;130;43;01m\\n\u001b[39;49;00m\u001b[38;5;124;43m        horizontal_line = Line(LEFT * 4, RIGHT * 4, color=BLACK)\u001b[39;49m\u001b[38;5;130;43;01m\\n\u001b[39;49;00m\u001b[38;5;124;43m        moving_object = VGroup(short_text, steep_text, horizontal_line)\u001b[39;49m\u001b[38;5;130;43;01m\\n\u001b[39;49;00m\u001b[38;5;124;43m        triangle = Polygon(LEFT * 2, RIGHT * 2, UP * 3, color=BLACK).shift(DOWN * 3)\u001b[39;49m\u001b[38;5;130;43;01m\\n\u001b[39;49;00m\u001b[38;5;130;43;01m\\n\u001b[39;49;00m\u001b[38;5;124;43m        self.camera.background_color=WHITE\u001b[39;49m\u001b[38;5;130;43;01m\\n\u001b[39;49;00m\u001b[38;5;124;43m        self.add(moving_object)\u001b[39;49m\u001b[38;5;130;43;01m\\n\u001b[39;49;00m\u001b[38;5;124;43m        self.add(triangle)\u001b[39;49m\u001b[38;5;130;43;01m\\n\u001b[39;49;00m\u001b[38;5;124;43m        self.play(Rotate(moving_object, angle=PI/12, about_point=ORIGIN, run_time=1))\u001b[39;49m\u001b[38;5;130;43;01m\\n\u001b[39;49;00m\u001b[38;5;124;43m        self.play(Rotate(moving_object, angle=-PI/7, about_point=ORIGIN, run_time=1))\u001b[39;49m\u001b[38;5;130;43;01m\\n\u001b[39;49;00m\u001b[38;5;124;43m        self.play(Rotate(moving_object, angle=PI/10, about_point=ORIGIN, run_time=1))\u001b[39;49m\u001b[38;5;130;43;01m\\n\u001b[39;49;00m\u001b[38;5;124;43m        self.play(Rotate(moving_object, angle=-PI/13, about_point=ORIGIN, run_time=1))\u001b[39;49m\u001b[38;5;130;43;01m\\n\u001b[39;49;00m\u001b[38;5;124;43m        self.play(Rotate(moving_object, angle=PI/15, about_point=ORIGIN, run_time=1))\u001b[39;49m\u001b[38;5;130;43;01m\\n\u001b[39;49;00m\u001b[38;5;124;43m        self.play(Rotate(moving_object, angle=-PI/18, about_point=ORIGIN, run_time=1))\u001b[39;49m\u001b[38;5;130;43;01m\\n\u001b[39;49;00m\u001b[38;5;124;43m        self.play(Rotate(moving_object, angle=PI/36, about_point=ORIGIN, run_time=1))\u001b[39;49m\u001b[38;5;130;43;01m\\n\u001b[39;49;00m\u001b[38;5;124;43m        self.wait(2)\u001b[39;49m\u001b[38;5;130;43;01m\\n\u001b[39;49;00m\u001b[38;5;124;43m'\u001b[39;49m\u001b[43m)\u001b[49m\n",
      "File \u001b[1;32mc:\\Users\\Asus\\AppData\\Local\\Programs\\Python\\Python310\\lib\\site-packages\\IPython\\core\\interactiveshell.py:2357\u001b[0m, in \u001b[0;36mInteractiveShell.run_cell_magic\u001b[1;34m(self, magic_name, line, cell)\u001b[0m\n\u001b[0;32m   2355\u001b[0m \u001b[38;5;28;01mwith\u001b[39;00m \u001b[38;5;28mself\u001b[39m\u001b[38;5;241m.\u001b[39mbuiltin_trap:\n\u001b[0;32m   2356\u001b[0m     args \u001b[38;5;241m=\u001b[39m (magic_arg_s, cell)\n\u001b[1;32m-> 2357\u001b[0m     result \u001b[38;5;241m=\u001b[39m fn(\u001b[38;5;241m*\u001b[39margs, \u001b[38;5;241m*\u001b[39m\u001b[38;5;241m*\u001b[39mkwargs)\n\u001b[0;32m   2358\u001b[0m \u001b[38;5;28;01mreturn\u001b[39;00m result\n",
      "File \u001b[1;32mc:\\Users\\Asus\\AppData\\Local\\Programs\\Python\\Python310\\lib\\site-packages\\manim\\utils\\ipython_magic.py:141\u001b[0m, in \u001b[0;36mManimMagic.manim\u001b[1;34m(self, line, cell, local_ns)\u001b[0m\n\u001b[0;32m    139\u001b[0m     SceneClass \u001b[38;5;241m=\u001b[39m local_ns[config[\u001b[38;5;124m\"\u001b[39m\u001b[38;5;124mscene_names\u001b[39m\u001b[38;5;124m\"\u001b[39m][\u001b[38;5;241m0\u001b[39m]]\n\u001b[0;32m    140\u001b[0m     scene \u001b[38;5;241m=\u001b[39m SceneClass(renderer\u001b[38;5;241m=\u001b[39mrenderer)\n\u001b[1;32m--> 141\u001b[0m     \u001b[43mscene\u001b[49m\u001b[38;5;241;43m.\u001b[39;49m\u001b[43mrender\u001b[49m\u001b[43m(\u001b[49m\u001b[43m)\u001b[49m\n\u001b[0;32m    142\u001b[0m \u001b[38;5;28;01mfinally\u001b[39;00m:\n\u001b[0;32m    143\u001b[0m     \u001b[38;5;66;03m# Shader cache becomes invalid as the context is destroyed\u001b[39;00m\n\u001b[0;32m    144\u001b[0m     shader_program_cache\u001b[38;5;241m.\u001b[39mclear()\n",
      "File \u001b[1;32mc:\\Users\\Asus\\AppData\\Local\\Programs\\Python\\Python310\\lib\\site-packages\\manim\\scene\\scene.py:223\u001b[0m, in \u001b[0;36mScene.render\u001b[1;34m(self, preview)\u001b[0m\n\u001b[0;32m    221\u001b[0m \u001b[38;5;28mself\u001b[39m\u001b[38;5;241m.\u001b[39msetup()\n\u001b[0;32m    222\u001b[0m \u001b[38;5;28;01mtry\u001b[39;00m:\n\u001b[1;32m--> 223\u001b[0m     \u001b[38;5;28;43mself\u001b[39;49m\u001b[38;5;241;43m.\u001b[39;49m\u001b[43mconstruct\u001b[49m\u001b[43m(\u001b[49m\u001b[43m)\u001b[49m\n\u001b[0;32m    224\u001b[0m \u001b[38;5;28;01mexcept\u001b[39;00m EndSceneEarlyException:\n\u001b[0;32m    225\u001b[0m     \u001b[38;5;28;01mpass\u001b[39;00m\n",
      "File \u001b[1;32m<string>:14\u001b[0m, in \u001b[0;36mconstruct\u001b[1;34m(self)\u001b[0m\n",
      "File \u001b[1;32mc:\\Users\\Asus\\AppData\\Local\\Programs\\Python\\Python310\\lib\\site-packages\\manim\\scene\\scene.py:1080\u001b[0m, in \u001b[0;36mScene.play\u001b[1;34m(self, subcaption, subcaption_duration, subcaption_offset, *args, **kwargs)\u001b[0m\n\u001b[0;32m   1077\u001b[0m     \u001b[38;5;28;01mreturn\u001b[39;00m\n\u001b[0;32m   1079\u001b[0m start_time \u001b[38;5;241m=\u001b[39m \u001b[38;5;28mself\u001b[39m\u001b[38;5;241m.\u001b[39mrenderer\u001b[38;5;241m.\u001b[39mtime\n\u001b[1;32m-> 1080\u001b[0m \u001b[38;5;28mself\u001b[39m\u001b[38;5;241m.\u001b[39mrenderer\u001b[38;5;241m.\u001b[39mplay(\u001b[38;5;28mself\u001b[39m, \u001b[38;5;241m*\u001b[39margs, \u001b[38;5;241m*\u001b[39m\u001b[38;5;241m*\u001b[39mkwargs)\n\u001b[0;32m   1081\u001b[0m run_time \u001b[38;5;241m=\u001b[39m \u001b[38;5;28mself\u001b[39m\u001b[38;5;241m.\u001b[39mrenderer\u001b[38;5;241m.\u001b[39mtime \u001b[38;5;241m-\u001b[39m start_time\n\u001b[0;32m   1082\u001b[0m \u001b[38;5;28;01mif\u001b[39;00m subcaption:\n",
      "File \u001b[1;32mc:\\Users\\Asus\\AppData\\Local\\Programs\\Python\\Python310\\lib\\site-packages\\manim\\renderer\\cairo_renderer.py:71\u001b[0m, in \u001b[0;36mCairoRenderer.play\u001b[1;34m(self, scene, *args, **kwargs)\u001b[0m\n\u001b[0;32m     69\u001b[0m     hash_current_animation \u001b[38;5;241m=\u001b[39m \u001b[38;5;124mf\u001b[39m\u001b[38;5;124m\"\u001b[39m\u001b[38;5;124muncached_\u001b[39m\u001b[38;5;132;01m{\u001b[39;00m\u001b[38;5;28mself\u001b[39m\u001b[38;5;241m.\u001b[39mnum_plays\u001b[38;5;132;01m:\u001b[39;00m\u001b[38;5;124m05\u001b[39m\u001b[38;5;132;01m}\u001b[39;00m\u001b[38;5;124m\"\u001b[39m\n\u001b[0;32m     70\u001b[0m \u001b[38;5;28;01melse\u001b[39;00m:\n\u001b[1;32m---> 71\u001b[0m     hash_current_animation \u001b[38;5;241m=\u001b[39m \u001b[43mget_hash_from_play_call\u001b[49m\u001b[43m(\u001b[49m\n\u001b[0;32m     72\u001b[0m \u001b[43m        \u001b[49m\u001b[43mscene\u001b[49m\u001b[43m,\u001b[49m\n\u001b[0;32m     73\u001b[0m \u001b[43m        \u001b[49m\u001b[38;5;28;43mself\u001b[39;49m\u001b[38;5;241;43m.\u001b[39;49m\u001b[43mcamera\u001b[49m\u001b[43m,\u001b[49m\n\u001b[0;32m     74\u001b[0m \u001b[43m        \u001b[49m\u001b[43mscene\u001b[49m\u001b[38;5;241;43m.\u001b[39;49m\u001b[43manimations\u001b[49m\u001b[43m,\u001b[49m\n\u001b[0;32m     75\u001b[0m \u001b[43m        \u001b[49m\u001b[43mscene\u001b[49m\u001b[38;5;241;43m.\u001b[39;49m\u001b[43mmobjects\u001b[49m\u001b[43m,\u001b[49m\n\u001b[0;32m     76\u001b[0m \u001b[43m    \u001b[49m\u001b[43m)\u001b[49m\n\u001b[0;32m     77\u001b[0m     \u001b[38;5;28;01mif\u001b[39;00m \u001b[38;5;28mself\u001b[39m\u001b[38;5;241m.\u001b[39mfile_writer\u001b[38;5;241m.\u001b[39mis_already_cached(hash_current_animation):\n\u001b[0;32m     78\u001b[0m         logger\u001b[38;5;241m.\u001b[39minfo(\n\u001b[0;32m     79\u001b[0m             \u001b[38;5;124mf\u001b[39m\u001b[38;5;124m\"\u001b[39m\u001b[38;5;124mAnimation \u001b[39m\u001b[38;5;132;01m{\u001b[39;00m\u001b[38;5;28mself\u001b[39m\u001b[38;5;241m.\u001b[39mnum_plays\u001b[38;5;132;01m}\u001b[39;00m\u001b[38;5;124m : Using cached data (hash : %(hash_current_animation)s)\u001b[39m\u001b[38;5;124m\"\u001b[39m,\n\u001b[0;32m     80\u001b[0m             {\u001b[38;5;124m\"\u001b[39m\u001b[38;5;124mhash_current_animation\u001b[39m\u001b[38;5;124m\"\u001b[39m: hash_current_animation},\n\u001b[0;32m     81\u001b[0m         )\n",
      "File \u001b[1;32mc:\\Users\\Asus\\AppData\\Local\\Programs\\Python\\Python310\\lib\\site-packages\\manim\\utils\\hashing.py:354\u001b[0m, in \u001b[0;36mget_hash_from_play_call\u001b[1;34m(scene_object, camera_object, animations_list, current_mobjects_list)\u001b[0m\n\u001b[0;32m    352\u001b[0m _Memoizer\u001b[38;5;241m.\u001b[39mmark_as_processed(scene_object)\n\u001b[0;32m    353\u001b[0m camera_json \u001b[38;5;241m=\u001b[39m get_json(camera_object)\n\u001b[1;32m--> 354\u001b[0m animations_list_json \u001b[38;5;241m=\u001b[39m [get_json(x) \u001b[38;5;28;01mfor\u001b[39;00m x \u001b[38;5;129;01min\u001b[39;00m \u001b[38;5;28msorted\u001b[39m(animations_list, key\u001b[38;5;241m=\u001b[39m\u001b[38;5;28mstr\u001b[39m)]\n\u001b[0;32m    355\u001b[0m current_mobjects_list_json \u001b[38;5;241m=\u001b[39m [get_json(x) \u001b[38;5;28;01mfor\u001b[39;00m x \u001b[38;5;129;01min\u001b[39;00m current_mobjects_list]\n\u001b[0;32m    356\u001b[0m hash_camera, hash_animations, hash_current_mobjects \u001b[38;5;241m=\u001b[39m (\n\u001b[0;32m    357\u001b[0m     zlib\u001b[38;5;241m.\u001b[39mcrc32(\u001b[38;5;28mrepr\u001b[39m(json_val)\u001b[38;5;241m.\u001b[39mencode())\n\u001b[0;32m    358\u001b[0m     \u001b[38;5;28;01mfor\u001b[39;00m json_val \u001b[38;5;129;01min\u001b[39;00m [camera_json, animations_list_json, current_mobjects_list_json]\n\u001b[0;32m    359\u001b[0m )\n",
      "File \u001b[1;32mc:\\Users\\Asus\\AppData\\Local\\Programs\\Python\\Python310\\lib\\site-packages\\manim\\utils\\hashing.py:354\u001b[0m, in \u001b[0;36m<listcomp>\u001b[1;34m(.0)\u001b[0m\n\u001b[0;32m    352\u001b[0m _Memoizer\u001b[38;5;241m.\u001b[39mmark_as_processed(scene_object)\n\u001b[0;32m    353\u001b[0m camera_json \u001b[38;5;241m=\u001b[39m get_json(camera_object)\n\u001b[1;32m--> 354\u001b[0m animations_list_json \u001b[38;5;241m=\u001b[39m [\u001b[43mget_json\u001b[49m\u001b[43m(\u001b[49m\u001b[43mx\u001b[49m\u001b[43m)\u001b[49m \u001b[38;5;28;01mfor\u001b[39;00m x \u001b[38;5;129;01min\u001b[39;00m \u001b[38;5;28msorted\u001b[39m(animations_list, key\u001b[38;5;241m=\u001b[39m\u001b[38;5;28mstr\u001b[39m)]\n\u001b[0;32m    355\u001b[0m current_mobjects_list_json \u001b[38;5;241m=\u001b[39m [get_json(x) \u001b[38;5;28;01mfor\u001b[39;00m x \u001b[38;5;129;01min\u001b[39;00m current_mobjects_list]\n\u001b[0;32m    356\u001b[0m hash_camera, hash_animations, hash_current_mobjects \u001b[38;5;241m=\u001b[39m (\n\u001b[0;32m    357\u001b[0m     zlib\u001b[38;5;241m.\u001b[39mcrc32(\u001b[38;5;28mrepr\u001b[39m(json_val)\u001b[38;5;241m.\u001b[39mencode())\n\u001b[0;32m    358\u001b[0m     \u001b[38;5;28;01mfor\u001b[39;00m json_val \u001b[38;5;129;01min\u001b[39;00m [camera_json, animations_list_json, current_mobjects_list_json]\n\u001b[0;32m    359\u001b[0m )\n",
      "File \u001b[1;32mc:\\Users\\Asus\\AppData\\Local\\Programs\\Python\\Python310\\lib\\site-packages\\manim\\utils\\hashing.py:320\u001b[0m, in \u001b[0;36mget_json\u001b[1;34m(obj)\u001b[0m\n\u001b[0;32m    307\u001b[0m \u001b[38;5;28;01mdef\u001b[39;00m \u001b[38;5;21mget_json\u001b[39m(obj: \u001b[38;5;28mdict\u001b[39m):\n\u001b[0;32m    308\u001b[0m \u001b[38;5;250m    \u001b[39m\u001b[38;5;124;03m\"\"\"Recursively serialize `object` to JSON using the :class:`CustomEncoder` class.\u001b[39;00m\n\u001b[0;32m    309\u001b[0m \n\u001b[0;32m    310\u001b[0m \u001b[38;5;124;03m    Parameters\u001b[39;00m\n\u001b[1;32m   (...)\u001b[0m\n\u001b[0;32m    318\u001b[0m \u001b[38;5;124;03m        The flattened object\u001b[39;00m\n\u001b[0;32m    319\u001b[0m \u001b[38;5;124;03m    \"\"\"\u001b[39;00m\n\u001b[1;32m--> 320\u001b[0m     \u001b[38;5;28;01mreturn\u001b[39;00m \u001b[43mjson\u001b[49m\u001b[38;5;241;43m.\u001b[39;49m\u001b[43mdumps\u001b[49m\u001b[43m(\u001b[49m\u001b[43mobj\u001b[49m\u001b[43m,\u001b[49m\u001b[43m \u001b[49m\u001b[38;5;28;43mcls\u001b[39;49m\u001b[38;5;241;43m=\u001b[39;49m\u001b[43m_CustomEncoder\u001b[49m\u001b[43m)\u001b[49m\n",
      "File \u001b[1;32mc:\\Users\\Asus\\AppData\\Local\\Programs\\Python\\Python310\\lib\\json\\__init__.py:238\u001b[0m, in \u001b[0;36mdumps\u001b[1;34m(obj, skipkeys, ensure_ascii, check_circular, allow_nan, cls, indent, separators, default, sort_keys, **kw)\u001b[0m\n\u001b[0;32m    232\u001b[0m \u001b[38;5;28;01mif\u001b[39;00m \u001b[38;5;28mcls\u001b[39m \u001b[38;5;129;01mis\u001b[39;00m \u001b[38;5;28;01mNone\u001b[39;00m:\n\u001b[0;32m    233\u001b[0m     \u001b[38;5;28mcls\u001b[39m \u001b[38;5;241m=\u001b[39m JSONEncoder\n\u001b[0;32m    234\u001b[0m \u001b[38;5;28;01mreturn\u001b[39;00m \u001b[38;5;28;43mcls\u001b[39;49m\u001b[43m(\u001b[49m\n\u001b[0;32m    235\u001b[0m \u001b[43m    \u001b[49m\u001b[43mskipkeys\u001b[49m\u001b[38;5;241;43m=\u001b[39;49m\u001b[43mskipkeys\u001b[49m\u001b[43m,\u001b[49m\u001b[43m \u001b[49m\u001b[43mensure_ascii\u001b[49m\u001b[38;5;241;43m=\u001b[39;49m\u001b[43mensure_ascii\u001b[49m\u001b[43m,\u001b[49m\n\u001b[0;32m    236\u001b[0m \u001b[43m    \u001b[49m\u001b[43mcheck_circular\u001b[49m\u001b[38;5;241;43m=\u001b[39;49m\u001b[43mcheck_circular\u001b[49m\u001b[43m,\u001b[49m\u001b[43m \u001b[49m\u001b[43mallow_nan\u001b[49m\u001b[38;5;241;43m=\u001b[39;49m\u001b[43mallow_nan\u001b[49m\u001b[43m,\u001b[49m\u001b[43m \u001b[49m\u001b[43mindent\u001b[49m\u001b[38;5;241;43m=\u001b[39;49m\u001b[43mindent\u001b[49m\u001b[43m,\u001b[49m\n\u001b[0;32m    237\u001b[0m \u001b[43m    \u001b[49m\u001b[43mseparators\u001b[49m\u001b[38;5;241;43m=\u001b[39;49m\u001b[43mseparators\u001b[49m\u001b[43m,\u001b[49m\u001b[43m \u001b[49m\u001b[43mdefault\u001b[49m\u001b[38;5;241;43m=\u001b[39;49m\u001b[43mdefault\u001b[49m\u001b[43m,\u001b[49m\u001b[43m \u001b[49m\u001b[43msort_keys\u001b[49m\u001b[38;5;241;43m=\u001b[39;49m\u001b[43msort_keys\u001b[49m\u001b[43m,\u001b[49m\n\u001b[1;32m--> 238\u001b[0m \u001b[43m    \u001b[49m\u001b[38;5;241;43m*\u001b[39;49m\u001b[38;5;241;43m*\u001b[39;49m\u001b[43mkw\u001b[49m\u001b[43m)\u001b[49m\u001b[38;5;241;43m.\u001b[39;49m\u001b[43mencode\u001b[49m\u001b[43m(\u001b[49m\u001b[43mobj\u001b[49m\u001b[43m)\u001b[49m\n",
      "File \u001b[1;32mc:\\Users\\Asus\\AppData\\Local\\Programs\\Python\\Python310\\lib\\site-packages\\manim\\utils\\hashing.py:304\u001b[0m, in \u001b[0;36m_CustomEncoder.encode\u001b[1;34m(self, obj)\u001b[0m\n\u001b[0;32m    302\u001b[0m \u001b[38;5;28;01mif\u001b[39;00m \u001b[38;5;28misinstance\u001b[39m(obj, (\u001b[38;5;28mdict\u001b[39m, \u001b[38;5;28mlist\u001b[39m, \u001b[38;5;28mtuple\u001b[39m)):\n\u001b[0;32m    303\u001b[0m     \u001b[38;5;28;01mreturn\u001b[39;00m \u001b[38;5;28msuper\u001b[39m()\u001b[38;5;241m.\u001b[39mencode(\u001b[38;5;28mself\u001b[39m\u001b[38;5;241m.\u001b[39m_cleaned_iterable(obj))\n\u001b[1;32m--> 304\u001b[0m \u001b[38;5;28;01mreturn\u001b[39;00m \u001b[38;5;28;43msuper\u001b[39;49m\u001b[43m(\u001b[49m\u001b[43m)\u001b[49m\u001b[38;5;241;43m.\u001b[39;49m\u001b[43mencode\u001b[49m\u001b[43m(\u001b[49m\u001b[43mobj\u001b[49m\u001b[43m)\u001b[49m\n",
      "File \u001b[1;32mc:\\Users\\Asus\\AppData\\Local\\Programs\\Python\\Python310\\lib\\json\\encoder.py:199\u001b[0m, in \u001b[0;36mJSONEncoder.encode\u001b[1;34m(self, o)\u001b[0m\n\u001b[0;32m    195\u001b[0m         \u001b[38;5;28;01mreturn\u001b[39;00m encode_basestring(o)\n\u001b[0;32m    196\u001b[0m \u001b[38;5;66;03m# This doesn't pass the iterator directly to ''.join() because the\u001b[39;00m\n\u001b[0;32m    197\u001b[0m \u001b[38;5;66;03m# exceptions aren't as detailed.  The list call should be roughly\u001b[39;00m\n\u001b[0;32m    198\u001b[0m \u001b[38;5;66;03m# equivalent to the PySequence_Fast that ''.join() would do.\u001b[39;00m\n\u001b[1;32m--> 199\u001b[0m chunks \u001b[38;5;241m=\u001b[39m \u001b[38;5;28;43mself\u001b[39;49m\u001b[38;5;241;43m.\u001b[39;49m\u001b[43miterencode\u001b[49m\u001b[43m(\u001b[49m\u001b[43mo\u001b[49m\u001b[43m,\u001b[49m\u001b[43m \u001b[49m\u001b[43m_one_shot\u001b[49m\u001b[38;5;241;43m=\u001b[39;49m\u001b[38;5;28;43;01mTrue\u001b[39;49;00m\u001b[43m)\u001b[49m\n\u001b[0;32m    200\u001b[0m \u001b[38;5;28;01mif\u001b[39;00m \u001b[38;5;129;01mnot\u001b[39;00m \u001b[38;5;28misinstance\u001b[39m(chunks, (\u001b[38;5;28mlist\u001b[39m, \u001b[38;5;28mtuple\u001b[39m)):\n\u001b[0;32m    201\u001b[0m     chunks \u001b[38;5;241m=\u001b[39m \u001b[38;5;28mlist\u001b[39m(chunks)\n",
      "File \u001b[1;32mc:\\Users\\Asus\\AppData\\Local\\Programs\\Python\\Python310\\lib\\json\\encoder.py:257\u001b[0m, in \u001b[0;36mJSONEncoder.iterencode\u001b[1;34m(self, o, _one_shot)\u001b[0m\n\u001b[0;32m    252\u001b[0m \u001b[38;5;28;01melse\u001b[39;00m:\n\u001b[0;32m    253\u001b[0m     _iterencode \u001b[38;5;241m=\u001b[39m _make_iterencode(\n\u001b[0;32m    254\u001b[0m         markers, \u001b[38;5;28mself\u001b[39m\u001b[38;5;241m.\u001b[39mdefault, _encoder, \u001b[38;5;28mself\u001b[39m\u001b[38;5;241m.\u001b[39mindent, floatstr,\n\u001b[0;32m    255\u001b[0m         \u001b[38;5;28mself\u001b[39m\u001b[38;5;241m.\u001b[39mkey_separator, \u001b[38;5;28mself\u001b[39m\u001b[38;5;241m.\u001b[39mitem_separator, \u001b[38;5;28mself\u001b[39m\u001b[38;5;241m.\u001b[39msort_keys,\n\u001b[0;32m    256\u001b[0m         \u001b[38;5;28mself\u001b[39m\u001b[38;5;241m.\u001b[39mskipkeys, _one_shot)\n\u001b[1;32m--> 257\u001b[0m \u001b[38;5;28;01mreturn\u001b[39;00m \u001b[43m_iterencode\u001b[49m\u001b[43m(\u001b[49m\u001b[43mo\u001b[49m\u001b[43m,\u001b[49m\u001b[43m \u001b[49m\u001b[38;5;241;43m0\u001b[39;49m\u001b[43m)\u001b[49m\n",
      "File \u001b[1;32mc:\\Users\\Asus\\AppData\\Local\\Programs\\Python\\Python310\\lib\\site-packages\\manim\\utils\\hashing.py:222\u001b[0m, in \u001b[0;36m_CustomEncoder.default\u001b[1;34m(self, obj)\u001b[0m\n\u001b[0;32m    220\u001b[0m         \u001b[38;5;28;01mreturn\u001b[39;00m \u001b[38;5;124mf\u001b[39m\u001b[38;5;124m\"\u001b[39m\u001b[38;5;124mTRUNCATED ARRAY: \u001b[39m\u001b[38;5;132;01m{\u001b[39;00m\u001b[38;5;28mrepr\u001b[39m(obj)\u001b[38;5;132;01m}\u001b[39;00m\u001b[38;5;124m\"\u001b[39m\n\u001b[0;32m    221\u001b[0m     \u001b[38;5;66;03m# We return the repr and not a list to avoid the JsonEncoder to iterate over it.\u001b[39;00m\n\u001b[1;32m--> 222\u001b[0m     \u001b[38;5;28;01mreturn\u001b[39;00m \u001b[38;5;28;43mrepr\u001b[39;49m\u001b[43m(\u001b[49m\u001b[43mobj\u001b[49m\u001b[43m)\u001b[49m\n\u001b[0;32m    223\u001b[0m \u001b[38;5;28;01melif\u001b[39;00m \u001b[38;5;28mhasattr\u001b[39m(obj, \u001b[38;5;124m\"\u001b[39m\u001b[38;5;124m__dict__\u001b[39m\u001b[38;5;124m\"\u001b[39m):\n\u001b[0;32m    224\u001b[0m     temp \u001b[38;5;241m=\u001b[39m \u001b[38;5;28mgetattr\u001b[39m(obj, \u001b[38;5;124m\"\u001b[39m\u001b[38;5;124m__dict__\u001b[39m\u001b[38;5;124m\"\u001b[39m)\n",
      "File \u001b[1;32mc:\\Users\\Asus\\AppData\\Local\\Programs\\Python\\Python310\\lib\\site-packages\\numpy\\core\\arrayprint.py:1488\u001b[0m, in \u001b[0;36m_array_repr_implementation\u001b[1;34m(arr, max_line_width, precision, suppress_small, array2string)\u001b[0m\n\u001b[0;32m   1486\u001b[0m     lst \u001b[38;5;241m=\u001b[39m \u001b[38;5;28mrepr\u001b[39m(arr\u001b[38;5;241m.\u001b[39mitem())\n\u001b[0;32m   1487\u001b[0m \u001b[38;5;28;01melif\u001b[39;00m arr\u001b[38;5;241m.\u001b[39msize \u001b[38;5;241m>\u001b[39m \u001b[38;5;241m0\u001b[39m \u001b[38;5;129;01mor\u001b[39;00m arr\u001b[38;5;241m.\u001b[39mshape \u001b[38;5;241m==\u001b[39m (\u001b[38;5;241m0\u001b[39m,):\n\u001b[1;32m-> 1488\u001b[0m     lst \u001b[38;5;241m=\u001b[39m \u001b[43marray2string\u001b[49m\u001b[43m(\u001b[49m\u001b[43marr\u001b[49m\u001b[43m,\u001b[49m\u001b[43m \u001b[49m\u001b[43mmax_line_width\u001b[49m\u001b[43m,\u001b[49m\u001b[43m \u001b[49m\u001b[43mprecision\u001b[49m\u001b[43m,\u001b[49m\u001b[43m \u001b[49m\u001b[43msuppress_small\u001b[49m\u001b[43m,\u001b[49m\n\u001b[0;32m   1489\u001b[0m \u001b[43m                       \u001b[49m\u001b[38;5;124;43m'\u001b[39;49m\u001b[38;5;124;43m, \u001b[39;49m\u001b[38;5;124;43m'\u001b[39;49m\u001b[43m,\u001b[49m\u001b[43m \u001b[49m\u001b[43mprefix\u001b[49m\u001b[43m,\u001b[49m\u001b[43m \u001b[49m\u001b[43msuffix\u001b[49m\u001b[38;5;241;43m=\u001b[39;49m\u001b[43msuffix\u001b[49m\u001b[43m)\u001b[49m\n\u001b[0;32m   1490\u001b[0m \u001b[38;5;28;01melse\u001b[39;00m:  \u001b[38;5;66;03m# show zero-length shape unless it is (0,)\u001b[39;00m\n\u001b[0;32m   1491\u001b[0m     lst \u001b[38;5;241m=\u001b[39m \u001b[38;5;124m\"\u001b[39m\u001b[38;5;124m[], shape=\u001b[39m\u001b[38;5;132;01m%s\u001b[39;00m\u001b[38;5;124m\"\u001b[39m \u001b[38;5;241m%\u001b[39m (\u001b[38;5;28mrepr\u001b[39m(arr\u001b[38;5;241m.\u001b[39mshape),)\n",
      "File \u001b[1;32mc:\\Users\\Asus\\AppData\\Local\\Programs\\Python\\Python310\\lib\\site-packages\\numpy\\core\\arrayprint.py:736\u001b[0m, in \u001b[0;36marray2string\u001b[1;34m(a, max_line_width, precision, suppress_small, separator, prefix, style, formatter, threshold, edgeitems, sign, floatmode, suffix, legacy)\u001b[0m\n\u001b[0;32m    733\u001b[0m \u001b[38;5;28;01mif\u001b[39;00m a\u001b[38;5;241m.\u001b[39msize \u001b[38;5;241m==\u001b[39m \u001b[38;5;241m0\u001b[39m:\n\u001b[0;32m    734\u001b[0m     \u001b[38;5;28;01mreturn\u001b[39;00m \u001b[38;5;124m\"\u001b[39m\u001b[38;5;124m[]\u001b[39m\u001b[38;5;124m\"\u001b[39m\n\u001b[1;32m--> 736\u001b[0m \u001b[38;5;28;01mreturn\u001b[39;00m \u001b[43m_array2string\u001b[49m\u001b[43m(\u001b[49m\u001b[43ma\u001b[49m\u001b[43m,\u001b[49m\u001b[43m \u001b[49m\u001b[43moptions\u001b[49m\u001b[43m,\u001b[49m\u001b[43m \u001b[49m\u001b[43mseparator\u001b[49m\u001b[43m,\u001b[49m\u001b[43m \u001b[49m\u001b[43mprefix\u001b[49m\u001b[43m)\u001b[49m\n",
      "File \u001b[1;32mc:\\Users\\Asus\\AppData\\Local\\Programs\\Python\\Python310\\lib\\site-packages\\numpy\\core\\arrayprint.py:513\u001b[0m, in \u001b[0;36m_recursive_guard.<locals>.decorating_function.<locals>.wrapper\u001b[1;34m(self, *args, **kwargs)\u001b[0m\n\u001b[0;32m    511\u001b[0m repr_running\u001b[38;5;241m.\u001b[39madd(key)\n\u001b[0;32m    512\u001b[0m \u001b[38;5;28;01mtry\u001b[39;00m:\n\u001b[1;32m--> 513\u001b[0m     \u001b[38;5;28;01mreturn\u001b[39;00m f(\u001b[38;5;28mself\u001b[39m, \u001b[38;5;241m*\u001b[39margs, \u001b[38;5;241m*\u001b[39m\u001b[38;5;241m*\u001b[39mkwargs)\n\u001b[0;32m    514\u001b[0m \u001b[38;5;28;01mfinally\u001b[39;00m:\n\u001b[0;32m    515\u001b[0m     repr_running\u001b[38;5;241m.\u001b[39mdiscard(key)\n",
      "File \u001b[1;32mc:\\Users\\Asus\\AppData\\Local\\Programs\\Python\\Python310\\lib\\site-packages\\numpy\\core\\arrayprint.py:546\u001b[0m, in \u001b[0;36m_array2string\u001b[1;34m(a, options, separator, prefix)\u001b[0m\n\u001b[0;32m    543\u001b[0m \u001b[38;5;66;03m# skip over array(\u001b[39;00m\n\u001b[0;32m    544\u001b[0m next_line_prefix \u001b[38;5;241m+\u001b[39m\u001b[38;5;241m=\u001b[39m \u001b[38;5;124m\"\u001b[39m\u001b[38;5;124m \u001b[39m\u001b[38;5;124m\"\u001b[39m\u001b[38;5;241m*\u001b[39m\u001b[38;5;28mlen\u001b[39m(prefix)\n\u001b[1;32m--> 546\u001b[0m lst \u001b[38;5;241m=\u001b[39m \u001b[43m_formatArray\u001b[49m\u001b[43m(\u001b[49m\u001b[43ma\u001b[49m\u001b[43m,\u001b[49m\u001b[43m \u001b[49m\u001b[43mformat_function\u001b[49m\u001b[43m,\u001b[49m\u001b[43m \u001b[49m\u001b[43moptions\u001b[49m\u001b[43m[\u001b[49m\u001b[38;5;124;43m'\u001b[39;49m\u001b[38;5;124;43mlinewidth\u001b[39;49m\u001b[38;5;124;43m'\u001b[39;49m\u001b[43m]\u001b[49m\u001b[43m,\u001b[49m\n\u001b[0;32m    547\u001b[0m \u001b[43m                   \u001b[49m\u001b[43mnext_line_prefix\u001b[49m\u001b[43m,\u001b[49m\u001b[43m \u001b[49m\u001b[43mseparator\u001b[49m\u001b[43m,\u001b[49m\u001b[43m \u001b[49m\u001b[43moptions\u001b[49m\u001b[43m[\u001b[49m\u001b[38;5;124;43m'\u001b[39;49m\u001b[38;5;124;43medgeitems\u001b[39;49m\u001b[38;5;124;43m'\u001b[39;49m\u001b[43m]\u001b[49m\u001b[43m,\u001b[49m\n\u001b[0;32m    548\u001b[0m \u001b[43m                   \u001b[49m\u001b[43msummary_insert\u001b[49m\u001b[43m,\u001b[49m\u001b[43m \u001b[49m\u001b[43moptions\u001b[49m\u001b[43m[\u001b[49m\u001b[38;5;124;43m'\u001b[39;49m\u001b[38;5;124;43mlegacy\u001b[39;49m\u001b[38;5;124;43m'\u001b[39;49m\u001b[43m]\u001b[49m\u001b[43m)\u001b[49m\n\u001b[0;32m    549\u001b[0m \u001b[38;5;28;01mreturn\u001b[39;00m lst\n",
      "File \u001b[1;32mc:\\Users\\Asus\\AppData\\Local\\Programs\\Python\\Python310\\lib\\site-packages\\numpy\\core\\arrayprint.py:889\u001b[0m, in \u001b[0;36m_formatArray\u001b[1;34m(a, format_function, line_width, next_line_prefix, separator, edge_items, summary_insert, legacy)\u001b[0m\n\u001b[0;32m    885\u001b[0m     \u001b[38;5;28;01mreturn\u001b[39;00m s\n\u001b[0;32m    887\u001b[0m \u001b[38;5;28;01mtry\u001b[39;00m:\n\u001b[0;32m    888\u001b[0m     \u001b[38;5;66;03m# invoke the recursive part with an initial index and prefix\u001b[39;00m\n\u001b[1;32m--> 889\u001b[0m     \u001b[38;5;28;01mreturn\u001b[39;00m \u001b[43mrecurser\u001b[49m\u001b[43m(\u001b[49m\u001b[43mindex\u001b[49m\u001b[38;5;241;43m=\u001b[39;49m\u001b[43m(\u001b[49m\u001b[43m)\u001b[49m\u001b[43m,\u001b[49m\n\u001b[0;32m    890\u001b[0m \u001b[43m                    \u001b[49m\u001b[43mhanging_indent\u001b[49m\u001b[38;5;241;43m=\u001b[39;49m\u001b[43mnext_line_prefix\u001b[49m\u001b[43m,\u001b[49m\n\u001b[0;32m    891\u001b[0m \u001b[43m                    \u001b[49m\u001b[43mcurr_width\u001b[49m\u001b[38;5;241;43m=\u001b[39;49m\u001b[43mline_width\u001b[49m\u001b[43m)\u001b[49m\n\u001b[0;32m    892\u001b[0m \u001b[38;5;28;01mfinally\u001b[39;00m:\n\u001b[0;32m    893\u001b[0m     \u001b[38;5;66;03m# recursive closures have a cyclic reference to themselves, which\u001b[39;00m\n\u001b[0;32m    894\u001b[0m     \u001b[38;5;66;03m# requires gc to collect (gh-10620). To avoid this problem, for\u001b[39;00m\n\u001b[0;32m    895\u001b[0m     \u001b[38;5;66;03m# performance and PyPy friendliness, we break the cycle:\u001b[39;00m\n\u001b[0;32m    896\u001b[0m     recurser \u001b[38;5;241m=\u001b[39m \u001b[38;5;28;01mNone\u001b[39;00m\n",
      "File \u001b[1;32mc:\\Users\\Asus\\AppData\\Local\\Programs\\Python\\Python310\\lib\\site-packages\\numpy\\core\\arrayprint.py:846\u001b[0m, in \u001b[0;36m_formatArray.<locals>.recurser\u001b[1;34m(index, hanging_indent, curr_width)\u001b[0m\n\u001b[0;32m    844\u001b[0m \u001b[38;5;28;01mfor\u001b[39;00m i \u001b[38;5;129;01min\u001b[39;00m \u001b[38;5;28mrange\u001b[39m(trailing_items, \u001b[38;5;241m1\u001b[39m, \u001b[38;5;241m-\u001b[39m\u001b[38;5;241m1\u001b[39m):\n\u001b[0;32m    845\u001b[0m     word \u001b[38;5;241m=\u001b[39m recurser(index \u001b[38;5;241m+\u001b[39m (\u001b[38;5;241m-\u001b[39mi,), next_hanging_indent, next_width)\n\u001b[1;32m--> 846\u001b[0m     s, line \u001b[38;5;241m=\u001b[39m \u001b[43m_extendLine_pretty\u001b[49m\u001b[43m(\u001b[49m\n\u001b[0;32m    847\u001b[0m \u001b[43m        \u001b[49m\u001b[43ms\u001b[49m\u001b[43m,\u001b[49m\u001b[43m \u001b[49m\u001b[43mline\u001b[49m\u001b[43m,\u001b[49m\u001b[43m \u001b[49m\u001b[43mword\u001b[49m\u001b[43m,\u001b[49m\u001b[43m \u001b[49m\u001b[43melem_width\u001b[49m\u001b[43m,\u001b[49m\u001b[43m \u001b[49m\u001b[43mhanging_indent\u001b[49m\u001b[43m,\u001b[49m\u001b[43m \u001b[49m\u001b[43mlegacy\u001b[49m\u001b[43m)\u001b[49m\n\u001b[0;32m    848\u001b[0m     line \u001b[38;5;241m+\u001b[39m\u001b[38;5;241m=\u001b[39m separator\n\u001b[0;32m    850\u001b[0m \u001b[38;5;28;01mif\u001b[39;00m legacy \u001b[38;5;241m<\u001b[39m\u001b[38;5;241m=\u001b[39m \u001b[38;5;241m113\u001b[39m:\n\u001b[0;32m    851\u001b[0m     \u001b[38;5;66;03m# width of the separator is not considered on 1.13\u001b[39;00m\n",
      "File \u001b[1;32mc:\\Users\\Asus\\AppData\\Local\\Programs\\Python\\Python310\\lib\\site-packages\\numpy\\core\\arrayprint.py:759\u001b[0m, in \u001b[0;36m_extendLine_pretty\u001b[1;34m(s, line, word, line_width, next_line_prefix, legacy)\u001b[0m\n\u001b[0;32m    757\u001b[0m words \u001b[38;5;241m=\u001b[39m word\u001b[38;5;241m.\u001b[39msplitlines()\n\u001b[0;32m    758\u001b[0m \u001b[38;5;28;01mif\u001b[39;00m \u001b[38;5;28mlen\u001b[39m(words) \u001b[38;5;241m==\u001b[39m \u001b[38;5;241m1\u001b[39m \u001b[38;5;129;01mor\u001b[39;00m legacy \u001b[38;5;241m<\u001b[39m\u001b[38;5;241m=\u001b[39m \u001b[38;5;241m113\u001b[39m:\n\u001b[1;32m--> 759\u001b[0m     \u001b[38;5;28;01mreturn\u001b[39;00m \u001b[43m_extendLine\u001b[49m\u001b[43m(\u001b[49m\u001b[43ms\u001b[49m\u001b[43m,\u001b[49m\u001b[43m \u001b[49m\u001b[43mline\u001b[49m\u001b[43m,\u001b[49m\u001b[43m \u001b[49m\u001b[43mword\u001b[49m\u001b[43m,\u001b[49m\u001b[43m \u001b[49m\u001b[43mline_width\u001b[49m\u001b[43m,\u001b[49m\u001b[43m \u001b[49m\u001b[43mnext_line_prefix\u001b[49m\u001b[43m,\u001b[49m\u001b[43m \u001b[49m\u001b[43mlegacy\u001b[49m\u001b[43m)\u001b[49m\n\u001b[0;32m    761\u001b[0m max_word_length \u001b[38;5;241m=\u001b[39m \u001b[38;5;28mmax\u001b[39m(\u001b[38;5;28mlen\u001b[39m(word) \u001b[38;5;28;01mfor\u001b[39;00m word \u001b[38;5;129;01min\u001b[39;00m words)\n\u001b[0;32m    762\u001b[0m \u001b[38;5;28;01mif\u001b[39;00m (\u001b[38;5;28mlen\u001b[39m(line) \u001b[38;5;241m+\u001b[39m max_word_length \u001b[38;5;241m>\u001b[39m line_width \u001b[38;5;129;01mand\u001b[39;00m\n\u001b[0;32m    763\u001b[0m         \u001b[38;5;28mlen\u001b[39m(line) \u001b[38;5;241m>\u001b[39m \u001b[38;5;28mlen\u001b[39m(next_line_prefix)):\n",
      "File \u001b[1;32mc:\\Users\\Asus\\AppData\\Local\\Programs\\Python\\Python310\\lib\\site-packages\\numpy\\core\\arrayprint.py:739\u001b[0m, in \u001b[0;36m_extendLine\u001b[1;34m(s, line, word, line_width, next_line_prefix, legacy)\u001b[0m\n\u001b[0;32m    734\u001b[0m         \u001b[38;5;28;01mreturn\u001b[39;00m \u001b[38;5;124m\"\u001b[39m\u001b[38;5;124m[]\u001b[39m\u001b[38;5;124m\"\u001b[39m\n\u001b[0;32m    736\u001b[0m     \u001b[38;5;28;01mreturn\u001b[39;00m _array2string(a, options, separator, prefix)\n\u001b[1;32m--> 739\u001b[0m \u001b[38;5;28;01mdef\u001b[39;00m \u001b[38;5;21m_extendLine\u001b[39m(s, line, word, line_width, next_line_prefix, legacy):\n\u001b[0;32m    740\u001b[0m     needs_wrap \u001b[38;5;241m=\u001b[39m \u001b[38;5;28mlen\u001b[39m(line) \u001b[38;5;241m+\u001b[39m \u001b[38;5;28mlen\u001b[39m(word) \u001b[38;5;241m>\u001b[39m line_width\n\u001b[0;32m    741\u001b[0m     \u001b[38;5;28;01mif\u001b[39;00m legacy \u001b[38;5;241m>\u001b[39m \u001b[38;5;241m113\u001b[39m:\n\u001b[0;32m    742\u001b[0m         \u001b[38;5;66;03m# don't wrap lines if it won't help\u001b[39;00m\n",
      "File \u001b[1;32m_pydevd_bundle/pydevd_cython.pyx:1366\u001b[0m, in \u001b[0;36m_pydevd_bundle.pydevd_cython.SafeCallWrapper.__call__\u001b[1;34m()\u001b[0m\n",
      "File \u001b[1;32m_pydevd_bundle/pydevd_cython.pyx:1667\u001b[0m, in \u001b[0;36m_pydevd_bundle.pydevd_cython.ThreadTracer.__call__\u001b[1;34m()\u001b[0m\n",
      "File \u001b[1;32mc:\\Users\\Asus\\AppData\\Local\\Programs\\Python\\Python310\\lib\\site-packages\\debugpy\\_vendored\\pydevd\\_pydev_bundle\\pydev_is_thread_alive.py:9\u001b[0m, in \u001b[0;36mis_thread_alive\u001b[1;34m(t)\u001b[0m\n\u001b[0;32m      6\u001b[0m _temp \u001b[38;5;241m=\u001b[39m threading\u001b[38;5;241m.\u001b[39mThread()\n\u001b[0;32m      7\u001b[0m \u001b[38;5;28;01mif\u001b[39;00m \u001b[38;5;28mhasattr\u001b[39m(_temp, \u001b[38;5;124m'\u001b[39m\u001b[38;5;124m_is_stopped\u001b[39m\u001b[38;5;124m'\u001b[39m):  \u001b[38;5;66;03m# Python 3.x has this\u001b[39;00m\n\u001b[1;32m----> 9\u001b[0m     \u001b[38;5;28;01mdef\u001b[39;00m \u001b[38;5;21mis_thread_alive\u001b[39m(t):\n\u001b[0;32m     10\u001b[0m         \u001b[38;5;28;01mreturn\u001b[39;00m \u001b[38;5;129;01mnot\u001b[39;00m t\u001b[38;5;241m.\u001b[39m_is_stopped\n\u001b[0;32m     12\u001b[0m \u001b[38;5;28;01melif\u001b[39;00m \u001b[38;5;28mhasattr\u001b[39m(_temp, \u001b[38;5;124m'\u001b[39m\u001b[38;5;124m_Thread__stopped\u001b[39m\u001b[38;5;124m'\u001b[39m):  \u001b[38;5;66;03m# Python 2.x has this\u001b[39;00m\n",
      "\u001b[1;31mKeyboardInterrupt\u001b[0m: "
     ]
    }
   ],
   "source": [
    "%%manim -ql -v WARNING Scale1\n",
    "\n",
    "class Scale1(Scene):\n",
    "    def construct(self):\n",
    "        # Erstelle die Waage\n",
    "        short_text = Text(\"Short\", color=GREEN).shift(LEFT * 3 + UP * 0.5)\n",
    "        steep_text = Text(\"Steep\", color=RED).shift(RIGHT * 3 + UP * 0.5)\n",
    "        horizontal_line = Line(LEFT * 4, RIGHT * 4, color=BLACK)\n",
    "        moving_object = VGroup(short_text, steep_text, horizontal_line)\n",
    "        triangle = Polygon(LEFT * 2, RIGHT * 2, UP * 3, color=BLACK).shift(DOWN * 3)\n",
    "\n",
    "        self.camera.background_color=WHITE\n",
    "        self.add(moving_object)\n",
    "        self.add(triangle)\n",
    "        self.play(Rotate(moving_object, angle=PI/12, about_point=ORIGIN, run_time=1))\n",
    "        self.play(Rotate(moving_object, angle=-PI/7, about_point=ORIGIN, run_time=1))\n",
    "        self.play(Rotate(moving_object, angle=PI/10, about_point=ORIGIN, run_time=1))\n",
    "        self.play(Rotate(moving_object, angle=-PI/13, about_point=ORIGIN, run_time=1))\n",
    "        self.play(Rotate(moving_object, angle=PI/15, about_point=ORIGIN, run_time=1))\n",
    "        self.play(Rotate(moving_object, angle=-PI/18, about_point=ORIGIN, run_time=1))\n",
    "        self.play(Rotate(moving_object, angle=PI/36, about_point=ORIGIN, run_time=1))\n",
    "        self.wait(2)"
   ]
  },
  {
   "cell_type": "markdown",
   "metadata": {},
   "source": [
    "# Scene: \"Minimal Time in Water and Shortest Path\" Scale"
   ]
  },
  {
   "cell_type": "code",
   "execution_count": null,
   "metadata": {},
   "outputs": [
    {
     "name": "stderr",
     "output_type": "stream",
     "text": [
      "                                                                                             \r"
     ]
    },
    {
     "data": {
      "text/html": [
       "<video src=\"media\\jupyter\\Scale2@2024-01-05@10-46-42.mp4\" controls autoplay loop style=\"max-width: 60%;\"  >\n",
       "      Your browser does not support the <code>video</code> element.\n",
       "    </video>"
      ],
      "text/plain": [
       "<IPython.core.display.Video object>"
      ]
     },
     "metadata": {},
     "output_type": "display_data"
    }
   ],
   "source": [
    "%%manim -ql -v WARNING Scale2\n",
    "\n",
    "class Scale2(Scene):\n",
    "    def construct(self):\n",
    "        # Erstelle die Waage\n",
    "        water_text = Text(\"Minimal Time in Water\", color=GREEN).shift(LEFT * 2.5 + UP * 0.5)\n",
    "        path_text = Text(\"Shortest Path\", color=RED).shift(RIGHT * 3.5 + UP * 0.5)\n",
    "        water_text.scale(0.65)\n",
    "        path_text.scale(0.65)\n",
    "        horizontal_line = Line(LEFT * 5, RIGHT * 5, color=BLACK)\n",
    "        moving_object = VGroup(water_text, path_text, horizontal_line)\n",
    "        triangle = Polygon(LEFT * 2, RIGHT * 2, UP * 3, color=BLACK).shift(DOWN * 3)\n",
    "\n",
    "        self.camera.background_color=WHITE\n",
    "        self.add(moving_object)\n",
    "        self.add(triangle)\n",
    "        self.play(Rotate(moving_object, angle=PI/12, about_point=ORIGIN, run_time=1))\n",
    "        self.play(Rotate(moving_object, angle=-PI/7, about_point=ORIGIN, run_time=1))\n",
    "        self.play(Rotate(moving_object, angle=PI/10, about_point=ORIGIN, run_time=1))\n",
    "        self.play(Rotate(moving_object, angle=-PI/13, about_point=ORIGIN, run_time=1))\n",
    "        self.play(Rotate(moving_object, angle=PI/15, about_point=ORIGIN, run_time=1))\n",
    "        self.play(Rotate(moving_object, angle=-PI/18, about_point=ORIGIN, run_time=1))\n",
    "        self.play(Rotate(moving_object, angle=PI/36, about_point=ORIGIN, run_time=1))\n",
    "        self.wait(2)"
   ]
  },
  {
   "cell_type": "markdown",
   "metadata": {},
   "source": [
    "# Scene: StraightDownwardLine vs. Curved DownwardLine"
   ]
  },
  {
   "cell_type": "markdown",
   "metadata": {},
   "source": [
    "### Creation of StraightDownwardLine"
   ]
  },
  {
   "cell_type": "code",
   "execution_count": null,
   "metadata": {},
   "outputs": [
    {
     "name": "stderr",
     "output_type": "stream",
     "text": [
      "                                                                                  \r"
     ]
    },
    {
     "data": {
      "text/html": [
       "<video src=\"media\\jupyter\\StraightDownwardLine@2024-01-05@11-07-56.mp4\" controls autoplay loop style=\"max-width: 60%;\"  >\n",
       "      Your browser does not support the <code>video</code> element.\n",
       "    </video>"
      ],
      "text/plain": [
       "<IPython.core.display.Video object>"
      ]
     },
     "metadata": {},
     "output_type": "display_data"
    }
   ],
   "source": [
    "%%manim -ql -v WARNING StraightDownwardLine\n",
    "\n",
    "class StraightDownwardLine(Scene):\n",
    "    def construct(self):\n",
    "        ax = Axes(\n",
    "            x_range=[0, 10], y_range=[0, 10], axis_config={\"include_tip\": False}\n",
    "        )\n",
    "\n",
    "        t = ValueTracker(0)\n",
    "\n",
    "        def func(x):\n",
    "            return -x + 10\n",
    "        graph = ax.plot(func, color=RED)\n",
    "\n",
    "        initial_point = [ax.coords_to_point(t.get_value(), func(t.get_value()))]\n",
    "        dot = Dot(point=initial_point, color=GREEN)\n",
    "\n",
    "        dot.add_updater(lambda x: x.move_to(ax.c2p(t.get_value(), func(t.get_value()))))\n",
    "        x_space = np.linspace(*ax.x_range[:2],1000)\n",
    "        minimum_index = func(x_space).argmin()\n",
    "\n",
    "        self.camera.background_color=WHITE\n",
    "        self.play(Create(graph))\n",
    "        self.wait()\n",
    "        self.add(dot)\n",
    "        self.play(t.animate.set_value(x_space[minimum_index]), run_time=5)\n",
    "        self.wait()"
   ]
  },
  {
   "cell_type": "markdown",
   "metadata": {},
   "source": [
    "### Alternative to StraightDownwardLine with gravitational Speed"
   ]
  },
  {
   "cell_type": "code",
   "execution_count": null,
   "metadata": {},
   "outputs": [],
   "source": []
  },
  {
   "cell_type": "markdown",
   "metadata": {},
   "source": [
    "### Creation of CurvedDownwardLine"
   ]
  },
  {
   "cell_type": "code",
   "execution_count": null,
   "metadata": {},
   "outputs": [
    {
     "name": "stderr",
     "output_type": "stream",
     "text": [
      "                                                                                  \r"
     ]
    },
    {
     "data": {
      "text/html": [
       "<video src=\"media\\jupyter\\CurvedDownwardLine@2024-01-05@11-08-13.mp4\" controls autoplay loop style=\"max-width: 60%;\"  >\n",
       "      Your browser does not support the <code>video</code> element.\n",
       "    </video>"
      ],
      "text/plain": [
       "<IPython.core.display.Video object>"
      ]
     },
     "metadata": {},
     "output_type": "display_data"
    }
   ],
   "source": [
    "%%manim -ql -v WARNING CurvedDownwardLine\n",
    "\n",
    "class CurvedDownwardLine(Scene):\n",
    "    def construct(self):\n",
    "        ax2 = Axes(\n",
    "            x_range=[0.1, 10], y_range=[0, 10], axis_config={\"include_tip\": False}\n",
    "        )\n",
    "\n",
    "        t2 = ValueTracker(0.1)\n",
    "\n",
    "        def func2(y):\n",
    "            return (1/y)\n",
    "        graph2 = ax2.plot(func2, color=RED)\n",
    "\n",
    "        initial_point2 = [ax2.coords_to_point(t2.get_value(), func2(t2.get_value()))]\n",
    "        dot2 = Dot(point=initial_point2, color=GREEN)\n",
    "\n",
    "        dot2.add_updater(lambda y: y.move_to(ax2.c2p(t2.get_value(), func2(t2.get_value()))))\n",
    "        x_space = np.linspace(*ax2.x_range[:2],100)\n",
    "        minimum_index = func2(x_space).argmin()\n",
    "\n",
    "        self.camera.background_color=WHITE\n",
    "        self.play(Create(graph2))\n",
    "        self.wait()\n",
    "        self.add(dot2)\n",
    "        self.play(t2.animate.set_value(x_space[minimum_index]), run_time=5)\n",
    "        self.wait()"
   ]
  },
  {
   "cell_type": "markdown",
   "metadata": {},
   "source": [
    "### Combination of StraightDownwardLine and CurvedDownwardLine"
   ]
  },
  {
   "cell_type": "code",
   "execution_count": null,
   "metadata": {},
   "outputs": [
    {
     "name": "stderr",
     "output_type": "stream",
     "text": [
      "                                                                                        \r"
     ]
    },
    {
     "data": {
      "text/html": [
       "<video src=\"media\\jupyter\\StraightAndCurvedDownwardLine@2024-01-05@11-26-13.mp4\" controls autoplay loop style=\"max-width: 60%;\"  >\n",
       "      Your browser does not support the <code>video</code> element.\n",
       "    </video>"
      ],
      "text/plain": [
       "<IPython.core.display.Video object>"
      ]
     },
     "metadata": {},
     "output_type": "display_data"
    }
   ],
   "source": [
    "%%manim -ql -v WARNING StraightAndCurvedDownwardLine\n",
    "\n",
    "class StraightAndCurvedDownwardLine(Scene):\n",
    "    def construct(self):\n",
    "        \n",
    "        # StraightDownwardLine\n",
    "        ax1 = Axes(\n",
    "            x_range=[0, 10], y_range=[0, 10], axis_config={\"include_tip\": False}\n",
    "        )\n",
    "\n",
    "        t1 = ValueTracker(0)\n",
    "\n",
    "        def func1(x):\n",
    "            return -x + 10\n",
    "        graph1 = ax1.plot(func1, color=RED)\n",
    "\n",
    "        initial_point1 = [ax1.coords_to_point(t1.get_value(), func1(t1.get_value()))]\n",
    "        dot1 = Dot(point=initial_point1, color=GREEN)\n",
    "        dot1.scale(1.2)\n",
    "\n",
    "        dot1.add_updater(lambda x: x.move_to(ax1.c2p(t1.get_value(), func1(t1.get_value()))))\n",
    "        x_space = np.linspace(*ax1.x_range[:2],100)\n",
    "        minimum_index = func1(x_space).argmin()\n",
    "\n",
    "        # CurvedDownwardLine\n",
    "        ax2 = Axes(\n",
    "            x_range=[0.1, 10], y_range=[0, 10], axis_config={\"include_tip\": False}\n",
    "        )\n",
    "\n",
    "        t2 = ValueTracker(0.1)\n",
    "\n",
    "        def func2(y):\n",
    "            return (1/y)\n",
    "        graph2 = ax2.plot(func2, color=RED)\n",
    "\n",
    "        initial_point2 = [ax2.coords_to_point(t2.get_value(), func2(t2.get_value()))]\n",
    "        dot2 = Dot(point=initial_point2, color=GREEN)\n",
    "        dot2.scale(1.2)\n",
    "\n",
    "        dot2.add_updater(lambda y: y.move_to(ax2.c2p(t2.get_value(), func2(t2.get_value()))))\n",
    "        x_space = np.linspace(*ax2.x_range[:2],100)\n",
    "        minimum_index = func2(x_space).argmin()\n",
    "\n",
    "        self.camera.background_color=WHITE\n",
    "        self.add(graph1, dot1, graph2, dot2)\n",
    "        self.play(t1.animate.set_value(x_space[minimum_index]), t2.animate.set_value(x_space[minimum_index]), run_time=5)\n",
    "        self.wait()"
   ]
  },
  {
   "cell_type": "markdown",
   "metadata": {},
   "source": [
    "### Combination of StraightDownwardLine and CurvedDownwardLine with different Speeds"
   ]
  },
  {
   "cell_type": "code",
   "execution_count": null,
   "metadata": {},
   "outputs": [
    {
     "name": "stderr",
     "output_type": "stream",
     "text": [
      "                                                                                          \r"
     ]
    },
    {
     "data": {
      "text/html": [
       "<video src=\"media\\jupyter\\StraightAndCurvedDownwardLine@2024-01-05@11-37-33.mp4\" controls autoplay loop style=\"max-width: 60%;\"  >\n",
       "      Your browser does not support the <code>video</code> element.\n",
       "    </video>"
      ],
      "text/plain": [
       "<IPython.core.display.Video object>"
      ]
     },
     "metadata": {},
     "output_type": "display_data"
    }
   ],
   "source": [
    "%%manim -ql -v WARNING StraightAndCurvedDownwardLine\n",
    "\n",
    "class StraightAndCurvedDownwardLine(Scene):\n",
    "    def construct(self):\n",
    "        \n",
    "        # StraightDownwardLine\n",
    "        ax1 = Axes(\n",
    "            x_range=[0, 10], y_range=[0, 10], axis_config={\"include_tip\": False}\n",
    "        )\n",
    "\n",
    "        t1 = ValueTracker(0)\n",
    "\n",
    "        def func1(x):\n",
    "            return -x + 10\n",
    "        graph1 = ax1.plot(func1, color=RED)\n",
    "\n",
    "        initial_point1 = [ax1.coords_to_point(t1.get_value(), func1(t1.get_value()))]\n",
    "        dot1 = Dot(point=initial_point1, color=GREEN)\n",
    "        dot1.scale(1.2)\n",
    "\n",
    "        dot1.add_updater(lambda x: x.move_to(ax1.c2p(t1.get_value(), func1(t1.get_value()))))\n",
    "        x_space = np.linspace(*ax1.x_range[:2],100)\n",
    "        minimum_index = func1(x_space).argmin()\n",
    "\n",
    "        # CurvedDownwardLine\n",
    "        ax2 = Axes(\n",
    "            x_range=[0.1, 10], y_range=[0, 10], axis_config={\"include_tip\": False}\n",
    "        )\n",
    "\n",
    "        t2 = ValueTracker(0.1)\n",
    "\n",
    "        def func2(y):\n",
    "            return (1/y)\n",
    "        graph2 = ax2.plot(func2, color=RED)\n",
    "\n",
    "        initial_point2 = [ax2.coords_to_point(t2.get_value(), func2(t2.get_value()))]\n",
    "        dot2 = Dot(point=initial_point2, color=GREEN)\n",
    "        dot2.scale(1.2)\n",
    "\n",
    "        dot2.add_updater(lambda y: y.move_to(ax2.c2p(t2.get_value(), func2(t2.get_value()))))\n",
    "        x_space = np.linspace(*ax2.x_range[:2],100)\n",
    "        minimum_index = func2(x_space).argmin()\n",
    "\n",
    "        animation1 = AnimationGroup(\n",
    "            t1.animate.set_value(x_space[minimum_index]),\n",
    "            run_time=5\n",
    "        )\n",
    "\n",
    "        animation2 = AnimationGroup(\n",
    "            t2.animate.set_value(x_space[minimum_index]),\n",
    "            run_time=4.5\n",
    "        )\n",
    "\n",
    "        self.camera.background_color=WHITE\n",
    "        self.add(graph1, dot1, graph2, dot2)\n",
    "        self.play(animation1, animation2)\n",
    "        self.wait()"
   ]
  },
  {
   "cell_type": "markdown",
   "metadata": {},
   "source": [
    "### Combination of StraightDownwardLine and CurvedDownwardLine with different Speed and more features"
   ]
  },
  {
   "cell_type": "code",
   "execution_count": 129,
   "metadata": {},
   "outputs": [
    {
     "name": "stderr",
     "output_type": "stream",
     "text": [
      "                                                                                                         \r"
     ]
    },
    {
     "data": {
      "text/html": [
       "<video src=\"media\\jupyter\\StraightAndCurvedDownwardLine@2024-01-05@15-02-51.mp4\" controls autoplay loop style=\"max-width: 60%;\"  >\n",
       "      Your browser does not support the <code>video</code> element.\n",
       "    </video>"
      ],
      "text/plain": [
       "<IPython.core.display.Video object>"
      ]
     },
     "metadata": {},
     "output_type": "display_data"
    }
   ],
   "source": [
    "%%manim -ql -v WARNING StraightAndCurvedDownwardLine\n",
    "\n",
    "class StraightAndCurvedDownwardLine(Scene):\n",
    "    def construct(self):\n",
    "        # Definition der Hintergrundfarbe\n",
    "        self.camera.background_color=GRAY_A\n",
    "\n",
    "        # Erstellung  des Punktes 'A'\n",
    "        dotA = Dot(color=BLACK).scale(1.8)\n",
    "        dotA.move_to(UP * 3 + LEFT * 6)\n",
    "\n",
    "        A = Text(\"A\", color=BLACK)\n",
    "        A.next_to(dotA, UP, buff=0.2)\n",
    "\n",
    "        # Erstellung des Punktes 'B'\n",
    "        dotB = Dot(color=BLACK).scale(1.8)\n",
    "        dotB.move_to(DOWN * 3 + RIGHT * 6)\n",
    "\n",
    "        B = Text(\"B\", color=BLACK)\n",
    "        B.next_to(dotB, UP, buff=0.2)\n",
    "\n",
    "        # Erstellung der Texte\n",
    "        shortest_path_text = Text(\"This is the shortest path.\", color=BLACK).scale(0.5)\n",
    "        shortest_path_text.move_to(UP * 2.5 + RIGHT * 3)\n",
    "\n",
    "        question_text = Text (\"But is it also the fastest?\", color=BLACK).scale(0.5)\n",
    "        question_text.move_to(UP * 2 + RIGHT * 3)\n",
    "\n",
    "        # Erstellung der StraightDownwardLine\n",
    "        ax1 = Axes(\n",
    "            x_range=[0, 10], \n",
    "            y_range=[0, 10], \n",
    "            axis_config={\"include_tip\": False}\n",
    "        )\n",
    "\n",
    "        t1 = ValueTracker(0)\n",
    "\n",
    "        def func1(x):\n",
    "            return -x + 10\n",
    "        \n",
    "        graph1 = ax1.plot(func1, color=BLACK)\n",
    "\n",
    "        initial_point1 = [ax1.coords_to_point(t1.get_value(), func1(t1.get_value()))]\n",
    "        dot1 = Dot(point=initial_point1, color=GREEN)\n",
    "        dot1.scale(1.2)\n",
    "\n",
    "        dot1.add_updater(lambda x: x.move_to(ax1.c2p(t1.get_value(), func1(t1.get_value()))))\n",
    "        x_space = np.linspace(*ax1.x_range[:2],100)\n",
    "        minimum_index1 = func1(x_space).argmin()\n",
    "\n",
    "        # Erstellung der CurvedDownwardLine\n",
    "        ax2 = Axes(\n",
    "            x_range=[0.1, 10], y_range=[0, 10], axis_config={\"include_tip\": False}\n",
    "        )\n",
    "\n",
    "        t2 = ValueTracker(0.1)\n",
    "\n",
    "        def func2(y):\n",
    "            return (1/y)\n",
    "            \n",
    "        graph2 = ax2.plot(func2, color=BLACK)\n",
    "\n",
    "        initial_point2 = [ax2.coords_to_point(t2.get_value(), func2(t2.get_value()))]\n",
    "        dot2 = Dot(point=initial_point2, color=GREEN)\n",
    "        dot2.scale(1.2)\n",
    "\n",
    "        dot2.add_updater(lambda y: y.move_to(ax2.c2p(t2.get_value(), func2(t2.get_value()))))\n",
    "        x_space = np.linspace(*ax2.x_range[:2],100)\n",
    "        minimum_index = func2(x_space).argmin()\n",
    "\n",
    "        # Erstellung der Bewegung der Punkte mit unterschiedlichen Geschwindigkeiten\n",
    "        animation1 = AnimationGroup(\n",
    "            t1.animate.set_value(x_space[minimum_index]),\n",
    "            run_time=5\n",
    "        )\n",
    "\n",
    "        animation2 = AnimationGroup(\n",
    "            t2.animate.set_value(x_space[minimum_index]),\n",
    "            run_time=4.5\n",
    "        )\n",
    "        \n",
    "        # Initiierung der Abläufe\n",
    "        self.play(Create(dotA), Write(A))\n",
    "        self.wait(2)\n",
    "\n",
    "        self.play(Create(dotB))\n",
    "        self.play(dotB.animate.shift(LEFT * 12), run_time=4)\n",
    "        self.play(dotB.animate.shift(RIGHT * 12), run_time=0.5)\n",
    "        self.wait(2)\n",
    "        self.play(Write(B))\n",
    "        self.wait(10)\n",
    "\n",
    "        self.play(Create(graph1))\n",
    "        self.add(dot1)\n",
    "        self.play(animation1)\n",
    "        self.play(FadeOut(dot1))\n",
    "        \n",
    "        dot1.shift(UP * 6 + LEFT * 12)\n",
    "\n",
    "        self.play(Write(shortest_path_text))\n",
    "        self.wait(2)\n",
    "        self.play(Write(question_text))\n",
    "        self.wait(2)\n",
    "        self.play(FadeOut(shortest_path_text, question_text))\n",
    "        self.wait(2)\n",
    "        \n",
    "        self.play(Create(graph2))\n",
    "        self.add(dot1, dot2)\n",
    "        self.play(animation1, animation2)\n",
    "        self.wait()"
   ]
  },
  {
   "cell_type": "markdown",
   "metadata": {},
   "source": [
    "# Scene: LightThroughWater"
   ]
  },
  {
   "cell_type": "code",
   "execution_count": null,
   "metadata": {},
   "outputs": [
    {
     "data": {
      "text/html": [
       "<video src=\"media\\jupyter\\CustomizeRectangle@2024-01-05@10-47-38.mp4\" controls autoplay loop style=\"max-width: 60%;\"  >\n",
       "      Your browser does not support the <code>video</code> element.\n",
       "    </video>"
      ],
      "text/plain": [
       "<IPython.core.display.Video object>"
      ]
     },
     "metadata": {},
     "output_type": "display_data"
    }
   ],
   "source": [
    "%%manim -ql -v WARNING CustomizeRectangle\n",
    "\n",
    "class CustomizeRectangle(Scene):\n",
    "    def construct(self):\n",
    "        rectangle = Rectangle(width=15, height=7)\n",
    "        rectangle.set_stroke(color=BLUE, width=0)\n",
    "        rectangle.set_fill(BLUE, opacity=1)\n",
    "        rectangle.shift(DOWN * 3.25)\n",
    "        \n",
    "        self.camera.background_color=WHITE\n",
    "        self.add(rectangle)\n",
    "        self.wait(1)"
   ]
  },
  {
   "cell_type": "markdown",
   "metadata": {},
   "source": [
    "Hello everybody,\n",
    "\n",
    "my goal is, to first show a linear graph with a point moving on it from left to right. After the animation of the moving point has reached its end, the point shall disappear for a while, while the line remains.\n",
    "\n",
    "After that, a new line gets introduced and there should also be a point moving on it. However, the first point of the first line shall be introduced again, so that both points can now start at the same time, both on their respective line.\n",
    "\n",
    "I got everygthing set up. However, the first point always stays at the end of the initial animation. I tried to fade it out and shift it. I also tried it with move_to. I even tried introducing a third point to mimic the first one, so that the first one does not have to be introduced again.\n",
    "\n",
    "Do you have any idea on how to move the point from the end of the animation to its starting point while not being shown to the viewer?"
   ]
  }
 ],
 "metadata": {
  "kernelspec": {
   "display_name": "Python 3",
   "language": "python",
   "name": "python3"
  },
  "language_info": {
   "codemirror_mode": {
    "name": "ipython",
    "version": 3
   },
   "file_extension": ".py",
   "mimetype": "text/x-python",
   "name": "python",
   "nbconvert_exporter": "python",
   "pygments_lexer": "ipython3",
   "version": "3.10.4"
  }
 },
 "nbformat": 4,
 "nbformat_minor": 2
}
