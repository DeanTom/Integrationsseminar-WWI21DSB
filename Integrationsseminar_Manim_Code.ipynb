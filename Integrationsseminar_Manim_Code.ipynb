{
 "cells": [
  {
   "cell_type": "code",
   "execution_count": 2,
   "metadata": {},
   "outputs": [
    {
     "data": {
      "text/html": [
       "<pre style=\"white-space:pre;overflow-x:auto;line-height:normal;font-family:Menlo,'DejaVu Sans Mono',consolas,'Courier New',monospace\">Manim Community <span style=\"color: #008000; text-decoration-color: #008000\">v0.18.0</span>\n",
       "\n",
       "</pre>\n"
      ],
      "text/plain": [
       "Manim Community \u001b[32mv0.\u001b[0m\u001b[32m18.0\u001b[0m\n",
       "\n"
      ]
     },
     "metadata": {},
     "output_type": "display_data"
    }
   ],
   "source": [
    "from manim import *"
   ]
  },
  {
   "cell_type": "code",
   "execution_count": 3,
   "metadata": {},
   "outputs": [
    {
     "name": "stderr",
     "output_type": "stream",
     "text": [
      "                                                                                             \r"
     ]
    },
    {
     "data": {
      "text/html": [
       "<video src=\"media\\jupyter\\ColoredTextExample@2024-01-04@15-35-47.mp4\" controls autoplay loop style=\"max-width: 60%;\"  >\n",
       "      Your browser does not support the <code>video</code> element.\n",
       "    </video>"
      ],
      "text/plain": [
       "<IPython.core.display.Video object>"
      ]
     },
     "metadata": {},
     "output_type": "display_data"
    }
   ],
   "source": [
    "%%manim -ql -v WARNING ColoredTextExample\n",
    "\n",
    "class ColoredTextExample(Scene):\n",
    "    def construct(self):\n",
    "        shortest_text = Text(\"SHORTEST\", color=GREEN)\n",
    "        time_text = Text(\"TIME?\", color=RED)\n",
    "        full_shortest_time_text = VGroup(shortest_text, time_text).arrange(RIGHT)\n",
    "\n",
    "        brachisto_text = Text(\"BRACHISTO\", color=GREEN)\n",
    "        brachisto_text.shift(UP + LEFT * 3)\n",
    "        chrone_text = Text(\"CHRONE\", color=RED)\n",
    "        chrone_text.shift(UP + RIGHT * 3)\n",
    "\n",
    "        diagonal_line_1 = Line(UP * 0.5 + LEFT * 0.5, DOWN * 0.5+ RIGHT * 0.5, color=BLACK).shift(LEFT * 3)\n",
    "        diagonal_line_2 = Line(UP * 0.5 + RIGHT * 0.5, DOWN * 0.5 + LEFT * 0.5, color=BLACK).shift(RIGHT * 3)\n",
    "\n",
    "        self.camera.background_color=WHITE\n",
    "        self.play(Write(full_shortest_time_text))\n",
    "        self.wait(2)\n",
    "        self.play(full_shortest_time_text.animate.shift(DOWN))\n",
    "        self.add(diagonal_line_1)\n",
    "        self.play(Write(brachisto_text))\n",
    "        self.wait(2)\n",
    "        self.add(diagonal_line_2)\n",
    "        self.play(Write(chrone_text))\n",
    "        self.wait(2)\n",
    "        self.play(FadeOut(diagonal_line_1), FadeOut(diagonal_line_2))\n",
    "        self.play(brachisto_text.animate.shift(RIGHT * 1.1), chrone_text.animate.shift(LEFT * 1.1))\n",
    "        self.wait(2)"
   ]
  },
  {
   "cell_type": "code",
   "execution_count": 4,
   "metadata": {},
   "outputs": [
    {
     "name": "stderr",
     "output_type": "stream",
     "text": [
      "                                                                                              \r"
     ]
    },
    {
     "data": {
      "text/html": [
       "<video src=\"media\\jupyter\\Scale1@2024-01-04@15-35-50.mp4\" controls autoplay loop style=\"max-width: 60%;\"  >\n",
       "      Your browser does not support the <code>video</code> element.\n",
       "    </video>"
      ],
      "text/plain": [
       "<IPython.core.display.Video object>"
      ]
     },
     "metadata": {},
     "output_type": "display_data"
    }
   ],
   "source": [
    "%%manim -ql -v WARNING Scale1\n",
    "\n",
    "class Scale1(Scene):\n",
    "    def construct(self):\n",
    "        # Erstelle die Waage\n",
    "        short_text = Text(\"Short\", color=GREEN).shift(LEFT * 3 + UP * 0.5)\n",
    "        steep_text = Text(\"Steep\", color=RED).shift(RIGHT * 3 + UP * 0.5)\n",
    "        horizontal_line = Line(LEFT * 4, RIGHT * 4, color=BLACK)\n",
    "        moving_object = VGroup(short_text, steep_text, horizontal_line)\n",
    "        triangle = Polygon(LEFT * 2, RIGHT * 2, UP * 3, color=BLACK).shift(DOWN * 3)\n",
    "\n",
    "        self.camera.background_color=WHITE\n",
    "        self.add(moving_object)\n",
    "        self.add(triangle)\n",
    "        self.play(Rotate(moving_object, angle=PI/12, about_point=ORIGIN, run_time=1))\n",
    "        self.play(Rotate(moving_object, angle=-PI/7, about_point=ORIGIN, run_time=1))\n",
    "        self.play(Rotate(moving_object, angle=PI/10, about_point=ORIGIN, run_time=1))\n",
    "        self.play(Rotate(moving_object, angle=-PI/13, about_point=ORIGIN, run_time=1))\n",
    "        self.play(Rotate(moving_object, angle=PI/15, about_point=ORIGIN, run_time=1))\n",
    "        self.play(Rotate(moving_object, angle=-PI/18, about_point=ORIGIN, run_time=1))\n",
    "        self.play(Rotate(moving_object, angle=PI/36, about_point=ORIGIN, run_time=1))\n",
    "        self.wait(2)"
   ]
  },
  {
   "cell_type": "code",
   "execution_count": 22,
   "metadata": {},
   "outputs": [
    {
     "name": "stderr",
     "output_type": "stream",
     "text": [
      "                                                                                             \r"
     ]
    },
    {
     "data": {
      "text/html": [
       "<video src=\"media\\jupyter\\Scale2@2024-01-04@16-14-31.mp4\" controls autoplay loop style=\"max-width: 60%;\"  >\n",
       "      Your browser does not support the <code>video</code> element.\n",
       "    </video>"
      ],
      "text/plain": [
       "<IPython.core.display.Video object>"
      ]
     },
     "metadata": {},
     "output_type": "display_data"
    }
   ],
   "source": [
    "%%manim -ql -v WARNING Scale2\n",
    "\n",
    "class Scale2(Scene):\n",
    "    def construct(self):\n",
    "        # Erstelle die Waage\n",
    "        water_text = Text(\"Minimal Time in Water\", color=GREEN).shift(LEFT * 2.5 + UP * 0.5)\n",
    "        path_text = Text(\"Shortest Path\", color=RED).shift(RIGHT * 3.5 + UP * 0.5)\n",
    "        water_text.scale(0.65)\n",
    "        path_text.scale(0.65)\n",
    "        horizontal_line = Line(LEFT * 5, RIGHT * 5, color=BLACK)\n",
    "        moving_object = VGroup(water_text, path_text, horizontal_line)\n",
    "        triangle = Polygon(LEFT * 2, RIGHT * 2, UP * 3, color=BLACK).shift(DOWN * 3)\n",
    "\n",
    "        self.camera.background_color=WHITE\n",
    "        self.add(moving_object)\n",
    "        self.add(triangle)\n",
    "        self.play(Rotate(moving_object, angle=PI/12, about_point=ORIGIN, run_time=1))\n",
    "        self.play(Rotate(moving_object, angle=-PI/7, about_point=ORIGIN, run_time=1))\n",
    "        self.play(Rotate(moving_object, angle=PI/10, about_point=ORIGIN, run_time=1))\n",
    "        self.play(Rotate(moving_object, angle=-PI/13, about_point=ORIGIN, run_time=1))\n",
    "        self.play(Rotate(moving_object, angle=PI/15, about_point=ORIGIN, run_time=1))\n",
    "        self.play(Rotate(moving_object, angle=-PI/18, about_point=ORIGIN, run_time=1))\n",
    "        self.play(Rotate(moving_object, angle=PI/36, about_point=ORIGIN, run_time=1))\n",
    "        self.wait(2)"
   ]
  },
  {
   "cell_type": "code",
   "execution_count": 5,
   "metadata": {},
   "outputs": [
    {
     "name": "stderr",
     "output_type": "stream",
     "text": [
      "                                                                                  \r"
     ]
    },
    {
     "data": {
      "text/html": [
       "<video src=\"media\\jupyter\\StraightDownwardLine@2024-01-04@15-35-51.mp4\" controls autoplay loop style=\"max-width: 60%;\"  >\n",
       "      Your browser does not support the <code>video</code> element.\n",
       "    </video>"
      ],
      "text/plain": [
       "<IPython.core.display.Video object>"
      ]
     },
     "metadata": {},
     "output_type": "display_data"
    }
   ],
   "source": [
    "%%manim -ql -v WARNING StraightDownwardLine\n",
    "\n",
    "class StraightDownwardLine(Scene):\n",
    "    def construct(self):\n",
    "        ax = Axes(\n",
    "            x_range=[0, 10], y_range=[0, 10], axis_config={\"include_tip\": False}\n",
    "        )\n",
    "        labels = ax.get_axis_labels(x_label=\"x\", y_label=\"f(x)\")\n",
    "\n",
    "        t = ValueTracker(0)\n",
    "\n",
    "        def func(x):\n",
    "            return -x + 10\n",
    "        graph = ax.plot(func, color=RED)\n",
    "\n",
    "        initial_point = [ax.coords_to_point(t.get_value(), func(t.get_value()))]\n",
    "        dot = Dot(point=initial_point, color=GREEN)\n",
    "\n",
    "        dot.add_updater(lambda x: x.move_to(ax.c2p(t.get_value(), func(t.get_value()))))\n",
    "        x_space = np.linspace(*ax.x_range[:2],1000)\n",
    "        minimum_index = func(x_space).argmin()\n",
    "\n",
    "        self.camera.background_color=WHITE\n",
    "        self.add(graph, dot)\n",
    "        self.play(t.animate.set_value(x_space[minimum_index]), run_time=5)\n",
    "        self.wait()"
   ]
  },
  {
   "cell_type": "code",
   "execution_count": 26,
   "metadata": {},
   "outputs": [
    {
     "name": "stderr",
     "output_type": "stream",
     "text": [
      "                                                                                  \r"
     ]
    },
    {
     "data": {
      "text/html": [
       "<video src=\"media\\jupyter\\CurvedDownwardLine@2024-01-04@16-23-57.mp4\" controls autoplay loop style=\"max-width: 60%;\"  >\n",
       "      Your browser does not support the <code>video</code> element.\n",
       "    </video>"
      ],
      "text/plain": [
       "<IPython.core.display.Video object>"
      ]
     },
     "metadata": {},
     "output_type": "display_data"
    }
   ],
   "source": [
    "%%manim -ql -v WARNING CurvedDownwardLine\n",
    "\n",
    "class CurvedDownwardLine(Scene):\n",
    "    def construct(self):\n",
    "        ax2 = Axes(\n",
    "            x_range=[0.01, 10], y_range=[0, 1000], axis_config={\"include_tip\": False}\n",
    "        )\n",
    "        labels = ax2.get_axis_labels(x_label=\"x\", y_label=\"f(x)\")\n",
    "\n",
    "        t2 = ValueTracker(0.01)\n",
    "\n",
    "        def func2(y):\n",
    "            return (1/y)\n",
    "        graph2 = ax2.plot(func2, color=RED)\n",
    "\n",
    "        initial_point2 = [ax2.coords_to_point(t2.get_value(), func2(t2.get_value()))]\n",
    "        dot2 = Dot(point=initial_point2, color=GREEN)\n",
    "\n",
    "        dot2.add_updater(lambda y: y.move_to(ax2.c2p(t2.get_value(), func2(t2.get_value()))))\n",
    "        x_space = np.linspace(*ax2.x_range[:2],1000)\n",
    "        minimum_index = func2(x_space).argmin()\n",
    "\n",
    "        self.camera.background_color=WHITE\n",
    "        self.add(graph2, dot2)\n",
    "        self.play(t2.animate.set_value(x_space[minimum_index]), run_time=5)\n",
    "        self.wait()"
   ]
  },
  {
   "cell_type": "code",
   "execution_count": 7,
   "metadata": {},
   "outputs": [
    {
     "data": {
      "text/html": [
       "<video src=\"media\\jupyter\\CustomizeRectangle@2024-01-04@15-36-14.mp4\" controls autoplay loop style=\"max-width: 60%;\"  >\n",
       "      Your browser does not support the <code>video</code> element.\n",
       "    </video>"
      ],
      "text/plain": [
       "<IPython.core.display.Video object>"
      ]
     },
     "metadata": {},
     "output_type": "display_data"
    }
   ],
   "source": [
    "%%manim -ql -v WARNING CustomizeRectangle\n",
    "\n",
    "class CustomizeRectangle(Scene):\n",
    "    def construct(self):\n",
    "        rectangle = Rectangle(width=15, height=7)\n",
    "        rectangle.set_stroke(color=BLUE, width=0)\n",
    "        rectangle.set_fill(BLUE, opacity=1)\n",
    "        rectangle.shift(DOWN * 3.25)\n",
    "        \n",
    "        self.camera.background_color=WHITE\n",
    "        self.add(rectangle)\n",
    "        self.wait(1)"
   ]
  }
 ],
 "metadata": {
  "kernelspec": {
   "display_name": "Python 3",
   "language": "python",
   "name": "python3"
  },
  "language_info": {
   "codemirror_mode": {
    "name": "ipython",
    "version": 3
   },
   "file_extension": ".py",
   "mimetype": "text/x-python",
   "name": "python",
   "nbconvert_exporter": "python",
   "pygments_lexer": "ipython3",
   "version": "3.10.4"
  }
 },
 "nbformat": 4,
 "nbformat_minor": 2
}
