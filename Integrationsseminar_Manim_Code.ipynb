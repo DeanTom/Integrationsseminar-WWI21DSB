{
 "cells": [
  {
   "cell_type": "code",
   "execution_count": 2,
   "metadata": {},
   "outputs": [
    {
     "data": {
      "text/html": [
       "<pre style=\"white-space:pre;overflow-x:auto;line-height:normal;font-family:Menlo,'DejaVu Sans Mono',consolas,'Courier New',monospace\">Manim Community <span style=\"color: #008000; text-decoration-color: #008000\">v0.18.0</span>\n",
       "\n",
       "</pre>\n"
      ],
      "text/plain": [
       "Manim Community \u001b[32mv0.\u001b[0m\u001b[32m18.0\u001b[0m\n",
       "\n"
      ]
     },
     "metadata": {},
     "output_type": "display_data"
    }
   ],
   "source": [
    "from manim import *"
   ]
  },
  {
   "cell_type": "markdown",
   "metadata": {},
   "source": [
    "# Scene: Shortest Time and Brachistochrone"
   ]
  },
  {
   "cell_type": "code",
   "execution_count": 24,
   "metadata": {},
   "outputs": [
    {
     "name": "stderr",
     "output_type": "stream",
     "text": [
      "<string>:27: DeprecationWarning: This method is not guaranteed to stay around. Please prefer getting the attribute normally.\n",
      "                                                                                               \r"
     ]
    },
    {
     "data": {
      "text/html": [
       "<video src=\"media\\jupyter\\ColoredTextExample@2024-01-06@11-46-11.mp4\" controls autoplay loop style=\"max-width: 60%;\"  >\n",
       "      Your browser does not support the <code>video</code> element.\n",
       "    </video>"
      ],
      "text/plain": [
       "<IPython.core.display.Video object>"
      ]
     },
     "metadata": {},
     "output_type": "display_data"
    }
   ],
   "source": [
    "%%manim -ql -v WARNING ColoredTextExample\n",
    "\n",
    "class ColoredTextExample(MovingCameraScene):\n",
    "    def construct(self):\n",
    "        shortest_text = Tex(\"SHORTEST\", color=GREEN)\n",
    "        time_text = Tex(\"TIME?\", color=RED)\n",
    "        full_shortest_time_text = VGroup(shortest_text, time_text).arrange(RIGHT)\n",
    "\n",
    "        brachisto_text = Tex(\"BRACHISTO\", color=GREEN)\n",
    "        brachisto_text.shift(UP + LEFT * 3.5)\n",
    "        chrone_text = Tex(\"CHRONE\", color=RED)\n",
    "        chrone_text.shift(UP + RIGHT * 3.5)\n",
    "\n",
    "        diagonal_line_1 = Line(UP * 0.5 + LEFT * 0.5, DOWN * 0.5+ RIGHT * 0.5, stroke_width=2, color=BLACK).shift(LEFT * 3)\n",
    "        diagonal_line_2 = Line(UP * 0.5 + RIGHT * 0.5, DOWN * 0.5 + LEFT * 0.5, stroke_width=2, color=BLACK).shift(RIGHT * 3)\n",
    "\n",
    "        self.camera.background_color=GRAY_A\n",
    "        self.play(Write(full_shortest_time_text))\n",
    "        self.wait(2)\n",
    "        self.play(full_shortest_time_text.animate.shift(DOWN))\n",
    "        self.add(diagonal_line_1)\n",
    "        self.play(Write(brachisto_text))\n",
    "        self.add(diagonal_line_2)\n",
    "        self.play(Write(chrone_text))\n",
    "        self.wait(2)\n",
    "        self.play(FadeOut(diagonal_line_1), FadeOut(diagonal_line_2))\n",
    "        self.play(brachisto_text.animate.shift(RIGHT * 2.3), chrone_text.animate.shift(LEFT * 2.1))\n",
    "        self.play(self.camera.frame.animate.set(width=full_shortest_time_text.get_width() * 1.8))\n",
    "        self.wait(2)"
   ]
  },
  {
   "cell_type": "markdown",
   "metadata": {},
   "source": [
    "# Scene: \"Short and Steep\" Scale"
   ]
  },
  {
   "cell_type": "code",
   "execution_count": 31,
   "metadata": {},
   "outputs": [
    {
     "name": "stderr",
     "output_type": "stream",
     "text": [
      "                                                                                              \r"
     ]
    },
    {
     "data": {
      "text/html": [
       "<video src=\"media\\jupyter\\Scale1@2024-01-06@11-49-45.mp4\" controls autoplay loop style=\"max-width: 60%;\"  >\n",
       "      Your browser does not support the <code>video</code> element.\n",
       "    </video>"
      ],
      "text/plain": [
       "<IPython.core.display.Video object>"
      ]
     },
     "metadata": {},
     "output_type": "display_data"
    }
   ],
   "source": [
    "%%manim -ql -v WARNING Scale1\n",
    "\n",
    "class Scale1(Scene):\n",
    "    def construct(self):\n",
    "        # Erstelle die Waage\n",
    "        short_text = Tex(\"Short\", color=GREEN).shift(LEFT * 3.4 + UP * 0.5)\n",
    "        steep_text = Tex(\"Steep\", color=RED).shift(RIGHT * 3.4 + UP * 0.5)\n",
    "        horizontal_line = Line(LEFT * 4, RIGHT * 4, color=BLACK)\n",
    "        moving_object = VGroup(short_text, steep_text, horizontal_line)\n",
    "        triangle = Polygon(LEFT * 1.5, RIGHT * 1.5, UP * 2.25, color=BLACK).shift(DOWN * 2.26)\n",
    "\n",
    "        self.camera.background_color=GRAY_A\n",
    "        self.add(moving_object)\n",
    "        self.add(triangle)\n",
    "        self.play(Rotate(moving_object, angle=PI/12, about_point=ORIGIN, run_time=1.5))\n",
    "        self.play(Rotate(moving_object, angle=-PI/7, about_point=ORIGIN, run_time=1.5))\n",
    "        self.play(Rotate(moving_object, angle=PI/10, about_point=ORIGIN, run_time=1.5))\n",
    "        self.play(Rotate(moving_object, angle=-PI/13, about_point=ORIGIN, run_time=1.5))\n",
    "        self.play(Rotate(moving_object, angle=PI/15, about_point=ORIGIN, run_time=1.5))\n",
    "        self.play(Rotate(moving_object, angle=-PI/18, about_point=ORIGIN, run_time=1.5))\n",
    "        self.play(Rotate(moving_object, angle=PI/36, about_point=ORIGIN, run_time=1.5))\n",
    "        self.wait(2)"
   ]
  },
  {
   "cell_type": "markdown",
   "metadata": {},
   "source": [
    "# Scene: \"Minimal Time in Water and Shortest Path\" Scale"
   ]
  },
  {
   "cell_type": "code",
   "execution_count": 36,
   "metadata": {},
   "outputs": [
    {
     "name": "stderr",
     "output_type": "stream",
     "text": [
      "                                                                                             \r"
     ]
    },
    {
     "data": {
      "text/html": [
       "<video src=\"media\\jupyter\\Scale2@2024-01-06@11-53-28.mp4\" controls autoplay loop style=\"max-width: 60%;\"  >\n",
       "      Your browser does not support the <code>video</code> element.\n",
       "    </video>"
      ],
      "text/plain": [
       "<IPython.core.display.Video object>"
      ]
     },
     "metadata": {},
     "output_type": "display_data"
    }
   ],
   "source": [
    "%%manim -ql -v WARNING Scale2\n",
    "\n",
    "class Scale2(Scene):\n",
    "    def construct(self):\n",
    "        # Erstelle die Waage\n",
    "        water_text = Tex(\"Minimal Time in Water\", color=GREEN).shift(LEFT * 2.6 + UP * 0.5)\n",
    "        path_text = Tex(\"Shortest Path\", color=RED).shift(RIGHT * 3.6 + UP * 0.5)\n",
    "        water_text.scale(0.9)\n",
    "        path_text.scale(0.9)\n",
    "\n",
    "        horizontal_line = Line(LEFT * 5, RIGHT * 5, color=BLACK)\n",
    "        moving_object = VGroup(water_text, path_text, horizontal_line)\n",
    "        triangle = Polygon(LEFT * 1.5, RIGHT * 1.5, UP * 2.25, color=BLACK).shift(DOWN * 2.26)\n",
    "\n",
    "        self.camera.background_color=GRAY_A\n",
    "        self.add(moving_object)\n",
    "        self.add(triangle)\n",
    "        self.play(Rotate(moving_object, angle=PI/12, about_point=ORIGIN, run_time=1.5))\n",
    "        self.play(Rotate(moving_object, angle=-PI/7, about_point=ORIGIN, run_time=1.5))\n",
    "        self.play(Rotate(moving_object, angle=PI/10, about_point=ORIGIN, run_time=1.5))\n",
    "        self.play(Rotate(moving_object, angle=-PI/13, about_point=ORIGIN, run_time=1.5))\n",
    "        self.play(Rotate(moving_object, angle=PI/15, about_point=ORIGIN, run_time=1.5))\n",
    "        self.play(Rotate(moving_object, angle=-PI/18, about_point=ORIGIN, run_time=1.5))\n",
    "        self.play(Rotate(moving_object, angle=PI/36, about_point=ORIGIN, run_time=1.5))\n",
    "        self.wait(2)"
   ]
  },
  {
   "cell_type": "markdown",
   "metadata": {},
   "source": [
    "# Scene: StraightDownwardLine vs. Curved DownwardLine"
   ]
  },
  {
   "cell_type": "markdown",
   "metadata": {},
   "source": [
    "### Creation of StraightDownwardLine"
   ]
  },
  {
   "cell_type": "code",
   "execution_count": 5,
   "metadata": {},
   "outputs": [
    {
     "name": "stderr",
     "output_type": "stream",
     "text": [
      "                                                                                             \r"
     ]
    },
    {
     "data": {
      "text/html": [
       "<video src=\"media\\jupyter\\StraightDownwardLine@2024-01-05@15-35-56.mp4\" controls autoplay loop style=\"max-width: 60%;\"  >\n",
       "      Your browser does not support the <code>video</code> element.\n",
       "    </video>"
      ],
      "text/plain": [
       "<IPython.core.display.Video object>"
      ]
     },
     "metadata": {},
     "output_type": "display_data"
    }
   ],
   "source": [
    "%%manim -ql -v WARNING StraightDownwardLine\n",
    "\n",
    "class StraightDownwardLine(Scene):\n",
    "    def construct(self):\n",
    "        ax = Axes(\n",
    "            x_range=[0, 10], y_range=[0, 10], axis_config={\"include_tip\": False}\n",
    "        )\n",
    "\n",
    "        t = ValueTracker(0)\n",
    "\n",
    "        def func(x):\n",
    "            return -x + 10\n",
    "        graph = ax.plot(func, color=RED)\n",
    "\n",
    "        initial_point = [ax.coords_to_point(t.get_value(), func(t.get_value()))]\n",
    "        dot = Dot(point=initial_point, color=GREEN)\n",
    "\n",
    "        dot.add_updater(lambda x: x.move_to(ax.c2p(t.get_value(), func(t.get_value()))))\n",
    "        x_space = np.linspace(*ax.x_range[:2],1000)\n",
    "        minimum_index = func(x_space).argmin()\n",
    "\n",
    "        self.camera.background_color=WHITE\n",
    "        self.play(Create(graph))\n",
    "        self.wait()\n",
    "        self.add(dot)\n",
    "        self.play(t.animate.set_value(x_space[minimum_index]), run_time=5)\n",
    "        self.wait()"
   ]
  },
  {
   "cell_type": "markdown",
   "metadata": {},
   "source": [
    "### Creation of CurvedDownwardLine"
   ]
  },
  {
   "cell_type": "code",
   "execution_count": 6,
   "metadata": {},
   "outputs": [
    {
     "name": "stderr",
     "output_type": "stream",
     "text": [
      "                                                                                  \r"
     ]
    },
    {
     "data": {
      "text/html": [
       "<video src=\"media\\jupyter\\CurvedDownwardLine@2024-01-05@15-36-03.mp4\" controls autoplay loop style=\"max-width: 60%;\"  >\n",
       "      Your browser does not support the <code>video</code> element.\n",
       "    </video>"
      ],
      "text/plain": [
       "<IPython.core.display.Video object>"
      ]
     },
     "metadata": {},
     "output_type": "display_data"
    }
   ],
   "source": [
    "%%manim -ql -v WARNING CurvedDownwardLine\n",
    "\n",
    "class CurvedDownwardLine(Scene):\n",
    "    def construct(self):\n",
    "        ax2 = Axes(\n",
    "            x_range=[0.1, 10], y_range=[0, 10], axis_config={\"include_tip\": False}\n",
    "        )\n",
    "\n",
    "        t2 = ValueTracker(0.1)\n",
    "\n",
    "        def func2(y):\n",
    "            return (1/y)\n",
    "        graph2 = ax2.plot(func2, color=RED)\n",
    "\n",
    "        initial_point2 = [ax2.coords_to_point(t2.get_value(), func2(t2.get_value()))]\n",
    "        dot2 = Dot(point=initial_point2, color=GREEN)\n",
    "\n",
    "        dot2.add_updater(lambda y: y.move_to(ax2.c2p(t2.get_value(), func2(t2.get_value()))))\n",
    "        x_space = np.linspace(*ax2.x_range[:2],100)\n",
    "        minimum_index = func2(x_space).argmin()\n",
    "\n",
    "        self.camera.background_color=WHITE\n",
    "        self.play(Create(graph2))\n",
    "        self.wait()\n",
    "        self.add(dot2)\n",
    "        self.play(t2.animate.set_value(x_space[minimum_index]), run_time=5)\n",
    "        self.wait()"
   ]
  },
  {
   "cell_type": "markdown",
   "metadata": {},
   "source": [
    "### Combination of StraightDownwardLine and CurvedDownwardLine"
   ]
  },
  {
   "cell_type": "code",
   "execution_count": 7,
   "metadata": {},
   "outputs": [
    {
     "name": "stderr",
     "output_type": "stream",
     "text": [
      "                                                                                                   \r"
     ]
    },
    {
     "data": {
      "text/html": [
       "<video src=\"media\\jupyter\\StraightAndCurvedDownwardLine@2024-01-05@15-36-11.mp4\" controls autoplay loop style=\"max-width: 60%;\"  >\n",
       "      Your browser does not support the <code>video</code> element.\n",
       "    </video>"
      ],
      "text/plain": [
       "<IPython.core.display.Video object>"
      ]
     },
     "metadata": {},
     "output_type": "display_data"
    }
   ],
   "source": [
    "%%manim -ql -v WARNING StraightAndCurvedDownwardLine\n",
    "\n",
    "class StraightAndCurvedDownwardLine(Scene):\n",
    "    def construct(self):\n",
    "        \n",
    "        # StraightDownwardLine\n",
    "        ax1 = Axes(\n",
    "            x_range=[0, 10], y_range=[0, 10], axis_config={\"include_tip\": False}\n",
    "        )\n",
    "\n",
    "        t1 = ValueTracker(0)\n",
    "\n",
    "        def func1(x):\n",
    "            return -x + 10\n",
    "        graph1 = ax1.plot(func1, color=RED)\n",
    "\n",
    "        initial_point1 = [ax1.coords_to_point(t1.get_value(), func1(t1.get_value()))]\n",
    "        dot1 = Dot(point=initial_point1, color=GREEN)\n",
    "        dot1.scale(1.2)\n",
    "\n",
    "        dot1.add_updater(lambda x: x.move_to(ax1.c2p(t1.get_value(), func1(t1.get_value()))))\n",
    "        x_space = np.linspace(*ax1.x_range[:2],100)\n",
    "        minimum_index = func1(x_space).argmin()\n",
    "\n",
    "        # CurvedDownwardLine\n",
    "        ax2 = Axes(\n",
    "            x_range=[0.1, 10], y_range=[0, 10], axis_config={\"include_tip\": False}\n",
    "        )\n",
    "\n",
    "        t2 = ValueTracker(0.1)\n",
    "\n",
    "        def func2(y):\n",
    "            return (1/y)\n",
    "        graph2 = ax2.plot(func2, color=RED)\n",
    "\n",
    "        initial_point2 = [ax2.coords_to_point(t2.get_value(), func2(t2.get_value()))]\n",
    "        dot2 = Dot(point=initial_point2, color=GREEN)\n",
    "        dot2.scale(1.2)\n",
    "\n",
    "        dot2.add_updater(lambda y: y.move_to(ax2.c2p(t2.get_value(), func2(t2.get_value()))))\n",
    "        x_space = np.linspace(*ax2.x_range[:2],100)\n",
    "        minimum_index = func2(x_space).argmin()\n",
    "\n",
    "        self.camera.background_color=WHITE\n",
    "        self.add(graph1, dot1, graph2, dot2)\n",
    "        self.play(t1.animate.set_value(x_space[minimum_index]), t2.animate.set_value(x_space[minimum_index]), run_time=5)\n",
    "        self.wait()"
   ]
  },
  {
   "cell_type": "markdown",
   "metadata": {},
   "source": [
    "### Combination of StraightDownwardLine and CurvedDownwardLine with different Speeds"
   ]
  },
  {
   "cell_type": "code",
   "execution_count": 9,
   "metadata": {},
   "outputs": [
    {
     "name": "stderr",
     "output_type": "stream",
     "text": [
      "                                                                                          \r"
     ]
    },
    {
     "data": {
      "text/html": [
       "<video src=\"media\\jupyter\\StraightAndCurvedDownwardLine@2024-01-05@15-41-14.mp4\" controls autoplay loop style=\"max-width: 60%;\"  >\n",
       "      Your browser does not support the <code>video</code> element.\n",
       "    </video>"
      ],
      "text/plain": [
       "<IPython.core.display.Video object>"
      ]
     },
     "metadata": {},
     "output_type": "display_data"
    }
   ],
   "source": [
    "%%manim -ql -v WARNING StraightAndCurvedDownwardLine\n",
    "\n",
    "class StraightAndCurvedDownwardLine(Scene):\n",
    "    def construct(self):\n",
    "        \n",
    "        # StraightDownwardLine\n",
    "        ax1 = Axes(\n",
    "            x_range=[0, 10], y_range=[0, 10], axis_config={\"include_tip\": False}\n",
    "        )\n",
    "\n",
    "        t1 = ValueTracker(0)\n",
    "\n",
    "        def func1(x):\n",
    "            return -x + 10\n",
    "        graph1 = ax1.plot(func1, color=RED)\n",
    "\n",
    "        initial_point1 = [ax1.coords_to_point(t1.get_value(), func1(t1.get_value()))]\n",
    "        dot1 = Dot(point=initial_point1, color=GREEN)\n",
    "        dot1.scale(1.2)\n",
    "\n",
    "        dot1.add_updater(lambda x: x.move_to(ax1.c2p(t1.get_value(), func1(t1.get_value()))))\n",
    "        x_space = np.linspace(*ax1.x_range[:2],100)\n",
    "        minimum_index = func1(x_space).argmin()\n",
    "\n",
    "        # CurvedDownwardLine\n",
    "        ax2 = Axes(\n",
    "            x_range=[0.1, 10], y_range=[0, 10], axis_config={\"include_tip\": False}\n",
    "        )\n",
    "\n",
    "        t2 = ValueTracker(0.1)\n",
    "\n",
    "        def func2(y):\n",
    "            return (1/y)\n",
    "        graph2 = ax2.plot(func2, color=RED)\n",
    "\n",
    "        initial_point2 = [ax2.coords_to_point(t2.get_value(), func2(t2.get_value()))]\n",
    "        dot2 = Dot(point=initial_point2, color=GREEN)\n",
    "        dot2.scale(1.2)\n",
    "\n",
    "        dot2.add_updater(lambda y: y.move_to(ax2.c2p(t2.get_value(), func2(t2.get_value()))))\n",
    "        x_space = np.linspace(*ax2.x_range[:2],100)\n",
    "        minimum_index = func2(x_space).argmin()\n",
    "\n",
    "        animation1 = AnimationGroup(\n",
    "            t1.animate.set_value(x_space[minimum_index]),\n",
    "            run_time=5\n",
    "        )\n",
    "\n",
    "        animation2 = AnimationGroup(\n",
    "            t2.animate.set_value(x_space[minimum_index]),\n",
    "            run_time=4.5\n",
    "        )\n",
    "\n",
    "        self.camera.background_color=WHITE\n",
    "        self.add(graph1, dot1, graph2, dot2)\n",
    "        self.play(animation1, animation2)\n",
    "        self.wait()"
   ]
  },
  {
   "cell_type": "markdown",
   "metadata": {},
   "source": [
    "### Combination of StraightDownwardLine and CurvedDownwardLine with different Speed and more features"
   ]
  },
  {
   "cell_type": "code",
   "execution_count": 51,
   "metadata": {},
   "outputs": [
    {
     "name": "stderr",
     "output_type": "stream",
     "text": [
      "                                                                                                  \r"
     ]
    },
    {
     "data": {
      "text/html": [
       "<video src=\"media\\jupyter\\StraightAndCurvedDownwardLine@2024-01-06@13-29-42.mp4\" controls autoplay loop style=\"max-width: 60%;\"  >\n",
       "      Your browser does not support the <code>video</code> element.\n",
       "    </video>"
      ],
      "text/plain": [
       "<IPython.core.display.Video object>"
      ]
     },
     "metadata": {},
     "output_type": "display_data"
    }
   ],
   "source": [
    "%%manim -ql -v WARNING StraightAndCurvedDownwardLine\n",
    "\n",
    "class StraightAndCurvedDownwardLine(Scene):\n",
    "    def construct(self):\n",
    "        # Definition der Hintergrundfarbe\n",
    "        self.camera.background_color=GRAY_A\n",
    "\n",
    "        # Erstellung  des Punktes 'A'\n",
    "        dotA = Dot(color=BLACK).scale(1.8)\n",
    "        dotA.move_to(UP * 3 + LEFT * 6)\n",
    "\n",
    "        A = Text(\"A\", color=BLACK)\n",
    "        A.next_to(dotA, UP, buff=0.2)\n",
    "\n",
    "        # Erstellung des Punktes 'B'\n",
    "        dotB = Dot(color=BLACK).scale(1.8)\n",
    "        dotB.move_to(DOWN * 3 + RIGHT * 6)\n",
    "\n",
    "        B = Text(\"B\", color=BLACK)\n",
    "        B.next_to(dotB, UP, buff=0.2)\n",
    "\n",
    "        # Erstellung der Texte\n",
    "        shortest_path_text = Text(\"This is the shortest path.\", color=BLACK).scale(0.5)\n",
    "        shortest_path_text.move_to(UP * 2.5 + RIGHT * 3)\n",
    "\n",
    "        question_text = Text (\"But is it also the fastest?\", color=BLACK).scale(0.5)\n",
    "        question_text.move_to(UP * 2 + RIGHT * 3)\n",
    "\n",
    "        shortest_path_shortest_time_text = Text(\"Shortest path ≠ Shortest time \", color=BLUE).scale(0.5)\n",
    "        shortest_path_shortest_time_text.move_to(UP * 2 + RIGHT * 3)\n",
    "\n",
    "        # Erstellung der StraightDownwardLine\n",
    "        ax1 = Axes(\n",
    "            x_range=[0, 10], \n",
    "            y_range=[0, 10], \n",
    "            axis_config={\"include_tip\": False}\n",
    "        )\n",
    "\n",
    "        t1 = ValueTracker(0)\n",
    "\n",
    "        def func1(x):\n",
    "            return -x + 10\n",
    "        \n",
    "        graph1 = ax1.plot(func1, color=BLACK)\n",
    "        graph1_new_color = ax1.plot(func1, color=BLUE)\n",
    "\n",
    "        initial_point1 = [ax1.coords_to_point(t1.get_value(), func1(t1.get_value()))]\n",
    "        dot1 = Dot(point=initial_point1, color=GREEN)\n",
    "        dot1.scale(1.2)\n",
    "\n",
    "        dot1.add_updater(lambda x: x.move_to(ax1.c2p(t1.get_value(), func1(t1.get_value()))))\n",
    "        x_space = np.linspace(*ax1.x_range[:2],100)\n",
    "        minimum_index1 = func1(x_space).argmin()\n",
    "\n",
    "        # Erstellung der CurvedDownwardLine\n",
    "        ax2 = Axes(\n",
    "            x_range=[0.1, 10], y_range=[0, 10], axis_config={\"include_tip\": False}\n",
    "        )\n",
    "\n",
    "        t2 = ValueTracker(0.1)\n",
    "\n",
    "        def func2(y):\n",
    "            return (1/y)\n",
    "            \n",
    "        graph2 = ax2.plot(func2, color=BLACK)\n",
    "\n",
    "        initial_point2 = [ax2.coords_to_point(t2.get_value(), func2(t2.get_value()))]\n",
    "        dot2 = Dot(point=initial_point2, color=GREEN)\n",
    "        dot2.scale(1.2)\n",
    "\n",
    "        dot2.add_updater(lambda y: y.move_to(ax2.c2p(t2.get_value(), func2(t2.get_value()))))\n",
    "        x_space = np.linspace(*ax2.x_range[:2],100)\n",
    "        minimum_index = func2(x_space).argmin()\n",
    "\n",
    "        # Erstellung der Bewegung der Punkte mit unterschiedlichen Geschwindigkeiten\n",
    "        animation1 = AnimationGroup(\n",
    "            t1.animate.set_value(x_space[minimum_index]),\n",
    "            run_time=5\n",
    "        )\n",
    "\n",
    "        animation2 = AnimationGroup(\n",
    "            t2.animate.set_value(x_space[minimum_index]),\n",
    "            run_time=4.5\n",
    "        )\n",
    "        \n",
    "        # Initiierung der Abläufe\n",
    "        self.play(Create(dotA), Write(A))\n",
    "        self.wait(2)\n",
    "\n",
    "        self.play(Create(dotB))\n",
    "        self.play(dotB.animate.shift(LEFT * 12), run_time=4)\n",
    "        self.play(dotB.animate.shift(RIGHT * 12), run_time=0.5)\n",
    "        self.wait(2)\n",
    "        self.play(Write(B))\n",
    "        self.wait(10)\n",
    "\n",
    "        self.play(Create(graph1))\n",
    "        self.add(dot1)\n",
    "        self.play(animation1)\n",
    "        self.play(FadeOut(dot1))\n",
    "\n",
    "        self.play(Write(shortest_path_text))\n",
    "        self.wait(2)\n",
    "        self.play(Write(question_text))\n",
    "        self.wait(2)\n",
    "        self.play(FadeOut(shortest_path_text, question_text))\n",
    "        self.wait(2)\n",
    "        \n",
    "        self.play(Create(graph2))\n",
    "        self.add(dot1, dot2)\n",
    "        self.play(animation1, animation2)\n",
    "        self.clear()\n",
    "        self.wait(3)\n",
    "\n",
    "        self.play(Create(dotA), Write(A), Create(dotB), Write(B))\n",
    "        self.play(Create(graph1), Create(graph2))\n",
    "        self.play(Transform(graph1, graph1_new_color), Write(shortest_path_shortest_time_text))\n",
    "        self.wait(3)"
   ]
  },
  {
   "cell_type": "markdown",
   "metadata": {},
   "source": [
    "# Scene: Both Lines with Arrows"
   ]
  },
  {
   "cell_type": "code",
   "execution_count": 44,
   "metadata": {},
   "outputs": [
    {
     "name": "stderr",
     "output_type": "stream",
     "text": [
      "                                                                                    \r"
     ]
    },
    {
     "data": {
      "text/html": [
       "<video src=\"media\\jupyter\\StraightAndCurvedDownwardLine@2024-01-06@13-09-37.mp4\" controls autoplay loop style=\"max-width: 60%;\"  >\n",
       "      Your browser does not support the <code>video</code> element.\n",
       "    </video>"
      ],
      "text/plain": [
       "<IPython.core.display.Video object>"
      ]
     },
     "metadata": {},
     "output_type": "display_data"
    }
   ],
   "source": [
    "%%manim -ql -v WARNING StraightAndCurvedDownwardLine\n",
    "\n",
    "\n",
    "class StraightAndCurvedDownwardLine(Scene):\n",
    "    def construct(self):\n",
    "        # Definition der Hintergrundfarbe\n",
    "        self.camera.background_color=GRAY_A\n",
    "\n",
    "        # Erstellung  des Punktes 'A'\n",
    "        dotA = Dot(color=BLACK).scale(1.8)\n",
    "        dotA.move_to(UP * 3 + LEFT * 6)\n",
    "\n",
    "        A = Text(\"A\", color=BLACK)\n",
    "        A.next_to(dotA, UP, buff=0.2)\n",
    "\n",
    "        # Erstellung des Punktes 'B'\n",
    "        dotB = Dot(color=BLACK).scale(1.8)\n",
    "        dotB.move_to(DOWN * 3 + RIGHT * 6)\n",
    "\n",
    "        B = Text(\"B\", color=BLACK)\n",
    "        B.next_to(dotB, UP, buff=0.2)\n",
    "\n",
    "        # Erstellung der StraightDownwardLine\n",
    "        ax1 = Axes(\n",
    "            x_range=[0, 10], \n",
    "            y_range=[0, 10], \n",
    "            axis_config={\"include_tip\": False}\n",
    "        )\n",
    "\n",
    "        t1 = ValueTracker(0)\n",
    "\n",
    "        def func1(x):\n",
    "            return -x + 10\n",
    "        \n",
    "        graph1 = ax1.plot(func1, color=BLACK)\n",
    "\n",
    "        initial_point1 = [ax1.coords_to_point(t1.get_value(), func1(t1.get_value()))]\n",
    "        dot1 = Dot(point=initial_point1, color=GREEN)\n",
    "        dot1.scale(1.2)\n",
    "\n",
    "        dot1.add_updater(lambda x: x.move_to(ax1.c2p(t1.get_value(), func1(t1.get_value()))))\n",
    "        x_space = np.linspace(*ax1.x_range[:2],100)\n",
    "        minimum_index1 = func1(x_space).argmin()\n",
    "\n",
    "        # Erstellung der CurvedDownwardLine\n",
    "        ax2 = Axes(\n",
    "            x_range=[0.1, 10], y_range=[0, 10], axis_config={\"include_tip\": False}\n",
    "        )\n",
    "\n",
    "        t2 = ValueTracker(0.1)\n",
    "\n",
    "        def func2(y):\n",
    "            return (1/y)\n",
    "            \n",
    "        graph2 = ax2.plot(func2, color=BLACK)\n",
    "\n",
    "        initial_point2 = [ax2.coords_to_point(t2.get_value(), func2(t2.get_value()))]\n",
    "        dot2 = Dot(point=initial_point2, color=GREEN)\n",
    "        dot2.scale(1.2)\n",
    "\n",
    "        dot2.add_updater(lambda y: y.move_to(ax2.c2p(t2.get_value(), func2(t2.get_value()))))\n",
    "        x_space = np.linspace(*ax2.x_range[:2],100)\n",
    "        minimum_index = func2(x_space).argmin()\n",
    "    \n",
    "        # Initiierung der Abläufe\n",
    "        self.play(Create(dotA), Write(A), Create(dotB), Write(B))\n",
    "        self.play(Create(graph1), Create(graph2))\n",
    "        self.wait(3)\n",
    "\n",
    "        \n"
   ]
  }
 ],
 "metadata": {
  "kernelspec": {
   "display_name": "Python 3",
   "language": "python",
   "name": "python3"
  },
  "language_info": {
   "codemirror_mode": {
    "name": "ipython",
    "version": 3
   },
   "file_extension": ".py",
   "mimetype": "text/x-python",
   "name": "python",
   "nbconvert_exporter": "python",
   "pygments_lexer": "ipython3",
   "version": "3.10.11"
  }
 },
 "nbformat": 4,
 "nbformat_minor": 2
}
