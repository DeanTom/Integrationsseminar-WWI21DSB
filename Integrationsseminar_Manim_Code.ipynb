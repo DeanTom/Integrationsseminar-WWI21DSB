{
 "cells": [
  {
   "cell_type": "code",
   "execution_count": 72,
   "metadata": {},
   "outputs": [],
   "source": [
    "from manim import *"
   ]
  },
  {
   "cell_type": "markdown",
   "metadata": {},
   "source": [
    "# Scene: Shortest Time and Brachistochrone"
   ]
  },
  {
   "cell_type": "code",
   "execution_count": 73,
   "metadata": {},
   "outputs": [
    {
     "name": "stderr",
     "output_type": "stream",
     "text": [
      "<string>:27: DeprecationWarning: This method is not guaranteed to stay around. Please prefer getting the attribute normally.\n",
      "                                                                                     \r"
     ]
    },
    {
     "data": {
      "text/html": [
       "<video src=\"media\\jupyter\\ColoredTextExample@2024-01-06@16-19-52.mp4\" controls autoplay loop style=\"max-width: 60%;\"  >\n",
       "      Your browser does not support the <code>video</code> element.\n",
       "    </video>"
      ],
      "text/plain": [
       "<IPython.core.display.Video object>"
      ]
     },
     "metadata": {},
     "output_type": "display_data"
    }
   ],
   "source": [
    "%%manim -ql -v WARNING ColoredTextExample\n",
    "\n",
    "class ColoredTextExample(MovingCameraScene):\n",
    "    def construct(self):\n",
    "        shortest_text = Tex(\"SHORTEST\", color=BLACK)\n",
    "        time_text = Tex(\"TIME?\", color=BLUE)\n",
    "        full_shortest_time_text = VGroup(shortest_text, time_text).arrange(RIGHT)\n",
    "\n",
    "        brachisto_text = Tex(\"BRACHISTO\", color=BLACK)\n",
    "        brachisto_text.shift(UP + LEFT * 3.5)\n",
    "        chrone_text = Tex(\"CHRONE\", color=BLUE)\n",
    "        chrone_text.shift(UP + RIGHT * 3.5)\n",
    "\n",
    "        diagonal_line_1 = Line(UP * 0.5 + LEFT * 0.5, DOWN * 0.5+ RIGHT * 0.5, stroke_width=2, color=BLACK).shift(LEFT * 3)\n",
    "        diagonal_line_2 = Line(UP * 0.5 + RIGHT * 0.5, DOWN * 0.5 + LEFT * 0.5, stroke_width=2, color=BLACK).shift(RIGHT * 3)\n",
    "\n",
    "        self.camera.background_color=GRAY_A\n",
    "        self.play(Write(full_shortest_time_text))\n",
    "        self.wait(2)\n",
    "        self.play(full_shortest_time_text.animate.shift(DOWN))\n",
    "        self.add(diagonal_line_1)\n",
    "        self.play(Write(brachisto_text))\n",
    "        self.add(diagonal_line_2)\n",
    "        self.play(Write(chrone_text))\n",
    "        self.wait(2)\n",
    "        self.play(FadeOut(diagonal_line_1), FadeOut(diagonal_line_2))\n",
    "        self.play(brachisto_text.animate.shift(RIGHT * 2.3), chrone_text.animate.shift(LEFT * 2.1))\n",
    "        self.play(self.camera.frame.animate.set(width=full_shortest_time_text.get_width() * 1.8))\n",
    "        self.wait(2)"
   ]
  },
  {
   "cell_type": "markdown",
   "metadata": {},
   "source": [
    "# Scene: \"Short and Steep\" Scale"
   ]
  },
  {
   "cell_type": "code",
   "execution_count": 74,
   "metadata": {},
   "outputs": [
    {
     "name": "stderr",
     "output_type": "stream",
     "text": [
      "                                                                                             \r"
     ]
    },
    {
     "data": {
      "text/html": [
       "<video src=\"media\\jupyter\\Scale1@2024-01-06@16-20-35.mp4\" controls autoplay loop style=\"max-width: 60%;\"  >\n",
       "      Your browser does not support the <code>video</code> element.\n",
       "    </video>"
      ],
      "text/plain": [
       "<IPython.core.display.Video object>"
      ]
     },
     "metadata": {},
     "output_type": "display_data"
    }
   ],
   "source": [
    "%%manim -ql -v WARNING Scale1\n",
    "\n",
    "class Scale1(Scene):\n",
    "    def construct(self):\n",
    "        # Erstelle die Waage\n",
    "        short_text = Tex(\"Short\", color=BLACK).shift(LEFT * 3.4 + UP * 0.5)\n",
    "        steep_text = Tex(\"Steep\", color=BLUE).shift(RIGHT * 3.4 + UP * 0.5)\n",
    "        horizontal_line = Line(LEFT * 4, RIGHT * 4, color=BLACK)\n",
    "        moving_object = VGroup(short_text, steep_text, horizontal_line)\n",
    "        triangle = Polygon(LEFT * 1.5, RIGHT * 1.5, UP * 2.25, color=BLACK).shift(DOWN * 2.26)\n",
    "\n",
    "        self.camera.background_color=GRAY_A\n",
    "        self.add(moving_object)\n",
    "        self.add(triangle)\n",
    "        self.play(Rotate(moving_object, angle=PI/12, about_point=ORIGIN, run_time=1.5))\n",
    "        self.play(Rotate(moving_object, angle=-PI/7, about_point=ORIGIN, run_time=1.5))\n",
    "        self.play(Rotate(moving_object, angle=PI/10, about_point=ORIGIN, run_time=1.5))\n",
    "        self.play(Rotate(moving_object, angle=-PI/13, about_point=ORIGIN, run_time=1.5))\n",
    "        self.play(Rotate(moving_object, angle=PI/15, about_point=ORIGIN, run_time=1.5))\n",
    "        self.play(Rotate(moving_object, angle=-PI/18, about_point=ORIGIN, run_time=1.5))\n",
    "        self.play(Rotate(moving_object, angle=PI/36, about_point=ORIGIN, run_time=1.5))\n",
    "        self.wait(2)"
   ]
  },
  {
   "cell_type": "markdown",
   "metadata": {},
   "source": [
    "# Scene: \"Minimal Time in Water and Shortest Path\" Scale"
   ]
  },
  {
   "cell_type": "code",
   "execution_count": 75,
   "metadata": {},
   "outputs": [
    {
     "name": "stderr",
     "output_type": "stream",
     "text": [
      "                                                                                             \r"
     ]
    },
    {
     "data": {
      "text/html": [
       "<video src=\"media\\jupyter\\Scale2@2024-01-06@16-21-16.mp4\" controls autoplay loop style=\"max-width: 60%;\"  >\n",
       "      Your browser does not support the <code>video</code> element.\n",
       "    </video>"
      ],
      "text/plain": [
       "<IPython.core.display.Video object>"
      ]
     },
     "metadata": {},
     "output_type": "display_data"
    }
   ],
   "source": [
    "%%manim -ql -v WARNING Scale2\n",
    "\n",
    "class Scale2(Scene):\n",
    "    def construct(self):\n",
    "        # Erstelle die Waage\n",
    "        water_text = Tex(\"Minimal Time in Water\", color=BLACK).shift(LEFT * 2.6 + UP * 0.5)\n",
    "        path_text = Tex(\"Shortest Path\", color=BLUE).shift(RIGHT * 3.6 + UP * 0.5)\n",
    "        water_text.scale(0.9)\n",
    "        path_text.scale(0.9)\n",
    "\n",
    "        horizontal_line = Line(LEFT * 5, RIGHT * 5, color=BLACK)\n",
    "        moving_object = VGroup(water_text, path_text, horizontal_line)\n",
    "        triangle = Polygon(LEFT * 1.5, RIGHT * 1.5, UP * 2.25, color=BLACK).shift(DOWN * 2.26)\n",
    "\n",
    "        self.camera.background_color=GRAY_A\n",
    "        self.add(moving_object)\n",
    "        self.add(triangle)\n",
    "        self.play(Rotate(moving_object, angle=PI/12, about_point=ORIGIN, run_time=1.5))\n",
    "        self.play(Rotate(moving_object, angle=-PI/7, about_point=ORIGIN, run_time=1.5))\n",
    "        self.play(Rotate(moving_object, angle=PI/10, about_point=ORIGIN, run_time=1.5))\n",
    "        self.play(Rotate(moving_object, angle=-PI/13, about_point=ORIGIN, run_time=1.5))\n",
    "        self.play(Rotate(moving_object, angle=PI/15, about_point=ORIGIN, run_time=1.5))\n",
    "        self.play(Rotate(moving_object, angle=-PI/18, about_point=ORIGIN, run_time=1.5))\n",
    "        self.play(Rotate(moving_object, angle=PI/36, about_point=ORIGIN, run_time=1.5))\n",
    "        self.wait(2)"
   ]
  },
  {
   "cell_type": "markdown",
   "metadata": {},
   "source": [
    "# Scene: StraightDownwardLine vs. Curved DownwardLine"
   ]
  },
  {
   "cell_type": "code",
   "execution_count": 81,
   "metadata": {},
   "outputs": [
    {
     "name": "stderr",
     "output_type": "stream",
     "text": [
      "                                                                                                      \r"
     ]
    },
    {
     "data": {
      "text/html": [
       "<video src=\"media\\jupyter\\StraightAndCurvedDownwardLine@2024-01-06@16-34-01.mp4\" controls autoplay loop style=\"max-width: 60%;\"  >\n",
       "      Your browser does not support the <code>video</code> element.\n",
       "    </video>"
      ],
      "text/plain": [
       "<IPython.core.display.Video object>"
      ]
     },
     "metadata": {},
     "output_type": "display_data"
    }
   ],
   "source": [
    "%%manim -ql -v WARNING StraightAndCurvedDownwardLine\n",
    "\n",
    "class StraightAndCurvedDownwardLine(Scene):\n",
    "    def construct(self):\n",
    "        # Definition der Hintergrundfarbe\n",
    "        self.camera.background_color=GRAY_A\n",
    "\n",
    "        # Erstellung  des Punktes 'A'\n",
    "        dotA = Dot(color=BLACK).scale(1.8)\n",
    "        dotA.move_to(UP * 3 + LEFT * 6)\n",
    "\n",
    "        A = Text(\"A\", color=BLACK).scale(0.9)\n",
    "        A.next_to(dotA, UP, buff=0.2)\n",
    "\n",
    "        # Erstellung des Punktes 'B'\n",
    "        dotB = Dot(color=BLACK).scale(1.8)\n",
    "        dotB.move_to(DOWN * 2.95 + RIGHT * 6)\n",
    "\n",
    "        B = Text(\"B\", color=BLACK).scale(0.9)\n",
    "        B.next_to(dotB, UP, buff=0.2)\n",
    "\n",
    "        # Erstellung der Texte\n",
    "        this_is_shortest_path_text = Tex(\"This is the shortest path.\", color=BLACK).scale(0.8)\n",
    "        this_is_shortest_path_text.move_to(UP * 2.5 + RIGHT * 3)\n",
    "\n",
    "        question_text = Tex(\"But is it also the fastest?\", color=BLACK).scale(0.8)\n",
    "        question_text.move_to(UP * 2 + RIGHT * 3)\n",
    "\n",
    "        shortest_path_text = Tex(\"Shortest path\", color=BLUE).scale(0.8)\n",
    "        shortest_path_text.move_to(UP * 2 + RIGHT * 0.5)\n",
    "\n",
    "        uneven_text = Text(\" ≠ \", color=BLACK).scale(0.5)\n",
    "        uneven_text.move_to(UP * 2 + RIGHT * 2)\n",
    "\n",
    "        shortest_time_text = Tex(\"Shortest time \", color=BLACK).scale(0.8)\n",
    "        shortest_time_text.move_to(UP * 2 + RIGHT * 3.5)\n",
    "\n",
    "        # Erstellung der StraightDownwardLine\n",
    "        ax1 = Axes(\n",
    "            x_range=[0, 10], \n",
    "            y_range=[0, 10], \n",
    "            axis_config={\"include_tip\": False}\n",
    "        )\n",
    "\n",
    "        def func1(x):\n",
    "            return -x + 10\n",
    "        \n",
    "        graph1 = ax1.plot(func1, color=BLACK)\n",
    "        graph1.set_z_index(dotA.z_index - 1)\n",
    "\n",
    "        dot1 = Dot(point=graph1.points[0], color=BLUE).scale(1.5)\n",
    "\n",
    "        # Erstellung der CurvedDownwardLine\n",
    "        ax2 = Axes(\n",
    "            x_range=[0.1, 10], \n",
    "            y_range=[0, 10], \n",
    "            axis_config={\"include_tip\": False}\n",
    "        )\n",
    "\n",
    "        def func2(y):\n",
    "            return (1/y)\n",
    "        \n",
    "        graph2 = ax2.plot(func2, color=BLACK)\n",
    "\n",
    "        dot2 = Dot(point=graph2.points[0], color=BLUE).scale(1.5)\n",
    "        \n",
    "        # Erstellung der Bewegung der Punkte mit unterschiedlichen Geschwindigkeiten\n",
    "        animation1 = AnimationGroup(\n",
    "            MoveAlongPath(dot1, graph1),\n",
    "            run_time=5\n",
    "        )\n",
    "\n",
    "        animation2 = AnimationGroup(\n",
    "            MoveAlongPath(dot2, graph2),\n",
    "            run_time=4\n",
    "        )\n",
    "        \n",
    "        # Initiierung der Abläufe\n",
    "        self.play(Create(dotA), Write(A))\n",
    "        self.wait(2)\n",
    "\n",
    "        self.play(Create(dotB))\n",
    "        self.play(dotB.animate.shift(LEFT * 12), run_time=4)\n",
    "        self.play(dotB.animate.shift(RIGHT * 12), run_time=0.5)\n",
    "        self.wait(2)\n",
    "        self.play(Write(B))\n",
    "        self.wait(5)\n",
    "\n",
    "        self.play(Create(graph1))\n",
    "        self.add(dot1)\n",
    "        self.play(animation1)\n",
    "        self.play(FadeOut(dot1))\n",
    "\n",
    "        self.play(Write(this_is_shortest_path_text))\n",
    "        self.wait(2)\n",
    "        self.play(Write(question_text))\n",
    "        self.wait(2)\n",
    "        self.play(FadeOut(this_is_shortest_path_text, question_text))\n",
    "        self.wait(2)\n",
    "        \n",
    "        self.play(Create(graph2))\n",
    "        self.add(dot1, dot2)\n",
    "        self.play(animation1, animation2)\n",
    "        self.clear()\n",
    "        self.wait(3)\n",
    "\n",
    "        self.play(Create(dotA), Write(A), Create(dotB), Write(B))\n",
    "        self.play(Create(graph1), Create(graph2))\n",
    "        self.play(ApplyMethod(graph1.set_color, BLUE))\n",
    "        self.play(Write(shortest_path_text), Write(uneven_text), Write(shortest_time_text))\n",
    "        self.play(shortest_path_text.animate.shift(UP * 0.5))\n",
    "        self.play(shortest_path_text.animate.shift(DOWN * 0.5))\n",
    "        self.play(shortest_time_text.animate.shift(UP * 0.5))\n",
    "        self.play(shortest_time_text.animate.shift(DOWN * 0.5))\n",
    "        self.wait()\n",
    "        self.clear()"
   ]
  }
 ],
 "metadata": {
  "kernelspec": {
   "display_name": "Python 3",
   "language": "python",
   "name": "python3"
  },
  "language_info": {
   "codemirror_mode": {
    "name": "ipython",
    "version": 3
   },
   "file_extension": ".py",
   "mimetype": "text/x-python",
   "name": "python",
   "nbconvert_exporter": "python",
   "pygments_lexer": "ipython3",
   "version": "3.10.11"
  }
 },
 "nbformat": 4,
 "nbformat_minor": 2
}
