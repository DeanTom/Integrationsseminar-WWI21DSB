{
 "cells": [
  {
   "cell_type": "code",
   "execution_count": 1,
   "metadata": {},
   "outputs": [
    {
     "data": {
      "text/html": [
       "<pre style=\"white-space:pre;overflow-x:auto;line-height:normal;font-family:Menlo,'DejaVu Sans Mono',consolas,'Courier New',monospace\">Manim Community <span style=\"color: #008000; text-decoration-color: #008000\">v0.18.0</span>\n",
       "\n",
       "</pre>\n"
      ],
      "text/plain": [
       "Manim Community \u001b[32mv0.\u001b[0m\u001b[32m18.0\u001b[0m\n",
       "\n"
      ]
     },
     "metadata": {},
     "output_type": "display_data"
    }
   ],
   "source": [
    "from manim import *"
   ]
  },
  {
   "cell_type": "code",
   "execution_count": 2,
   "metadata": {},
   "outputs": [
    {
     "name": "stderr",
     "output_type": "stream",
     "text": [
      "                                                                                      \r"
     ]
    },
    {
     "data": {
      "text/html": [
       "<video src=\"media\\jupyter\\LoopingScene@2024-01-06@16-32-20.mp4\" controls autoplay loop style=\"max-width: 60%;\"  >\n",
       "      Your browser does not support the <code>video</code> element.\n",
       "    </video>"
      ],
      "text/plain": [
       "<IPython.core.display.Video object>"
      ]
     },
     "metadata": {},
     "output_type": "display_data"
    }
   ],
   "source": [
    "%%manim -ql -v WARNING LoopingScene\n",
    "\n",
    "class LoopingScene(MovingCameraScene):\n",
    "    def construct(self):\n",
    "        self.camera.background_color=GRAY_A\n",
    "\n",
    "        def looping_func(t):\n",
    "            t = (5 * np.pi / 2) * (t - 0.5)\n",
    "            return np.array([(t / 3 - np.sin(t)), (np.cos(t) + (t ** 2) / 10), 0])\n",
    "\n",
    "        looping = ParametricFunction(\n",
    "            looping_func,\n",
    "            t_range = np.array([0, 0.9, 0.01]),\n",
    "            color = BLACK,\n",
    "            stroke_width = 2,\n",
    "        ).scale(4)\n",
    "\n",
    "        looping.center()\n",
    "        point = Dot(looping.points[0], color=BLUE, radius=0.12)\n",
    "        starting_point = Dot(looping.points[0], color=BLACK, radius=0.12)\n",
    "        label_starting_point = Tex(\"A\", color=BLACK).next_to(starting_point, UP)\n",
    "        ending_point = Dot(looping.points[-1], color=BLACK, radius=0.12)\n",
    "        label_ending_point = Tex(\"B\", color=BLACK).next_to(ending_point, UP)\n",
    "        \n",
    "\n",
    "        self.play(Create(looping))\n",
    "        self.play(FadeIn(starting_point), Write(label_starting_point))\n",
    "        self.play(FadeIn(ending_point), Write(label_ending_point))\n",
    "        self.play(FadeIn(point))\n",
    "        self.play(MoveAlongPath(point, looping, rate_func=smooth), run_time=4)\n",
    "\n",
    "        # Add all objects to a list\n",
    "        objects = [looping, starting_point, label_starting_point, ending_point, label_ending_point, point]\n",
    "\n",
    "        # Fade out all objects\n",
    "        self.play(*[FadeOut(obj) for obj in objects])\n",
    "        self.wait()\n"
   ]
  }
 ],
 "metadata": {
  "kernelspec": {
   "display_name": "Python 3",
   "language": "python",
   "name": "python3"
  },
  "language_info": {
   "codemirror_mode": {
    "name": "ipython",
    "version": 3
   },
   "file_extension": ".py",
   "mimetype": "text/x-python",
   "name": "python",
   "nbconvert_exporter": "python",
   "pygments_lexer": "ipython3",
   "version": "3.10.11"
  }
 },
 "nbformat": 4,
 "nbformat_minor": 2
}
