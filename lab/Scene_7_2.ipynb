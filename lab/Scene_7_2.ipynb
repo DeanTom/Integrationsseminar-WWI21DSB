{
 "cells": [
  {
   "cell_type": "code",
   "execution_count": 2,
   "metadata": {},
   "outputs": [
    {
     "data": {
      "text/html": [
       "<pre style=\"white-space:pre;overflow-x:auto;line-height:normal;font-family:Menlo,'DejaVu Sans Mono',consolas,'Courier New',monospace\">Manim Community <span style=\"color: #008000; text-decoration-color: #008000\">v0.18.0</span>\n",
       "\n",
       "</pre>\n"
      ],
      "text/plain": [
       "Manim Community \u001b[32mv0.\u001b[0m\u001b[32m18.0\u001b[0m\n",
       "\n"
      ]
     },
     "metadata": {},
     "output_type": "display_data"
    }
   ],
   "source": [
    "from manim import *"
   ]
  },
  {
   "cell_type": "code",
   "execution_count": 4,
   "metadata": {},
   "outputs": [
    {
     "name": "stderr",
     "output_type": "stream",
     "text": [
      "Animation 1: FadeIn(Rectangle):   0%|          | 0/1 [00:00<?, ?it/s]"
     ]
    },
    {
     "name": "stderr",
     "output_type": "stream",
     "text": [
      "                                                                                           \r"
     ]
    },
    {
     "data": {
      "text/html": [
       "<video src=\"media\\jupyter\\Scene_Light_Vis@2024-02-08@19-16-38.mp4\" controls autoplay loop style=\"max-width: 60%;\"  >\n",
       "      Your browser does not support the <code>video</code> element.\n",
       "    </video>"
      ],
      "text/plain": [
       "<IPython.core.display.Video object>"
      ]
     },
     "metadata": {},
     "output_type": "display_data"
    }
   ],
   "source": [
    "%%manim -qh -v WARNING Scene_Light_Vis\n",
    "\n",
    "class Scene_Light_Vis(Scene):\n",
    "    def construct(self):\n",
    "        self.camera.background_color=GRAY_A\n",
    "        # Set background\n",
    "        frame_width = config.frame_width\n",
    "        frame_height = config.frame_height\n",
    "        lower_background = Rectangle(width=frame_width, height=frame_height/2, color=BLUE_D, fill_opacity=1).shift(DOWN*frame_height/4)\n",
    "\n",
    "        # Create dots A and B\n",
    "        dot_A = Dot(color=BLACK).move_to(UP*2+LEFT*4) \n",
    "        dot_B = Dot(color=BLACK).move_to(DOWN*2+RIGHT*4) \n",
    "\n",
    "        dot_A.z_index = 1\n",
    "        dot_B.z_index = 1\n",
    "\n",
    "\n",
    "        # Label dots\n",
    "        label_A = Tex(\"A\", color=BLACK).next_to(dot_A, UP)\n",
    "        label_B = Tex(\"B\", color=BLACK).next_to(dot_B, DOWN)\n",
    "\n",
    "        # Create dot on horizontal line\n",
    "        dividing_line_y = 0 \n",
    "        dot_on_line = Dot(fill_opacity=0).move_to(dot_A.get_x()*RIGHT + dividing_line_y*UP)\n",
    "\n",
    "        # Use always_redraw to dynamically create lines that adjust with the dot's movement\n",
    "        A_to_middle = always_redraw(lambda: Line(dot_A.get_center(), dot_on_line.get_center(), color=ORANGE, stroke_width=4))\n",
    "        Middle_to_B = always_redraw(lambda: Line(dot_on_line.get_center(), dot_B.get_center(), color=ORANGE, stroke_width=4))\n",
    "\n",
    "        # Positions directly below A and B on the dividing line\n",
    "        position_below_A = dot_A.get_x() * RIGHT + dividing_line_y * UP\n",
    "        position_below_B = dot_B.get_x() * RIGHT + dividing_line_y * UP\n",
    "\n",
    "        # Create the coordinate system\n",
    "        axes = Axes(\n",
    "            x_range=[0, 40, 3],  \n",
    "            y_range=[-10, 10, 3],  \n",
    "            x_length=5,  \n",
    "            y_length=3,  \n",
    "            axis_config={\"color\": BLACK},\n",
    "            tips=False,\n",
    "        ).scale(0.8)\n",
    "\n",
    "        def func(x):\n",
    "            return 1/100 * (x - 20)**2 + 3\n",
    "\n",
    "        axes.to_corner(UR)\n",
    "        x_label = Tex(\"x\", color=BLACK, font_size=40).next_to(axes.x_axis.get_end() + LEFT*0.1)\n",
    "        header_text = Tex(\"Travel time\", color=BLACK, font_size=30).move_to(axes.x_axis.get_center() + UP * 1.2)\n",
    "\n",
    "        # Create the graph of the function\n",
    "        graph = axes.plot(func, color=BLACK, x_range=[0, 40])\n",
    "\n",
    "        # Add the dots and labels to the scene\n",
    "        self.wait(2)\n",
    "        self.play(FadeIn(lower_background))\n",
    "        self.play(FadeIn(axes), FadeIn(x_label), FadeIn(header_text))\n",
    "        self.play(FadeIn(dot_A, label_A), FadeIn(dot_B, label_B))\n",
    "        self.play(FadeIn(dot_on_line))\n",
    "        self.play(FadeIn(A_to_middle, Middle_to_B))\n",
    "        self.wait(2)\n",
    "        self.play(dot_on_line.animate.move_to(position_below_B), Create(graph), run_time=6)\n",
    "        self.play(dot_on_line.animate.move_to(position_below_A), run_time=3)\n",
    "        self.wait(2)\n",
    "\n",
    "        # Fade out \n",
    "        objects = [lower_background, axes, x_label, header_text, dot_A, label_A, dot_B, label_B, dot_on_line, A_to_middle, Middle_to_B, graph]\n",
    "        self.play(*[FadeOut(obj) for obj in objects])\n",
    "        self.wait()"
   ]
  }
 ],
 "metadata": {
  "kernelspec": {
   "display_name": "Python 3",
   "language": "python",
   "name": "python3"
  },
  "language_info": {
   "codemirror_mode": {
    "name": "ipython",
    "version": 3
   },
   "file_extension": ".py",
   "mimetype": "text/x-python",
   "name": "python",
   "nbconvert_exporter": "python",
   "pygments_lexer": "ipython3",
   "version": "3.10.11"
  }
 },
 "nbformat": 4,
 "nbformat_minor": 2
}
