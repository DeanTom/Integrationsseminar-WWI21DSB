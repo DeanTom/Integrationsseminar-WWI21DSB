{
 "cells": [
  {
   "cell_type": "code",
   "execution_count": 1,
   "metadata": {},
   "outputs": [
    {
     "data": {
      "text/html": [
       "<pre style=\"white-space:pre;overflow-x:auto;line-height:normal;font-family:Menlo,'DejaVu Sans Mono',consolas,'Courier New',monospace\">Manim Community <span style=\"color: #008000; text-decoration-color: #008000\">v0.18.0</span>\n",
       "\n",
       "</pre>\n"
      ],
      "text/plain": [
       "Manim Community \u001b[32mv0.\u001b[0m\u001b[32m18.0\u001b[0m\n",
       "\n"
      ]
     },
     "metadata": {},
     "output_type": "display_data"
    }
   ],
   "source": [
    "from manim import *"
   ]
  },
  {
   "cell_type": "markdown",
   "metadata": {},
   "source": [
    "Szene 6"
   ]
  },
  {
   "cell_type": "code",
   "execution_count": 24,
   "metadata": {},
   "outputs": [
    {
     "name": "stderr",
     "output_type": "stream",
     "text": [
      "                                                                                                  \r"
     ]
    },
    {
     "data": {
      "text/html": [
       "<video src=\"media\\jupyter\\ZeitstrahlScene@2024-02-02@20-23-08.mp4\" controls autoplay loop style=\"max-width: 60%;\"  >\n",
       "      Your browser does not support the <code>video</code> element.\n",
       "    </video>"
      ],
      "text/plain": [
       "<IPython.core.display.Video object>"
      ]
     },
     "metadata": {},
     "output_type": "display_data"
    }
   ],
   "source": [
    "%%manim -ql -v WARNING ZeitstrahlScene\n",
    "\n",
    "class ZeitstrahlScene(MovingCameraScene):\n",
    "    def construct(self):\n",
    "        self.camera.background_color = WHITE\n",
    "\n",
    "        ### Zeitstrahl erstellen\n",
    "        timeline = NumberLine(\n",
    "            x_range=[1500, 2200, 10],\n",
    "            length=50,\n",
    "            #include_numbers=True,\n",
    "            #label_direction=UP,\n",
    "            color = BLACK\n",
    "        )\n",
    "\n",
    "        for x in range(1500, 2201, 50):\n",
    "            number = Text(str(x), color=BLACK).next_to(timeline.n2p(x), DOWN)\n",
    "            self.add(number)\n",
    "\n",
    "        ### Markierungen für Zeitstrahl erstellen\n",
    "        \n",
    "        line_2024 = Line(timeline.number_to_point(2024), timeline.number_to_point(2024) + 1 * np.array([np.cos(PI/4), np.sin(PI/4), 0]) , color =BLACK)\n",
    "        text_2024 = Tex(str(2024)+ \" - \" + \"Spongebob\", color = BLACK).next_to(line_2024, UP * 0.9 + RIGHT * 0.5)\n",
    "\n",
    "        line_1638 = Line(timeline.number_to_point(1638), timeline.number_to_point(1638) + 1 * np.array([np.cos(PI/4), np.sin(PI/4), 0]) , color =BLACK)\n",
    "        text_1638 = Tex(str(1638)+ \" - \" + \"Gallileo\", color = BLACK).next_to(line_1638, UP * 0.9 + RIGHT * 0.5)\n",
    "\n",
    "        line_1697 = Line(timeline.number_to_point(1697), timeline.number_to_point(1697) + 4 * np.array([np.cos(PI/4), 0.5 * np.sin(PI/4), 0]) , color =BLACK)\n",
    "        text_1697 = Tex(str(1697)+ \" - \" + \"Newton\", color = BLACK).next_to(line_1697, UP * 0.9 + RIGHT)\n",
    "\n",
    "        # Bilder Hinzufügen \n",
    "        gallileo_image = ImageMobject(\"img/Galileo_Galilei.png\")\n",
    "        gallileo_image.move_to(LEFT * 16 + UP * 3)\n",
    "        # Group\n",
    "        spongebob_image = ImageMobject(\"img/spongebob.png\").scale(0.7)\n",
    "        spongebob_image.move_to(RIGHT * 16 + UP * 3)\n",
    "\n",
    "        patrick_image = ImageMobject(\"img/patrick.png\")\n",
    "        patrick_image.move_to(RIGHT * 12 + UP * 2.3)\n",
    "\n",
    "        racecar_image = ImageMobject(\"img/RaceCar.png\")\n",
    "        racecar_image.scale(0.07)\n",
    "\n",
    "        newton_image = ImageMobject(\"img/Isaac_Newton.png\").scale(0.5)\n",
    "        newton_image.next_to(text_1697, UP)\n",
    "\n",
    "\n",
    "        ### Kreis für Gallileo Erklärung hinzufügen\n",
    "        circle = Circle(radius=2, color=BLACK)\n",
    "        circle.move_to(LEFT * 11 + UP*4)\n",
    "        # Definiere zwei Punkte auf dem Umfang des Kreises unten links\n",
    "        point1 = circle.point_at_angle(5 * PI / 4) # 225 Grad\n",
    "        point2 = circle.point_at_angle(3 * PI / 2) # 270 Grad\n",
    "        # Erstelle Dot-Objekte für die Punkte\n",
    "        dot1 = Dot(point1, color=BLACK).scale(0.7)\n",
    "        dot2 = Dot(point2, color=BLACK).scale(0.7)\n",
    "        dot1text = Tex(\"A\", color=BLACK).scale(0.3).next_to(dot1, DOWN/2)\n",
    "        dot2text = Tex(\"B\", color=BLACK).scale(0.3).next_to(dot2, DOWN/2)\n",
    "        # Linie zwischen Punkten\n",
    "        arc = Arc(\n",
    "            start_angle=5 * PI / 4, \n",
    "            angle=3 * PI / 2 - 5 * PI / 4, \n",
    "            radius=circle.radius, \n",
    "            color=BLACK,\n",
    "            stroke_width=2,\n",
    "            arc_center=circle.get_center()\n",
    "        )\n",
    "\n",
    "        # Erstelle die Waage\n",
    "        triangle = Polygon(LEFT * 2, RIGHT * 2, UP * 3, color=BLACK, stroke_width=2).scale(0.1)\n",
    "        triangle.next_to(arc.get_center(), 3/4 * UP + RIGHT/4)\n",
    "        horizontal_line = Line(start=triangle.get_top() + LEFT*4, end=triangle.get_top() + RIGHT*4, color=BLACK, stroke_width=2).scale(0.1)\n",
    "        horizontal_line.shift(0.01 * UP)\n",
    "        short_text = Tex(\"Short\", color=GREEN).scale(0.2).next_to(horizontal_line.get_start(), 0.09 * UP)\n",
    "        steep_text = Tex(\"Steep\", color=RED).scale(0.2).next_to(horizontal_line.get_end(), 0.03 * UP)\n",
    "        moving_object = VGroup(short_text, steep_text, horizontal_line)\n",
    "\n",
    "\n",
    "        # objekte an richtige stelle bringen:   \n",
    "        # Objekte zu image hinzufügen.\n",
    "        self.add(timeline)\n",
    "        #self.add(circle,dot1,dot2,arc)\n",
    "        #self.add(racecar_image)\n",
    "\n",
    "        \n",
    "        # Camera setup für Frame creation\n",
    "        self.camera.frame.move_to(RIGHT * 13 + UP)\n",
    "        self.play(Create(line_2024))\n",
    "        self.play(Write(text_2024))\n",
    "        self.play(FadeIn(patrick_image,spongebob_image))\n",
    "        self.play(self.camera.frame.animate.shift(LEFT * 26), run_time = 3)\n",
    "        self.play(Create(line_1638))\n",
    "        self.play(Write(text_1638))\n",
    "        self.play(FadeIn(gallileo_image))\n",
    "        self.play(self.camera.frame.animate.shift(UP * 1.5), Run_time = 2)\n",
    "        self.play(Create(circle))\n",
    "        self.play(self.camera.frame.animate.scale(0.2).move_to(arc),run_time = 2)\n",
    "        self.play(FadeIn(dot1))\n",
    "        self.play(FadeIn(dot2))\n",
    "        self.play(Write(dot1text), Write(dot2text))\n",
    "        self.play(Create(arc))\n",
    "        self.wait(2)\n",
    "        self.play(MoveAlongPath(racecar_image, arc), run_time=2)\n",
    "        self.wait(2)\n",
    "        # Waage einfügen und abspielen\n",
    "        self.play(FadeIn(triangle, moving_object))\n",
    "        self.wait(0.5)\n",
    "        self.play(Rotate(moving_object, angle=PI/12, about_point=triangle.get_top(), run_time=2))\n",
    "        self.play(Rotate(moving_object, angle=-PI/7, about_point=triangle.get_top(), run_time=2))\n",
    "        self.play(Rotate(moving_object, angle=PI/10, about_point=triangle.get_top(), run_time=2))\n",
    "        self.wait(2)\n",
    "        # Waage Ende\n",
    "        self.play(self.camera.frame.animate.scale(5).move_to(ORIGIN + LEFT * 13 + UP * 2.5), run_time=2)\n",
    "        self.wait(2)\n",
    "        self.play(self.camera.frame.animate.move_to(text_1697),run_time = 2)\n",
    "        self.play(Create(line_1697))                                                                                                                                                                                                                                                                                                \n",
    "        self.play(Write(text_1697))\n",
    "        self.play(FadeIn(newton_image))\n",
    "        self.wait(2)\n",
    "        self.play(self.camera.frame.animate.scale(0.35).move_to(newton_image),run_time = 2)\n",
    "        self.wait(2)\n",
    "\n",
    "        # Add all objects to a list\n",
    "        objects = [newton_image]\n",
    "\n",
    "        # Fade out all objects\n",
    "        self.play(*[FadeOut(obj) for obj in objects])\n",
    "        self.wait()"
   ]
  },
  {
   "cell_type": "code",
   "execution_count": 3,
   "metadata": {},
   "outputs": [
    {
     "data": {
      "text/html": [
       "<video src=\"media\\jupyter\\FunctionPlot@2024-01-06@09-50-21.mp4\" controls autoplay loop style=\"max-width: 60%;\"  >\n",
       "      Your browser does not support the <code>video</code> element.\n",
       "    </video>"
      ],
      "text/plain": [
       "<IPython.core.display.Video object>"
      ]
     },
     "metadata": {},
     "output_type": "display_data"
    }
   ],
   "source": [
    "%%manim -ql -v WARNING FunctionPlot\n",
    "\n",
    "from manim import *\n",
    "\n",
    "class FunctionPlot(Scene):\n",
    "    def construct(self):\n",
    "        axes = Axes(\n",
    "            x_range=[0.1, 10, 1],  # Start, Ende, Schrittweite für x-Achse\n",
    "            y_range=[0, 1, 0.1],   # Start, Ende, Schrittweite für y-Achse\n",
    "            axis_config={\"color\": BLUE},  # Farbe der Achsen\n",
    "        )\n",
    "\n",
    "        # Funktion f(x) = 0.01 * 1/x\n",
    "        function = axes.plot(lambda x: 0.01 * (1/x), color=RED)\n",
    "        function_label = axes.get_graph_label(function, label='0.01 \\\\times \\\\frac{1}{x}')\n",
    "\n",
    "        # Hinzufügen der Achsen, Funktion und Beschriftung zur Szene\n",
    "        self.add(axes, function, function_label)\n",
    "        self.wait(1)  # Wartezeit am Ende der Animation\n",
    "\n"
   ]
  }
 ],
 "metadata": {
  "kernelspec": {
   "display_name": "my-manim-environment",
   "language": "python",
   "name": "python3"
  },
  "language_info": {
   "codemirror_mode": {
    "name": "ipython",
    "version": 3
   },
   "file_extension": ".py",
   "mimetype": "text/x-python",
   "name": "python",
   "nbconvert_exporter": "python",
   "pygments_lexer": "ipython3",
   "version": "3.10.11"
  }
 },
 "nbformat": 4,
 "nbformat_minor": 2
}
