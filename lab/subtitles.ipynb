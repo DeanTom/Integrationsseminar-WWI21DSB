{
 "cells": [
  {
   "cell_type": "code",
   "execution_count": 1,
   "metadata": {},
   "outputs": [
    {
     "ename": "ModuleNotFoundError",
     "evalue": "No module named 'imageio'",
     "output_type": "error",
     "traceback": [
      "\u001b[1;31m---------------------------------------------------------------------------\u001b[0m",
      "\u001b[1;31mModuleNotFoundError\u001b[0m                       Traceback (most recent call last)",
      "Cell \u001b[1;32mIn[1], line 1\u001b[0m\n\u001b[1;32m----> 1\u001b[0m \u001b[38;5;28;01mimport\u001b[39;00m \u001b[38;5;21;01mimageio\u001b[39;00m\n\u001b[0;32m      2\u001b[0m \u001b[38;5;28;01mimport\u001b[39;00m \u001b[38;5;21;01mos\u001b[39;00m\n\u001b[0;32m      4\u001b[0m \u001b[38;5;28;01mdef\u001b[39;00m \u001b[38;5;21mextract_frames\u001b[39m(video_path):\n\u001b[0;32m      5\u001b[0m     \u001b[38;5;66;03m# Erstelle einen Ordner mit dem Namen des Videos\u001b[39;00m\n",
      "\u001b[1;31mModuleNotFoundError\u001b[0m: No module named 'imageio'"
     ]
    }
   ],
   "source": [
    "import imageio\n",
    "import os\n",
    "\n",
    "def extract_frames(video_path):\n",
    "    # Erstelle einen Ordner mit dem Namen des Videos\n",
    "    video_name = os.path.basename(video_path).split('.')[0] + \"_Frames\"\n",
    "    os.makedirs(video_name, exist_ok=True)\n",
    "\n",
    "    # Öffne das Video\n",
    "    reader = imageio.get_reader(video_path)\n",
    "\n",
    "    # Gehe durch jedes Bild und speichere es\n",
    "    for i, frame in enumerate(reader):\n",
    "        frame_path = os.path.join(video_name, f\"{i}.png\")\n",
    "        imageio.imwrite(frame_path, frame)\n",
    "\n",
    "# Verwende die Funktion mit dem Pfad deines Videos\n",
    "extract_frames('media/videos/Algorithm visualisation/480p15/MeineSzene.mp4')\n",
    "#extract_frames('media/videos/Algorithm visualisation/2160p60/RandomCircles.mp4')\n"
   ]
  }
 ],
 "metadata": {
  "kernelspec": {
   "display_name": "my-manim-environment",
   "language": "python",
   "name": "python3"
  },
  "language_info": {
   "codemirror_mode": {
    "name": "ipython",
    "version": 3
   },
   "file_extension": ".py",
   "mimetype": "text/x-python",
   "name": "python",
   "nbconvert_exporter": "python",
   "pygments_lexer": "ipython3",
   "version": "3.10.11"
  }
 },
 "nbformat": 4,
 "nbformat_minor": 2
}
