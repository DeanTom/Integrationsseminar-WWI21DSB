{
 "cells": [
  {
   "cell_type": "code",
   "execution_count": 2,
   "metadata": {},
   "outputs": [
    {
     "data": {
      "text/html": [
       "<pre style=\"white-space:pre;overflow-x:auto;line-height:normal;font-family:Menlo,'DejaVu Sans Mono',consolas,'Courier New',monospace\">Manim Community <span style=\"color: #008000; text-decoration-color: #008000\">v0.18.0</span>\n",
       "\n",
       "</pre>\n"
      ],
      "text/plain": [
       "Manim Community \u001b[32mv0.\u001b[0m\u001b[32m18.0\u001b[0m\n",
       "\n"
      ]
     },
     "metadata": {},
     "output_type": "display_data"
    }
   ],
   "source": [
    "from manim import *"
   ]
  },
  {
   "cell_type": "code",
   "execution_count": 9,
   "metadata": {},
   "outputs": [
    {
     "name": "stderr",
     "output_type": "stream",
     "text": [
      "<string>:73: DeprecationWarning: This method is not guaranteed to stay around. Please prefer getting the attribute normally.\n",
      "<string>:85: DeprecationWarning: This method is not guaranteed to stay around. Please prefer getting the attribute normally.\n",
      "                                                                                          \r"
     ]
    },
    {
     "data": {
      "text/html": [
       "<video src=\"media\\jupyter\\SpongebobAndPatrickScene3@2024-01-06@09-32-29.mp4\" controls autoplay loop style=\"max-width: 60%;\"  >\n",
       "      Your browser does not support the <code>video</code> element.\n",
       "    </video>"
      ],
      "text/plain": [
       "<IPython.core.display.Video object>"
      ]
     },
     "metadata": {},
     "output_type": "display_data"
    }
   ],
   "source": [
    "%%manim -ql -v WARNING SpongebobAndPatrickScene2\n",
    "\n",
    "class SpongebobAndPatrickScene2(MovingCameraScene):\n",
    "     def construct(self):\n",
    "        self.camera.background_color=GRAY_A\n",
    "\n",
    "        # Create the images\n",
    "        spongebob = ImageMobject(\"img\\spongebob.png\")\n",
    "        patrick = ImageMobject(\"img\\patrick_mirrored.png\")\n",
    "        spongebob.scale(0.7)\n",
    "        patrick.scale(0.7)\n",
    "\n",
    "        # # Add the finish flag\n",
    "        # finish_flag = ImageMobject(\"img\\racing_pole.png\")\n",
    "\n",
    "        # Create the first half of the mountain\n",
    "        def custom_func(x):\n",
    "            return np.where(x < 1, 1, np.where(1 <= x < 2, -x + 2, 0))\n",
    "\n",
    "        custom_graph = FunctionGraph(\n",
    "            custom_func,\n",
    "            color=BLACK,\n",
    "            x_range=[0, 3]\n",
    "        )\n",
    "\n",
    "        # Create the second half of the mountain\n",
    "        def logistic_func(x):\n",
    "            return np.where(x < 3, np.nan, np.where(3 <= x < 5, 1 / (1 + np.exp(-7 * x + 28)), 1))\n",
    "\n",
    "        custom_graph2 = FunctionGraph(\n",
    "            logistic_func,\n",
    "            color=BLACK,\n",
    "            x_range=[3, 6]\n",
    "        )\n",
    "\n",
    "        graph_group = VGroup(custom_graph, custom_graph2)\n",
    "        graph_group.center()\n",
    "\n",
    "        # Move the images to the top left corner\n",
    "        spongebob.move_to(custom_graph.points[0]+ UP/2 + LEFT/2).scale(0.3)\n",
    "        patrick.move_to(custom_graph2.points[-1] + UP/2 + RIGHT/2).scale(0.3)\n",
    "\n",
    "        # # Move the flag to the finish line\n",
    "        # finish_flag.move_to(custom_graph2.points[-1]).scale(0.3)\n",
    "\n",
    "        # Add the racecars\n",
    "        racecar1 = ImageMobject(\"img\\RaceCar.png\")\n",
    "        racecar2 = ImageMobject(\"img\\RaceCar_mirrored.png\")\n",
    "        racecar1.scale(0.2)\n",
    "        racecar2.scale(0.2)\n",
    "        racecar1.move_to(custom_graph.points[0])\n",
    "        racecar2.move_to(custom_graph2.points[-1])\n",
    "\n",
    "        # Reversed Graph to make it possible to move backwards\n",
    "        reversed_graph2_points = custom_graph2.points[::-1]\n",
    "        reversed_custom_graph2 = FunctionGraph(\n",
    "            logistic_func,\n",
    "            color=BLACK,\n",
    "            x_range=[3, 6]\n",
    "        )   \n",
    "        reversed_custom_graph2.set_points_as_corners(reversed_graph2_points)\n",
    "\n",
    "        # Add car animations\n",
    "        caranimation1 = AnimationGroup(\n",
    "            MoveAlongPath(racecar1, custom_graph),\n",
    "            run_time=4\n",
    "        )\n",
    "\n",
    "        caranimation2 = AnimationGroup(\n",
    "            MoveAlongPath(racecar2, reversed_custom_graph2),\n",
    "            run_time=3\n",
    "        )\n",
    "\n",
    "        line_length1 = custom_graph.get_width()\n",
    "        line1 = Line(LEFT * line_length1 / 2, RIGHT * line_length1 / 2, color=RED)  \n",
    "        line2 = Line(LEFT * line_length1 / 2, RIGHT * line_length1 * 0.6, color=BLUE)\n",
    "\n",
    "        # Position the line below custom_graph\n",
    "        line1.next_to(custom_graph, DOWN, buff=0.5)  \n",
    "        line2.next_to(line1, DOWN, buff=0.5)\n",
    "        line2.shift(RIGHT * 0.14)\n",
    "\n",
    "        self.play(Create(custom_graph))\n",
    "        self.play(Create(custom_graph2))\n",
    "        self.play(FadeIn(spongebob),FadeIn(patrick))\n",
    "        self.play(self.camera.frame.animate.set(width=graph_group.get_width() * 1.5))\n",
    "        self.play(ApplyMethod(custom_graph.set_color, RED))\n",
    "        self.wait(1)\n",
    "        self.play(FadeIn(line1))\n",
    "        self.wait(1)\n",
    "        self.play(ApplyMethod(custom_graph2.set_color, BLUE))\n",
    "        self.wait(1)\n",
    "        self.play(FadeIn(line2))\n",
    "        self.wait(1)\n",
    "        self.play(FadeOut(line2), FadeOut(line1))\n",
    "        self.play(FadeIn(racecar1), FadeIn(racecar2))\n",
    "        self.wait(1)\n",
    "        self.play(caranimation1, caranimation2)\n",
    "        self.wait(1)\n",
    "        # List of all objects that are visible at the end\n",
    "        objects = [spongebob, patrick, custom_graph, custom_graph2, racecar1, racecar2]\n",
    "\n",
    "        # Fade out all objects\n",
    "        self.play(*[FadeOut(obj) for obj in objects])"
   ]
  }
 ],
 "metadata": {
  "kernelspec": {
   "display_name": "Python 3",
   "language": "python",
   "name": "python3"
  },
  "language_info": {
   "codemirror_mode": {
    "name": "ipython",
    "version": 3
   },
   "file_extension": ".py",
   "mimetype": "text/x-python",
   "name": "python",
   "nbconvert_exporter": "python",
   "pygments_lexer": "ipython3",
   "version": "3.10.11"
  }
 },
 "nbformat": 4,
 "nbformat_minor": 2
}
