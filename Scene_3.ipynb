{
 "cells": [
  {
   "cell_type": "code",
   "execution_count": 2,
   "metadata": {},
   "outputs": [
    {
     "data": {
      "text/html": [
       "<pre style=\"white-space:pre;overflow-x:auto;line-height:normal;font-family:Menlo,'DejaVu Sans Mono',consolas,'Courier New',monospace\">Manim Community <span style=\"color: #008000; text-decoration-color: #008000\">v0.18.0</span>\n",
       "\n",
       "</pre>\n"
      ],
      "text/plain": [
       "Manim Community \u001b[32mv0.\u001b[0m\u001b[32m18.0\u001b[0m\n",
       "\n"
      ]
     },
     "metadata": {},
     "output_type": "display_data"
    }
   ],
   "source": [
    "from manim import *"
   ]
  },
  {
   "cell_type": "code",
   "execution_count": 44,
   "metadata": {},
   "outputs": [
    {
     "name": "stderr",
     "output_type": "stream",
     "text": [
      "<string>:85: DeprecationWarning: This method is not guaranteed to stay around. Please prefer getting the attribute normally.\n",
      "<string>:107: DeprecationWarning: This method is not guaranteed to stay around. Please prefer getting the attribute normally.\n",
      "<string>:126: DeprecationWarning: This method is not guaranteed to stay around. Please prefer getting the attribute normally.\n",
      "                                                                                                         \r"
     ]
    },
    {
     "data": {
      "text/html": [
       "<video src=\"media\\jupyter\\SpongebobAndPatrickScene2@2024-01-06@12-45-01.mp4\" controls autoplay loop style=\"max-width: 60%;\"  >\n",
       "      Your browser does not support the <code>video</code> element.\n",
       "    </video>"
      ],
      "text/plain": [
       "<IPython.core.display.Video object>"
      ]
     },
     "metadata": {},
     "output_type": "display_data"
    }
   ],
   "source": [
    "%%manim -ql -v WARNING SpongebobAndPatrickScene2\n",
    "\n",
    "class SpongebobAndPatrickScene2(MovingCameraScene):\n",
    "     def construct(self):\n",
    "        self.camera.background_color=GRAY_A\n",
    "\n",
    "        # Create the images\n",
    "        spongebob = ImageMobject(\"img\\spongebob.png\")\n",
    "        patrick = ImageMobject(\"img\\patrick_mirrored.png\")\n",
    "        lightbulb = ImageMobject(\"img\\lightbulb.png\")\n",
    "        spongebob.scale(0.7)\n",
    "        lightbulb.scale(0.2)\n",
    "\n",
    "        lightbulb.move_to(ORIGIN + 2* UP + 2* LEFT)\n",
    "        patrick.move_to(ORIGIN)\n",
    "        self.play(FadeIn(patrick))\n",
    "        self.play(FadeIn(lightbulb))\n",
    "        self.wait(1)\n",
    "        self.play(FadeOut(lightbulb), FadeOut(patrick))\n",
    "        patrick.scale(0.7)\n",
    "\n",
    "\n",
    "        # # Add the finish flag\n",
    "        # finish_flag = ImageMobject(\"img\\racing_pole.png\")\n",
    "\n",
    "        # Create the first half of the mountain\n",
    "        def custom_func(x):\n",
    "            return np.where(x < 1, 1, np.where(1 <= x < 2, -x + 2, 0))\n",
    "\n",
    "        custom_graph = FunctionGraph(\n",
    "            custom_func,\n",
    "            color=BLACK,\n",
    "            x_range=[0, 3],\n",
    "            stroke_width=2,\n",
    "        )\n",
    "\n",
    "        # Create the second half of the mountain\n",
    "        def logistic_func(x):\n",
    "            return np.where(x < 3, np.nan, np.where(3 <= x < 5, 1 / (1 + np.exp(-7 * x + 28)), 1))\n",
    "\n",
    "        custom_graph2 = FunctionGraph(\n",
    "            logistic_func,\n",
    "            color=BLACK,\n",
    "            x_range=[3, 6],\n",
    "            stroke_width=2,\n",
    "        )\n",
    "\n",
    "        graph_group = VGroup(custom_graph, custom_graph2)\n",
    "        graph_group.center()\n",
    "\n",
    "        # Move the images to the top left corner\n",
    "        spongebob.move_to(custom_graph.points[0]+ 2/3 * UP + LEFT/2).scale(0.3)\n",
    "        patrick.move_to(custom_graph2.points[-1] + 2/3 * UP + RIGHT/2).scale(0.3)\n",
    "\n",
    "        # # Move the flag to the finish line\n",
    "        # finish_flag.move_to(custom_graph2.points[-1]).scale(0.3)\n",
    "\n",
    "        # Add the racecars\n",
    "        racecar1 = ImageMobject(\"img\\RaceCar.png\")\n",
    "        racecar2 = ImageMobject(\"img\\RaceCar_mirrored.png\")\n",
    "        racecar1.scale(0.2)\n",
    "        racecar2.scale(0.2)\n",
    "        racecar1.move_to(custom_graph.points[0])\n",
    "        racecar2.move_to(custom_graph2.points[-1])\n",
    "\n",
    "        # Reversed Graph to make it possible to move backwards\n",
    "        reversed_graph2_points = custom_graph2.points[::-1]\n",
    "        reversed_custom_graph2 = FunctionGraph(\n",
    "            logistic_func,\n",
    "            color=BLACK,\n",
    "            x_range=[3, 6]\n",
    "        )   \n",
    "        reversed_custom_graph2.set_points_as_corners(reversed_graph2_points)\n",
    "\n",
    "        # Add car animations\n",
    "        caranimation1 = AnimationGroup(\n",
    "            MoveAlongPath(racecar1, custom_graph),\n",
    "            run_time=4\n",
    "        )\n",
    "\n",
    "        caranimation2 = AnimationGroup(\n",
    "            MoveAlongPath(racecar2, reversed_custom_graph2),\n",
    "            run_time=3\n",
    "        )\n",
    "\n",
    "        line_length1 = custom_graph.get_width()\n",
    "        line1 = Line(LEFT * line_length1 / 2, RIGHT * line_length1 / 2, color=RED, stroke_width=2)  \n",
    "        line2 = Line(LEFT * line_length1 / 2, RIGHT * line_length1 * 0.6, color=BLUE, stroke_width=2)\n",
    "\n",
    "        # Position the line below custom_graph\n",
    "        line1.next_to(custom_graph, DOWN, buff=0.5)  \n",
    "        line2.next_to(line1, DOWN, buff=0.5)\n",
    "        line2.shift(RIGHT * 0.14)\n",
    "\n",
    "        # Define start text\n",
    "        start_text =  Tex(\"3, 2, 1 ... GO!\", color=BLACK, font_size= 25).next_to(custom_graph.points[0], DOWN)\n",
    "\n",
    "        # Define patrick wins text\n",
    "        patrick_wins_text =  Tex(\"Patrick wins!\", color=BLACK, font_size= 25).next_to(graph_group, DOWN)\n",
    "\n",
    "        # Define end text\n",
    "        end_text =  Tex(\"But how is this possible?\", color=BLACK, font_size = 7).next_to(patrick, UP/6)\n",
    "        end_text2 =  Tex(\"Well, let's change the scenery\", color=BLACK, font_size = 7).next_to(patrick, UP/6)\n",
    "\n",
    "        self.play(Create(custom_graph))\n",
    "        self.play(Create(custom_graph2))\n",
    "        # self.play(FadeIn(spongebob),FadeIn(patrick))\n",
    "        self.play(self.camera.frame.animate.set(width=graph_group.get_width() * 1.4),FadeIn(spongebob),FadeIn(patrick))\n",
    "        self.wait(1)\n",
    "        self.play(ApplyMethod(custom_graph2.set_color, BLUE))\n",
    "        self.wait(1)\n",
    "        self.play(ApplyMethod(custom_graph.set_color, RED))\n",
    "        self.wait(1)\n",
    "        self.play(FadeIn(line1))\n",
    "        self.wait(1)\n",
    "        self.play(FadeIn(line2))\n",
    "        self.wait(1)\n",
    "        self.play(FadeOut(line2), FadeOut(line1), ApplyMethod(custom_graph2.set_color, BLACK), ApplyMethod(custom_graph.set_color, BLACK))\n",
    "        self.play(FadeIn(racecar1), FadeIn(racecar2))\n",
    "        self.wait(1)\n",
    "        self.play(Write(start_text), run_time=2)\n",
    "        self.play(FadeOut(start_text))\n",
    "        self.play(caranimation1, caranimation2)\n",
    "        self.wait(1)\n",
    "        self.play(Write(patrick_wins_text))\n",
    "        self.wait(1)\n",
    "        self.play(self.camera.frame.animate.move_to(patrick).set(width=patrick.get_width() * 2.7))\n",
    "        self.wait(1)\n",
    "        self.play(FadeIn(end_text))\n",
    "        self.wait(1)\n",
    "        self.play(Transform(end_text, end_text2))\n",
    "        self.wait(1)\n",
    "\n",
    "\n",
    "        # List of all objects that are visible at the end\n",
    "        objects = [end_text2, end_text, patrick]\n",
    "\n",
    "        # Fade out all objects\n",
    "        self.play(*[FadeOut(obj) for obj in objects])\n",
    "        self.wait()"
   ]
  }
 ],
 "metadata": {
  "kernelspec": {
   "display_name": "Python 3",
   "language": "python",
   "name": "python3"
  },
  "language_info": {
   "codemirror_mode": {
    "name": "ipython",
    "version": 3
   },
   "file_extension": ".py",
   "mimetype": "text/x-python",
   "name": "python",
   "nbconvert_exporter": "python",
   "pygments_lexer": "ipython3",
   "version": "3.10.11"
  }
 },
 "nbformat": 4,
 "nbformat_minor": 2
}
