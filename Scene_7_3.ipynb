{
  "cells": [
    {
      "cell_type": "code",
      "execution_count": 2,
      "metadata": {
        "colab": {
          "base_uri": "https://localhost:8080/",
          "height": 51
        },
        "id": "nA6OK2wxdGxN",
        "outputId": "5abe1426-f9c7-499d-e816-289acf407bc4"
      },
      "outputs": [
        {
          "data": {
            "text/html": [
              "<pre style=\"white-space:pre;overflow-x:auto;line-height:normal;font-family:Menlo,'DejaVu Sans Mono',consolas,'Courier New',monospace\">Manim Community <span style=\"color: #008000; text-decoration-color: #008000\">v0.18.0</span>\n",
              "\n",
              "</pre>\n"
            ],
            "text/plain": [
              "Manim Community \u001b[32mv0.\u001b[0m\u001b[32m18.0\u001b[0m\n",
              "\n"
            ]
          },
          "metadata": {},
          "output_type": "display_data"
        }
      ],
      "source": [
        "from manim import *"
      ]
    },
    {
      "cell_type": "code",
      "execution_count": 18,
      "metadata": {
        "colab": {
          "base_uri": "https://localhost:8080/",
          "height": 501
        },
        "id": "tB5dR8vEvFA8",
        "outputId": "ded93130-206f-468f-fa91-d4bbd18f6cb0"
      },
      "outputs": [
        {
          "name": "stderr",
          "output_type": "stream",
          "text": [
            "                                                                       \r"
          ]
        },
        {
          "data": {
            "text/html": [
              "<video src=\"media\\jupyter\\Scene_7_3@2024-02-08@19-20-16.mp4\" controls autoplay loop style=\"max-width: 60%;\"  >\n",
              "      Your browser does not support the <code>video</code> element.\n",
              "    </video>"
            ],
            "text/plain": [
              "<IPython.core.display.Video object>"
            ]
          },
          "metadata": {},
          "output_type": "display_data"
        }
      ],
      "source": [
        "%%manim -ql -v WARNING Scene_7_3\n",
        "\n",
        "class Scene_7_3(MovingCameraScene):\n",
        "    def construct(self):\n",
        "        self.camera.background_color=GRAY_A\n",
        "        # Kreieren der Punkte A und B inkl. Text\n",
        "        point_a = Dot(UP * 2.5 + LEFT * 5, color=BLACK)\n",
        "        point_b = Dot(RIGHT * 5, color=BLACK)\n",
        "\n",
        "        label_a = Tex(\"A\", color=BLACK).next_to(point_a, UP)\n",
        "        label_b = Tex(\"B\", color=BLACK).next_to(point_b, UP)\n",
        "\n",
        "        # Kreieren zweier Ellipsen\n",
        "        partial_circle_left = Arc(\n",
        "            start_angle=PI/2,\n",
        "            angle=PI,\n",
        "            color=BLACK\n",
        "        ).scale(3).stretch_to_fit_width(1)\n",
        "\n",
        "        partial_circle_right = Arc(\n",
        "            start_angle=-PI/2,\n",
        "            angle=PI,\n",
        "            color=BLACK\n",
        "        ).scale(3).stretch_to_fit_width(1)\n",
        "\n",
        "        label_lens = Tex(\"Lens\", color=BLACK).next_to(partial_circle_left.get_start(), UP)\n",
        "\n",
        "        # Kreieren der Punkte auf den Ellipsen\n",
        "        start_proportion_left = 0.125\n",
        "        end_proportion_left = 0.5\n",
        "        point_on_ellipse_left = Dot(partial_circle_left.point_from_proportion(start_proportion_left), color=BLACK, radius=0.01)\n",
        "\n",
        "        start_proportion_right = 0.75\n",
        "        end_proportion_right = 0.5\n",
        "        point_on_ellipse_right = Dot(partial_circle_right.point_from_proportion(start_proportion_right), color=RED, radius=0.01)\n",
        "\n",
        "        # Kreieren der Strahlen\n",
        "        strahl_a_to_left = always_redraw(lambda: Line(point_a.get_center(), point_on_ellipse_left.get_center(), color=ORANGE))\n",
        "        strahl_left_to_right = always_redraw(lambda: Line(point_on_ellipse_left.get_center(), point_on_ellipse_right.get_center(), color=ORANGE))\n",
        "        strahl_right_to_b = always_redraw(lambda: Line(point_on_ellipse_right.get_center(), point_b.get_center(), color=ORANGE))\n",
        "\n",
        "        # Anzeige\n",
        "        self.play(FadeIn(point_a, point_b, label_a, label_b))\n",
        "        self.play(FadeIn(partial_circle_left, partial_circle_right, label_lens))\n",
        "        self.play(Create(strahl_a_to_left), rate_func=linear)\n",
        "        self.play(Create(strahl_left_to_right), rate_func=linear)\n",
        "        self.play(Create(strahl_right_to_b), rate_func=linear)\n",
        "        self.add(point_on_ellipse_left, point_on_ellipse_right)\n",
        "        self.wait(1)\n",
        "        self.play(MoveAlongPath(point_on_ellipse_right, partial_circle_right, rate_func=lambda t: interpolate(start_proportion_right, end_proportion_right, t)), run_time=2)\n",
        "        self.play(MoveAlongPath(point_on_ellipse_left, partial_circle_left, rate_func=lambda t: interpolate(start_proportion_left, end_proportion_left, t)), run_time=2)\n",
        "        self.wait(2)\n",
        "\n",
        "        # Fade Out\n",
        "        objects = [point_a, point_b, label_a, label_b, partial_circle_left, partial_circle_right, label_lens, point_on_ellipse_left, point_on_ellipse_right, strahl_a_to_left, strahl_left_to_right, strahl_right_to_b]\n",
        "        self.play(*[FadeOut(obj) for obj in objects])\n",
        "\n"
      ]
    }
  ],
  "metadata": {
    "colab": {
      "provenance": []
    },
    "kernelspec": {
      "display_name": "Python 3",
      "name": "python3"
    },
    "language_info": {
      "codemirror_mode": {
        "name": "ipython",
        "version": 3
      },
      "file_extension": ".py",
      "mimetype": "text/x-python",
      "name": "python",
      "nbconvert_exporter": "python",
      "pygments_lexer": "ipython3",
      "version": "3.10.11"
    }
  },
  "nbformat": 4,
  "nbformat_minor": 0
}
