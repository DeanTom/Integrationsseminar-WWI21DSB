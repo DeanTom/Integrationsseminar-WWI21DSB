{
 "cells": [
  {
   "cell_type": "code",
   "execution_count": 3,
   "metadata": {},
   "outputs": [
    {
     "data": {
      "text/html": [
       "<pre style=\"white-space:pre;overflow-x:auto;line-height:normal;font-family:Menlo,'DejaVu Sans Mono',consolas,'Courier New',monospace\">Manim Community <span style=\"color: #008000; text-decoration-color: #008000\">v0.18.0</span>\n",
       "\n",
       "</pre>\n"
      ],
      "text/plain": [
       "Manim Community \u001b[32mv0.\u001b[0m\u001b[32m18.0\u001b[0m\n",
       "\n"
      ]
     },
     "metadata": {},
     "output_type": "display_data"
    }
   ],
   "source": [
    "from manim import *"
   ]
  },
  {
   "cell_type": "markdown",
   "metadata": {},
   "source": [
    "Szene 6"
   ]
  },
  {
   "cell_type": "code",
   "execution_count": 270,
   "metadata": {},
   "outputs": [
    {
     "ename": "SyntaxError",
     "evalue": "invalid syntax (<string>, line 95)",
     "output_type": "error",
     "traceback": [
      "Traceback \u001b[0;36m(most recent call last)\u001b[0m:\n",
      "\u001b[0m  File \u001b[1;32m~/anaconda3/envs/my-manim-environment/lib/python3.11/site-packages/IPython/core/interactiveshell.py:3548\u001b[0m in \u001b[1;35mrun_code\u001b[0m\n    exec(code_obj, self.user_global_ns, self.user_ns)\u001b[0m\n",
      "\u001b[0m  Cell \u001b[1;32mIn[270], line 1\u001b[0m\n    get_ipython().run_cell_magic('manim', '-ql -v WARNING ZeitstrahlScene', '\\nclass ZeitstrahlScene(MovingCameraScene):\\n    def construct(self):\\n        self.camera.background_color = WHITE\\n\\n        ### Zeitstrahl erstellen\\n        timeline = NumberLine(\\n            x_range=[1500, 2200, 10],\\n            length=50,\\n            #include_numbers=True,\\n            #label_direction=UP,\\n            color = BLACK\\n        )\\n\\n        for x in range(1500, 2201, 50):\\n            number = Text(str(x), color=BLACK).next_to(timeline.n2p(x), DOWN)\\n            self.add(number)\\n\\n        ### Markierungen für Zeitstrahl erstellen\\n        \\n        line_2024 = Line(timeline.number_to_point(2024), timeline.number_to_point(2024) + 1 * np.array([np.cos(PI/4), np.sin(PI/4), 0]) , color =BLACK)\\n        text_2024 = Tex(str(2024)+ \" - \" + \"Spongebob\", color = BLACK).next_to(line_2024, UP * 0.9 + RIGHT * 0.5)\\n\\n        line_1638 = Line(timeline.number_to_point(1638), timeline.number_to_point(1638) + 1 * np.array([np.cos(PI/4), np.sin(PI/4), 0]) , color =BLACK)\\n        text_1638 = Tex(str(1638)+ \" - \" + \"Gallileo\", color = BLACK).next_to(line_1638, UP * 0.9 + RIGHT * 0.5)\\n\\n        line_1697 = Line(timeline.number_to_point(1697), timeline.number_to_point(1697) + 4 * np.array([np.cos(PI/4), 0.5 * np.sin(PI/4), 0]) , color =BLACK)\\n        text_1697 = Tex(str(1697)+ \" - \" + \"Newton\", color = BLACK).next_to(line_1697, UP * 0.9 + RIGHT)\\n\\n        # Bilder Hinzufügen \\n        gallileo_image = ImageMobject(\"img/Galileo_Galilei.png\")\\n        gallileo_image.move_to(LEFT * 16 + UP * 3)\\n        # Group\\n        spongebob_image = ImageMobject(\"img/spongebob.png\").scale(0.7)\\n        spongebob_image.move_to(RIGHT * 16 + UP * 3)\\n\\n        patrick_image = ImageMobject(\"img/patrick.png\")\\n        patrick_image.move_to(RIGHT * 12 + UP * 2.3)\\n\\n        racecar_image = ImageMobject(\"img/RaceCar.png\")\\n        racecar_image.scale(0.05)\\n\\n        newton_image = ImageMobject(\"img/Isaac_Newton.png\").scale(0.5)\\n        newton_image.next_to(text_1697, UP)\\n        \\n\\n\\n\\n        ### Kreis für Gallileo Erklärung hinzufügen\\n        circle = Circle(radius=2, color=BLACK)\\n        circle.move_to(LEFT * 11 + UP*4)\\n        # Definiere zwei Punkte auf dem Umfang des Kreises unten links\\n        point1 = circle.point_at_angle(5 * PI / 4) # 225 Grad\\n        point2 = circle.point_at_angle(3 * PI / 2) # 270 Grad\\n        # Erstelle Dot-Objekte für die Punkte\\n        dot1 = Dot(point1, color=RED)\\n        dot2 = Dot(point2, color=BLUE)\\n        # Linie zwischen Punkten\\n        arc = Arc(\\n            start_angle=5 * PI / 4, \\n            angle=3 * PI / 2 - 5 * PI / 4, \\n            radius=circle.radius, \\n            color=YELLOW,\\n            arc_center=circle.get_center()\\n        )\\n\\n\\n        # objekte an richtige stelle bringen:   \\n        # Objekte zu image hinzufügen.\\n        self.add(timeline)\\n        #self.add(circle,dot1,dot2,arc)\\n        #self.add(racecar_image)\\n\\n        \\n        # Camera setup für Frame creation\\n        self.camera.frame.move_to(RIGHT * 13 + UP)\\n        self.play(Create(line_2024))\\n        self.play(Write(text_2024))\\n        self.play(FadeIn(patrick_image,spongebob_image))\\n        self.play(self.camera.frame.animate.shift(LEFT * 26), run_time = 3)\\n        self.play(Create(line_1638))\\n        self.play(Write(text_1638))\\n        self.play(FadeIn(gallileo_image))\\n        self.play(self.camera.frame.animate.shift(UP * 1.5), Run_time = 2)\\n        self.play(Create(circle))\\n        self.play(self.camera.frame.animate.scale(0.2).move_to(arc),run_time = 2)\\n        self.play(FadeIn(dot1))\\n        self.play(FadeIn(dot2))\\n        self.play(Create(arc))\\n        self.wait(2)\\n        self.play(MoveAlongPath(racecar_image, arc), run_time=2)\\n        self.play(self.camera.frame.animate.scale(5).move_to(ORIGIN + LEFT * 13 + UP * 2.5), run_time=2)\\n        self.wait(2)\\n        self.play(self.camera.frame.animate.move_to(text_1697),run_time = 2)\\n        self.play(Create(line_1697))                                                                                                                                                                                                                                                                                                ^\\n        self.play(Write(text_1697))\\n        self.play(FadeIn(newton_image))\\n        self.wait(2)\\n')\u001b[0m\n",
      "\u001b[0m  File \u001b[1;32m~/anaconda3/envs/my-manim-environment/lib/python3.11/site-packages/IPython/core/interactiveshell.py:2515\u001b[0m in \u001b[1;35mrun_cell_magic\u001b[0m\n    result = fn(*args, **kwargs)\u001b[0m\n",
      "\u001b[0;36m  File \u001b[0;32m~/anaconda3/envs/my-manim-environment/lib/python3.11/site-packages/manim/utils/ipython_magic.py:120\u001b[0;36m in \u001b[0;35mmanim\u001b[0;36m\n\u001b[0;31m    exec(cell, local_ns)\u001b[0;36m\n",
      "\u001b[0;36m  File \u001b[0;32m<string>:95\u001b[0;36m\u001b[0m\n\u001b[0;31m    self.play(Create(line_1697))                                                                                                                                                                                                                                                                                                ^\u001b[0m\n\u001b[0m                                                                                                                                                                                                                                                                                                                                 ^\u001b[0m\n\u001b[0;31mSyntaxError\u001b[0m\u001b[0;31m:\u001b[0m invalid syntax\n"
     ]
    }
   ],
   "source": [
    "%%manim -ql -v WARNING ZeitstrahlScene\n",
    "\n",
    "class ZeitstrahlScene(MovingCameraScene):\n",
    "    def construct(self):\n",
    "        self.camera.background_color = WHITE\n",
    "\n",
    "        ### Zeitstrahl erstellen\n",
    "        timeline = NumberLine(\n",
    "            x_range=[1500, 2200, 10],\n",
    "            length=50,\n",
    "            #include_numbers=True,\n",
    "            #label_direction=UP,\n",
    "            color = BLACK\n",
    "        )\n",
    "\n",
    "        for x in range(1500, 2201, 50):\n",
    "            number = Text(str(x), color=BLACK).next_to(timeline.n2p(x), DOWN)\n",
    "            self.add(number)\n",
    "\n",
    "        ### Markierungen für Zeitstrahl erstellen\n",
    "        \n",
    "        line_2024 = Line(timeline.number_to_point(2024), timeline.number_to_point(2024) + 1 * np.array([np.cos(PI/4), np.sin(PI/4), 0]) , color =BLACK)\n",
    "        text_2024 = Tex(str(2024)+ \" - \" + \"Spongebob\", color = BLACK).next_to(line_2024, UP * 0.9 + RIGHT * 0.5)\n",
    "\n",
    "        line_1638 = Line(timeline.number_to_point(1638), timeline.number_to_point(1638) + 1 * np.array([np.cos(PI/4), np.sin(PI/4), 0]) , color =BLACK)\n",
    "        text_1638 = Tex(str(1638)+ \" - \" + \"Gallileo\", color = BLACK).next_to(line_1638, UP * 0.9 + RIGHT * 0.5)\n",
    "\n",
    "        line_1697 = Line(timeline.number_to_point(1697), timeline.number_to_point(1697) + 4 * np.array([np.cos(PI/4), 0.5 * np.sin(PI/4), 0]) , color =BLACK)\n",
    "        text_1697 = Tex(str(1697)+ \" - \" + \"Newton\", color = BLACK).next_to(line_1697, UP * 0.9 + RIGHT)\n",
    "\n",
    "        # Bilder Hinzufügen \n",
    "        gallileo_image = ImageMobject(\"img/Galileo_Galilei.png\")\n",
    "        gallileo_image.move_to(LEFT * 16 + UP * 3)\n",
    "        # Group\n",
    "        spongebob_image = ImageMobject(\"img/spongebob.png\").scale(0.7)\n",
    "        spongebob_image.move_to(RIGHT * 16 + UP * 3)\n",
    "\n",
    "        patrick_image = ImageMobject(\"img/patrick.png\")\n",
    "        patrick_image.move_to(RIGHT * 12 + UP * 2.3)\n",
    "\n",
    "        racecar_image = ImageMobject(\"img/RaceCar.png\")\n",
    "        racecar_image.scale(0.05)\n",
    "\n",
    "        newton_image = ImageMobject(\"img/Isaac_Newton.png\").scale(0.5)\n",
    "        newton_image.next_to(text_1697, UP)\n",
    "\n",
    "\n",
    "        ### Kreis für Gallileo Erklärung hinzufügen\n",
    "        circle = Circle(radius=2, color=BLACK)\n",
    "        circle.move_to(LEFT * 11 + UP*4)\n",
    "        # Definiere zwei Punkte auf dem Umfang des Kreises unten links\n",
    "        point1 = circle.point_at_angle(5 * PI / 4) # 225 Grad\n",
    "        point2 = circle.point_at_angle(3 * PI / 2) # 270 Grad\n",
    "        # Erstelle Dot-Objekte für die Punkte\n",
    "        dot1 = Dot(point1, color=RED)\n",
    "        dot2 = Dot(point2, color=BLUE)\n",
    "        # Linie zwischen Punkten\n",
    "        arc = Arc(\n",
    "            start_angle=5 * PI / 4, \n",
    "            angle=3 * PI / 2 - 5 * PI / 4, \n",
    "            radius=circle.radius, \n",
    "            color=YELLOW,\n",
    "            arc_center=circle.get_center()\n",
    "        )\n",
    "\n",
    "\n",
    "        # objekte an richtige stelle bringen:   \n",
    "        # Objekte zu image hinzufügen.\n",
    "        self.add(timeline)\n",
    "        #self.add(circle,dot1,dot2,arc)\n",
    "        #self.add(racecar_image)\n",
    "\n",
    "        \n",
    "        # Camera setup für Frame creation\n",
    "        self.camera.frame.move_to(RIGHT * 13 + UP)\n",
    "        self.play(Create(line_2024))\n",
    "        self.play(Write(text_2024))\n",
    "        self.play(FadeIn(patrick_image,spongebob_image))\n",
    "        self.play(self.camera.frame.animate.shift(LEFT * 26), run_time = 3)\n",
    "        self.play(Create(line_1638))\n",
    "        self.play(Write(text_1638))\n",
    "        self.play(FadeIn(gallileo_image))\n",
    "        self.play(self.camera.frame.animate.shift(UP * 1.5), Run_time = 2)\n",
    "        self.play(Create(circle))\n",
    "        self.play(self.camera.frame.animate.scale(0.2).move_to(arc),run_time = 2)\n",
    "        self.play(FadeIn(dot1))\n",
    "        self.play(FadeIn(dot2))\n",
    "        self.play(Create(arc))\n",
    "        self.wait(2)\n",
    "        self.play(MoveAlongPath(racecar_image, arc), run_time=2)\n",
    "        self.play(self.camera.frame.animate.scale(5).move_to(ORIGIN + LEFT * 13 + UP * 2.5), run_time=2)\n",
    "        self.wait(2)\n",
    "        self.play(self.camera.frame.animate.move_to(text_1697),run_time = 2)\n",
    "        self.play(Create(line_1697))                                                                                                                                                                                                                                                                                                ^\n",
    "        self.play(Write(text_1697))\n",
    "        self.play(FadeIn(newton_image))\n",
    "        self.wait(2)"
   ]
  },
  {
   "cell_type": "code",
   "execution_count": 265,
   "metadata": {},
   "outputs": [
    {
     "ename": "AttributeError",
     "evalue": "module 'numpy' has no attribute 'matrix'",
     "output_type": "error",
     "traceback": [
      "\u001b[0;31m---------------------------------------------------------------------------\u001b[0m",
      "\u001b[0;31mAttributeError\u001b[0m                            Traceback (most recent call last)",
      "Cell \u001b[0;32mIn[265], line 1\u001b[0m\n\u001b[0;32m----> 1\u001b[0m \u001b[43mget_ipython\u001b[49m\u001b[43m(\u001b[49m\u001b[43m)\u001b[49m\u001b[38;5;241;43m.\u001b[39;49m\u001b[43mrun_cell_magic\u001b[49m\u001b[43m(\u001b[49m\u001b[38;5;124;43m'\u001b[39;49m\u001b[38;5;124;43mmanim\u001b[39;49m\u001b[38;5;124;43m'\u001b[39;49m\u001b[43m,\u001b[49m\u001b[43m \u001b[49m\u001b[38;5;124;43m'\u001b[39;49m\u001b[38;5;124;43m-ql -v WARNING FunctionPlot\u001b[39;49m\u001b[38;5;124;43m'\u001b[39;49m\u001b[43m,\u001b[49m\u001b[43m \u001b[49m\u001b[38;5;124;43m'\u001b[39;49m\u001b[38;5;130;43;01m\\n\u001b[39;49;00m\u001b[38;5;124;43mfrom manim import *\u001b[39;49m\u001b[38;5;130;43;01m\\n\u001b[39;49;00m\u001b[38;5;130;43;01m\\n\u001b[39;49;00m\u001b[38;5;124;43mclass FunctionPlot(Scene):\u001b[39;49m\u001b[38;5;130;43;01m\\n\u001b[39;49;00m\u001b[38;5;124;43m    def construct(self):\u001b[39;49m\u001b[38;5;130;43;01m\\n\u001b[39;49;00m\u001b[38;5;124;43m        axes = Axes(\u001b[39;49m\u001b[38;5;130;43;01m\\n\u001b[39;49;00m\u001b[38;5;124;43m            x_range=[0.1, 10, 1],  # Start, Ende, Schrittweite für x-Achse\u001b[39;49m\u001b[38;5;130;43;01m\\n\u001b[39;49;00m\u001b[38;5;124;43m            y_range=[0, 1, 0.1],   # Start, Ende, Schrittweite für y-Achse\u001b[39;49m\u001b[38;5;130;43;01m\\n\u001b[39;49;00m\u001b[38;5;124;43m            axis_config=\u001b[39;49m\u001b[38;5;124;43m{\u001b[39;49m\u001b[38;5;124;43m\"\u001b[39;49m\u001b[38;5;124;43mcolor\u001b[39;49m\u001b[38;5;124;43m\"\u001b[39;49m\u001b[38;5;124;43m: BLUE},  # Farbe der Achsen\u001b[39;49m\u001b[38;5;130;43;01m\\n\u001b[39;49;00m\u001b[38;5;124;43m        )\u001b[39;49m\u001b[38;5;130;43;01m\\n\u001b[39;49;00m\u001b[38;5;130;43;01m\\n\u001b[39;49;00m\u001b[38;5;124;43m        # Funktion f(x) = 0.01 * 1/x\u001b[39;49m\u001b[38;5;130;43;01m\\n\u001b[39;49;00m\u001b[38;5;124;43m        function = axes.plot(lambda x: 0.01 * (1/x), color=RED)\u001b[39;49m\u001b[38;5;130;43;01m\\n\u001b[39;49;00m\u001b[38;5;124;43m        function_label = axes.get_graph_label(function, label=\u001b[39;49m\u001b[38;5;130;43;01m\\'\u001b[39;49;00m\u001b[38;5;124;43m0.01 \u001b[39;49m\u001b[38;5;130;43;01m\\\\\u001b[39;49;00m\u001b[38;5;130;43;01m\\\\\u001b[39;49;00m\u001b[38;5;124;43mtimes \u001b[39;49m\u001b[38;5;130;43;01m\\\\\u001b[39;49;00m\u001b[38;5;130;43;01m\\\\\u001b[39;49;00m\u001b[38;5;124;43mfrac\u001b[39;49m\u001b[38;5;132;43;01m{1}\u001b[39;49;00m\u001b[38;5;132;43;01m{x}\u001b[39;49;00m\u001b[38;5;130;43;01m\\'\u001b[39;49;00m\u001b[38;5;124;43m)\u001b[39;49m\u001b[38;5;130;43;01m\\n\u001b[39;49;00m\u001b[38;5;130;43;01m\\n\u001b[39;49;00m\u001b[38;5;124;43m        # Hinzufügen der Achsen, Funktion und Beschriftung zur Szene\u001b[39;49m\u001b[38;5;130;43;01m\\n\u001b[39;49;00m\u001b[38;5;124;43m        self.add(axes, function, function_label)\u001b[39;49m\u001b[38;5;130;43;01m\\n\u001b[39;49;00m\u001b[38;5;124;43m        self.wait(1)  # Wartezeit am Ende der Animation\u001b[39;49m\u001b[38;5;130;43;01m\\n\u001b[39;49;00m\u001b[38;5;130;43;01m\\n\u001b[39;49;00m\u001b[38;5;124;43m'\u001b[39;49m\u001b[43m)\u001b[49m\n",
      "File \u001b[0;32m~/anaconda3/envs/my-manim-environment/lib/python3.11/site-packages/IPython/core/interactiveshell.py:2515\u001b[0m, in \u001b[0;36mInteractiveShell.run_cell_magic\u001b[0;34m(self, magic_name, line, cell)\u001b[0m\n\u001b[1;32m   2513\u001b[0m \u001b[38;5;28;01mwith\u001b[39;00m \u001b[38;5;28mself\u001b[39m\u001b[38;5;241m.\u001b[39mbuiltin_trap:\n\u001b[1;32m   2514\u001b[0m     args \u001b[38;5;241m=\u001b[39m (magic_arg_s, cell)\n\u001b[0;32m-> 2515\u001b[0m     result \u001b[38;5;241m=\u001b[39m \u001b[43mfn\u001b[49m\u001b[43m(\u001b[49m\u001b[38;5;241;43m*\u001b[39;49m\u001b[43margs\u001b[49m\u001b[43m,\u001b[49m\u001b[43m \u001b[49m\u001b[38;5;241;43m*\u001b[39;49m\u001b[38;5;241;43m*\u001b[39;49m\u001b[43mkwargs\u001b[49m\u001b[43m)\u001b[49m\n\u001b[1;32m   2517\u001b[0m \u001b[38;5;66;03m# The code below prevents the output from being displayed\u001b[39;00m\n\u001b[1;32m   2518\u001b[0m \u001b[38;5;66;03m# when using magics with decorator @output_can_be_silenced\u001b[39;00m\n\u001b[1;32m   2519\u001b[0m \u001b[38;5;66;03m# when the last Python token in the expression is a ';'.\u001b[39;00m\n\u001b[1;32m   2520\u001b[0m \u001b[38;5;28;01mif\u001b[39;00m \u001b[38;5;28mgetattr\u001b[39m(fn, magic\u001b[38;5;241m.\u001b[39mMAGIC_OUTPUT_CAN_BE_SILENCED, \u001b[38;5;28;01mFalse\u001b[39;00m):\n",
      "File \u001b[0;32m~/anaconda3/envs/my-manim-environment/lib/python3.11/site-packages/manim/utils/ipython_magic.py:141\u001b[0m, in \u001b[0;36mManimMagic.manim\u001b[0;34m(self, line, cell, local_ns)\u001b[0m\n\u001b[1;32m    139\u001b[0m     SceneClass \u001b[38;5;241m=\u001b[39m local_ns[config[\u001b[38;5;124m\"\u001b[39m\u001b[38;5;124mscene_names\u001b[39m\u001b[38;5;124m\"\u001b[39m][\u001b[38;5;241m0\u001b[39m]]\n\u001b[1;32m    140\u001b[0m     scene \u001b[38;5;241m=\u001b[39m SceneClass(renderer\u001b[38;5;241m=\u001b[39mrenderer)\n\u001b[0;32m--> 141\u001b[0m     \u001b[43mscene\u001b[49m\u001b[38;5;241;43m.\u001b[39;49m\u001b[43mrender\u001b[49m\u001b[43m(\u001b[49m\u001b[43m)\u001b[49m\n\u001b[1;32m    142\u001b[0m \u001b[38;5;28;01mfinally\u001b[39;00m:\n\u001b[1;32m    143\u001b[0m     \u001b[38;5;66;03m# Shader cache becomes invalid as the context is destroyed\u001b[39;00m\n\u001b[1;32m    144\u001b[0m     shader_program_cache\u001b[38;5;241m.\u001b[39mclear()\n",
      "File \u001b[0;32m~/anaconda3/envs/my-manim-environment/lib/python3.11/site-packages/manim/scene/scene.py:223\u001b[0m, in \u001b[0;36mScene.render\u001b[0;34m(self, preview)\u001b[0m\n\u001b[1;32m    221\u001b[0m \u001b[38;5;28mself\u001b[39m\u001b[38;5;241m.\u001b[39msetup()\n\u001b[1;32m    222\u001b[0m \u001b[38;5;28;01mtry\u001b[39;00m:\n\u001b[0;32m--> 223\u001b[0m     \u001b[38;5;28;43mself\u001b[39;49m\u001b[38;5;241;43m.\u001b[39;49m\u001b[43mconstruct\u001b[49m\u001b[43m(\u001b[49m\u001b[43m)\u001b[49m\n\u001b[1;32m    224\u001b[0m \u001b[38;5;28;01mexcept\u001b[39;00m EndSceneEarlyException:\n\u001b[1;32m    225\u001b[0m     \u001b[38;5;28;01mpass\u001b[39;00m\n",
      "File \u001b[0;32m<string>:18\u001b[0m, in \u001b[0;36mconstruct\u001b[0;34m(self)\u001b[0m\n",
      "File \u001b[0;32m~/anaconda3/envs/my-manim-environment/lib/python3.11/site-packages/manim/scene/scene.py:1122\u001b[0m, in \u001b[0;36mScene.wait\u001b[0;34m(self, duration, stop_condition, frozen_frame)\u001b[0m\n\u001b[1;32m   1095\u001b[0m \u001b[38;5;28;01mdef\u001b[39;00m \u001b[38;5;21mwait\u001b[39m(\n\u001b[1;32m   1096\u001b[0m     \u001b[38;5;28mself\u001b[39m,\n\u001b[1;32m   1097\u001b[0m     duration: \u001b[38;5;28mfloat\u001b[39m \u001b[38;5;241m=\u001b[39m DEFAULT_WAIT_TIME,\n\u001b[1;32m   1098\u001b[0m     stop_condition: Callable[[], \u001b[38;5;28mbool\u001b[39m] \u001b[38;5;241m|\u001b[39m \u001b[38;5;28;01mNone\u001b[39;00m \u001b[38;5;241m=\u001b[39m \u001b[38;5;28;01mNone\u001b[39;00m,\n\u001b[1;32m   1099\u001b[0m     frozen_frame: \u001b[38;5;28mbool\u001b[39m \u001b[38;5;241m|\u001b[39m \u001b[38;5;28;01mNone\u001b[39;00m \u001b[38;5;241m=\u001b[39m \u001b[38;5;28;01mNone\u001b[39;00m,\n\u001b[1;32m   1100\u001b[0m ):\n\u001b[1;32m   1101\u001b[0m \u001b[38;5;250m    \u001b[39m\u001b[38;5;124;03m\"\"\"Plays a \"no operation\" animation.\u001b[39;00m\n\u001b[1;32m   1102\u001b[0m \n\u001b[1;32m   1103\u001b[0m \u001b[38;5;124;03m    Parameters\u001b[39;00m\n\u001b[0;32m   (...)\u001b[0m\n\u001b[1;32m   1120\u001b[0m \u001b[38;5;124;03m    :class:`.Wait`, :meth:`.should_mobjects_update`\u001b[39;00m\n\u001b[1;32m   1121\u001b[0m \u001b[38;5;124;03m    \"\"\"\u001b[39;00m\n\u001b[0;32m-> 1122\u001b[0m     \u001b[38;5;28;43mself\u001b[39;49m\u001b[38;5;241;43m.\u001b[39;49m\u001b[43mplay\u001b[49m\u001b[43m(\u001b[49m\n\u001b[1;32m   1123\u001b[0m \u001b[43m        \u001b[49m\u001b[43mWait\u001b[49m\u001b[43m(\u001b[49m\n\u001b[1;32m   1124\u001b[0m \u001b[43m            \u001b[49m\u001b[43mrun_time\u001b[49m\u001b[38;5;241;43m=\u001b[39;49m\u001b[43mduration\u001b[49m\u001b[43m,\u001b[49m\n\u001b[1;32m   1125\u001b[0m \u001b[43m            \u001b[49m\u001b[43mstop_condition\u001b[49m\u001b[38;5;241;43m=\u001b[39;49m\u001b[43mstop_condition\u001b[49m\u001b[43m,\u001b[49m\n\u001b[1;32m   1126\u001b[0m \u001b[43m            \u001b[49m\u001b[43mfrozen_frame\u001b[49m\u001b[38;5;241;43m=\u001b[39;49m\u001b[43mfrozen_frame\u001b[49m\u001b[43m,\u001b[49m\n\u001b[1;32m   1127\u001b[0m \u001b[43m        \u001b[49m\u001b[43m)\u001b[49m\n\u001b[1;32m   1128\u001b[0m \u001b[43m    \u001b[49m\u001b[43m)\u001b[49m\n",
      "File \u001b[0;32m~/anaconda3/envs/my-manim-environment/lib/python3.11/site-packages/manim/scene/scene.py:1080\u001b[0m, in \u001b[0;36mScene.play\u001b[0;34m(self, subcaption, subcaption_duration, subcaption_offset, *args, **kwargs)\u001b[0m\n\u001b[1;32m   1077\u001b[0m     \u001b[38;5;28;01mreturn\u001b[39;00m\n\u001b[1;32m   1079\u001b[0m start_time \u001b[38;5;241m=\u001b[39m \u001b[38;5;28mself\u001b[39m\u001b[38;5;241m.\u001b[39mrenderer\u001b[38;5;241m.\u001b[39mtime\n\u001b[0;32m-> 1080\u001b[0m \u001b[38;5;28;43mself\u001b[39;49m\u001b[38;5;241;43m.\u001b[39;49m\u001b[43mrenderer\u001b[49m\u001b[38;5;241;43m.\u001b[39;49m\u001b[43mplay\u001b[49m\u001b[43m(\u001b[49m\u001b[38;5;28;43mself\u001b[39;49m\u001b[43m,\u001b[49m\u001b[43m \u001b[49m\u001b[38;5;241;43m*\u001b[39;49m\u001b[43margs\u001b[49m\u001b[43m,\u001b[49m\u001b[43m \u001b[49m\u001b[38;5;241;43m*\u001b[39;49m\u001b[38;5;241;43m*\u001b[39;49m\u001b[43mkwargs\u001b[49m\u001b[43m)\u001b[49m\n\u001b[1;32m   1081\u001b[0m run_time \u001b[38;5;241m=\u001b[39m \u001b[38;5;28mself\u001b[39m\u001b[38;5;241m.\u001b[39mrenderer\u001b[38;5;241m.\u001b[39mtime \u001b[38;5;241m-\u001b[39m start_time\n\u001b[1;32m   1082\u001b[0m \u001b[38;5;28;01mif\u001b[39;00m subcaption:\n",
      "File \u001b[0;32m~/anaconda3/envs/my-manim-environment/lib/python3.11/site-packages/manim/renderer/cairo_renderer.py:71\u001b[0m, in \u001b[0;36mCairoRenderer.play\u001b[0;34m(self, scene, *args, **kwargs)\u001b[0m\n\u001b[1;32m     69\u001b[0m     hash_current_animation \u001b[38;5;241m=\u001b[39m \u001b[38;5;124mf\u001b[39m\u001b[38;5;124m\"\u001b[39m\u001b[38;5;124muncached_\u001b[39m\u001b[38;5;132;01m{\u001b[39;00m\u001b[38;5;28mself\u001b[39m\u001b[38;5;241m.\u001b[39mnum_plays\u001b[38;5;132;01m:\u001b[39;00m\u001b[38;5;124m05\u001b[39m\u001b[38;5;132;01m}\u001b[39;00m\u001b[38;5;124m\"\u001b[39m\n\u001b[1;32m     70\u001b[0m \u001b[38;5;28;01melse\u001b[39;00m:\n\u001b[0;32m---> 71\u001b[0m     hash_current_animation \u001b[38;5;241m=\u001b[39m \u001b[43mget_hash_from_play_call\u001b[49m\u001b[43m(\u001b[49m\n\u001b[1;32m     72\u001b[0m \u001b[43m        \u001b[49m\u001b[43mscene\u001b[49m\u001b[43m,\u001b[49m\n\u001b[1;32m     73\u001b[0m \u001b[43m        \u001b[49m\u001b[38;5;28;43mself\u001b[39;49m\u001b[38;5;241;43m.\u001b[39;49m\u001b[43mcamera\u001b[49m\u001b[43m,\u001b[49m\n\u001b[1;32m     74\u001b[0m \u001b[43m        \u001b[49m\u001b[43mscene\u001b[49m\u001b[38;5;241;43m.\u001b[39;49m\u001b[43manimations\u001b[49m\u001b[43m,\u001b[49m\n\u001b[1;32m     75\u001b[0m \u001b[43m        \u001b[49m\u001b[43mscene\u001b[49m\u001b[38;5;241;43m.\u001b[39;49m\u001b[43mmobjects\u001b[49m\u001b[43m,\u001b[49m\n\u001b[1;32m     76\u001b[0m \u001b[43m    \u001b[49m\u001b[43m)\u001b[49m\n\u001b[1;32m     77\u001b[0m     \u001b[38;5;28;01mif\u001b[39;00m \u001b[38;5;28mself\u001b[39m\u001b[38;5;241m.\u001b[39mfile_writer\u001b[38;5;241m.\u001b[39mis_already_cached(hash_current_animation):\n\u001b[1;32m     78\u001b[0m         logger\u001b[38;5;241m.\u001b[39minfo(\n\u001b[1;32m     79\u001b[0m             \u001b[38;5;124mf\u001b[39m\u001b[38;5;124m\"\u001b[39m\u001b[38;5;124mAnimation \u001b[39m\u001b[38;5;132;01m{\u001b[39;00m\u001b[38;5;28mself\u001b[39m\u001b[38;5;241m.\u001b[39mnum_plays\u001b[38;5;132;01m}\u001b[39;00m\u001b[38;5;124m : Using cached data (hash : %(hash_current_animation)s)\u001b[39m\u001b[38;5;124m\"\u001b[39m,\n\u001b[1;32m     80\u001b[0m             {\u001b[38;5;124m\"\u001b[39m\u001b[38;5;124mhash_current_animation\u001b[39m\u001b[38;5;124m\"\u001b[39m: hash_current_animation},\n\u001b[1;32m     81\u001b[0m         )\n",
      "File \u001b[0;32m~/anaconda3/envs/my-manim-environment/lib/python3.11/site-packages/manim/utils/hashing.py:355\u001b[0m, in \u001b[0;36mget_hash_from_play_call\u001b[0;34m(scene_object, camera_object, animations_list, current_mobjects_list)\u001b[0m\n\u001b[1;32m    353\u001b[0m camera_json \u001b[38;5;241m=\u001b[39m get_json(camera_object)\n\u001b[1;32m    354\u001b[0m animations_list_json \u001b[38;5;241m=\u001b[39m [get_json(x) \u001b[38;5;28;01mfor\u001b[39;00m x \u001b[38;5;129;01min\u001b[39;00m \u001b[38;5;28msorted\u001b[39m(animations_list, key\u001b[38;5;241m=\u001b[39m\u001b[38;5;28mstr\u001b[39m)]\n\u001b[0;32m--> 355\u001b[0m current_mobjects_list_json \u001b[38;5;241m=\u001b[39m \u001b[43m[\u001b[49m\u001b[43mget_json\u001b[49m\u001b[43m(\u001b[49m\u001b[43mx\u001b[49m\u001b[43m)\u001b[49m\u001b[43m \u001b[49m\u001b[38;5;28;43;01mfor\u001b[39;49;00m\u001b[43m \u001b[49m\u001b[43mx\u001b[49m\u001b[43m \u001b[49m\u001b[38;5;129;43;01min\u001b[39;49;00m\u001b[43m \u001b[49m\u001b[43mcurrent_mobjects_list\u001b[49m\u001b[43m]\u001b[49m\n\u001b[1;32m    356\u001b[0m hash_camera, hash_animations, hash_current_mobjects \u001b[38;5;241m=\u001b[39m (\n\u001b[1;32m    357\u001b[0m     zlib\u001b[38;5;241m.\u001b[39mcrc32(\u001b[38;5;28mrepr\u001b[39m(json_val)\u001b[38;5;241m.\u001b[39mencode())\n\u001b[1;32m    358\u001b[0m     \u001b[38;5;28;01mfor\u001b[39;00m json_val \u001b[38;5;129;01min\u001b[39;00m [camera_json, animations_list_json, current_mobjects_list_json]\n\u001b[1;32m    359\u001b[0m )\n\u001b[1;32m    360\u001b[0m hash_complete \u001b[38;5;241m=\u001b[39m \u001b[38;5;124mf\u001b[39m\u001b[38;5;124m\"\u001b[39m\u001b[38;5;132;01m{\u001b[39;00mhash_camera\u001b[38;5;132;01m}\u001b[39;00m\u001b[38;5;124m_\u001b[39m\u001b[38;5;132;01m{\u001b[39;00mhash_animations\u001b[38;5;132;01m}\u001b[39;00m\u001b[38;5;124m_\u001b[39m\u001b[38;5;132;01m{\u001b[39;00mhash_current_mobjects\u001b[38;5;132;01m}\u001b[39;00m\u001b[38;5;124m\"\u001b[39m\n",
      "File \u001b[0;32m~/anaconda3/envs/my-manim-environment/lib/python3.11/site-packages/manim/utils/hashing.py:355\u001b[0m, in \u001b[0;36m<listcomp>\u001b[0;34m(.0)\u001b[0m\n\u001b[1;32m    353\u001b[0m camera_json \u001b[38;5;241m=\u001b[39m get_json(camera_object)\n\u001b[1;32m    354\u001b[0m animations_list_json \u001b[38;5;241m=\u001b[39m [get_json(x) \u001b[38;5;28;01mfor\u001b[39;00m x \u001b[38;5;129;01min\u001b[39;00m \u001b[38;5;28msorted\u001b[39m(animations_list, key\u001b[38;5;241m=\u001b[39m\u001b[38;5;28mstr\u001b[39m)]\n\u001b[0;32m--> 355\u001b[0m current_mobjects_list_json \u001b[38;5;241m=\u001b[39m [\u001b[43mget_json\u001b[49m\u001b[43m(\u001b[49m\u001b[43mx\u001b[49m\u001b[43m)\u001b[49m \u001b[38;5;28;01mfor\u001b[39;00m x \u001b[38;5;129;01min\u001b[39;00m current_mobjects_list]\n\u001b[1;32m    356\u001b[0m hash_camera, hash_animations, hash_current_mobjects \u001b[38;5;241m=\u001b[39m (\n\u001b[1;32m    357\u001b[0m     zlib\u001b[38;5;241m.\u001b[39mcrc32(\u001b[38;5;28mrepr\u001b[39m(json_val)\u001b[38;5;241m.\u001b[39mencode())\n\u001b[1;32m    358\u001b[0m     \u001b[38;5;28;01mfor\u001b[39;00m json_val \u001b[38;5;129;01min\u001b[39;00m [camera_json, animations_list_json, current_mobjects_list_json]\n\u001b[1;32m    359\u001b[0m )\n\u001b[1;32m    360\u001b[0m hash_complete \u001b[38;5;241m=\u001b[39m \u001b[38;5;124mf\u001b[39m\u001b[38;5;124m\"\u001b[39m\u001b[38;5;132;01m{\u001b[39;00mhash_camera\u001b[38;5;132;01m}\u001b[39;00m\u001b[38;5;124m_\u001b[39m\u001b[38;5;132;01m{\u001b[39;00mhash_animations\u001b[38;5;132;01m}\u001b[39;00m\u001b[38;5;124m_\u001b[39m\u001b[38;5;132;01m{\u001b[39;00mhash_current_mobjects\u001b[38;5;132;01m}\u001b[39;00m\u001b[38;5;124m\"\u001b[39m\n",
      "File \u001b[0;32m~/anaconda3/envs/my-manim-environment/lib/python3.11/site-packages/manim/utils/hashing.py:320\u001b[0m, in \u001b[0;36mget_json\u001b[0;34m(obj)\u001b[0m\n\u001b[1;32m    307\u001b[0m \u001b[38;5;28;01mdef\u001b[39;00m \u001b[38;5;21mget_json\u001b[39m(obj: \u001b[38;5;28mdict\u001b[39m):\n\u001b[1;32m    308\u001b[0m \u001b[38;5;250m    \u001b[39m\u001b[38;5;124;03m\"\"\"Recursively serialize `object` to JSON using the :class:`CustomEncoder` class.\u001b[39;00m\n\u001b[1;32m    309\u001b[0m \n\u001b[1;32m    310\u001b[0m \u001b[38;5;124;03m    Parameters\u001b[39;00m\n\u001b[0;32m   (...)\u001b[0m\n\u001b[1;32m    318\u001b[0m \u001b[38;5;124;03m        The flattened object\u001b[39;00m\n\u001b[1;32m    319\u001b[0m \u001b[38;5;124;03m    \"\"\"\u001b[39;00m\n\u001b[0;32m--> 320\u001b[0m     \u001b[38;5;28;01mreturn\u001b[39;00m \u001b[43mjson\u001b[49m\u001b[38;5;241;43m.\u001b[39;49m\u001b[43mdumps\u001b[49m\u001b[43m(\u001b[49m\u001b[43mobj\u001b[49m\u001b[43m,\u001b[49m\u001b[43m \u001b[49m\u001b[38;5;28;43mcls\u001b[39;49m\u001b[38;5;241;43m=\u001b[39;49m\u001b[43m_CustomEncoder\u001b[49m\u001b[43m)\u001b[49m\n",
      "File \u001b[0;32m~/anaconda3/envs/my-manim-environment/lib/python3.11/json/__init__.py:238\u001b[0m, in \u001b[0;36mdumps\u001b[0;34m(obj, skipkeys, ensure_ascii, check_circular, allow_nan, cls, indent, separators, default, sort_keys, **kw)\u001b[0m\n\u001b[1;32m    232\u001b[0m \u001b[38;5;28;01mif\u001b[39;00m \u001b[38;5;28mcls\u001b[39m \u001b[38;5;129;01mis\u001b[39;00m \u001b[38;5;28;01mNone\u001b[39;00m:\n\u001b[1;32m    233\u001b[0m     \u001b[38;5;28mcls\u001b[39m \u001b[38;5;241m=\u001b[39m JSONEncoder\n\u001b[1;32m    234\u001b[0m \u001b[38;5;28;01mreturn\u001b[39;00m \u001b[38;5;28;43mcls\u001b[39;49m\u001b[43m(\u001b[49m\n\u001b[1;32m    235\u001b[0m \u001b[43m    \u001b[49m\u001b[43mskipkeys\u001b[49m\u001b[38;5;241;43m=\u001b[39;49m\u001b[43mskipkeys\u001b[49m\u001b[43m,\u001b[49m\u001b[43m \u001b[49m\u001b[43mensure_ascii\u001b[49m\u001b[38;5;241;43m=\u001b[39;49m\u001b[43mensure_ascii\u001b[49m\u001b[43m,\u001b[49m\n\u001b[1;32m    236\u001b[0m \u001b[43m    \u001b[49m\u001b[43mcheck_circular\u001b[49m\u001b[38;5;241;43m=\u001b[39;49m\u001b[43mcheck_circular\u001b[49m\u001b[43m,\u001b[49m\u001b[43m \u001b[49m\u001b[43mallow_nan\u001b[49m\u001b[38;5;241;43m=\u001b[39;49m\u001b[43mallow_nan\u001b[49m\u001b[43m,\u001b[49m\u001b[43m \u001b[49m\u001b[43mindent\u001b[49m\u001b[38;5;241;43m=\u001b[39;49m\u001b[43mindent\u001b[49m\u001b[43m,\u001b[49m\n\u001b[1;32m    237\u001b[0m \u001b[43m    \u001b[49m\u001b[43mseparators\u001b[49m\u001b[38;5;241;43m=\u001b[39;49m\u001b[43mseparators\u001b[49m\u001b[43m,\u001b[49m\u001b[43m \u001b[49m\u001b[43mdefault\u001b[49m\u001b[38;5;241;43m=\u001b[39;49m\u001b[43mdefault\u001b[49m\u001b[43m,\u001b[49m\u001b[43m \u001b[49m\u001b[43msort_keys\u001b[49m\u001b[38;5;241;43m=\u001b[39;49m\u001b[43msort_keys\u001b[49m\u001b[43m,\u001b[49m\n\u001b[0;32m--> 238\u001b[0m \u001b[43m    \u001b[49m\u001b[38;5;241;43m*\u001b[39;49m\u001b[38;5;241;43m*\u001b[39;49m\u001b[43mkw\u001b[49m\u001b[43m)\u001b[49m\u001b[38;5;241;43m.\u001b[39;49m\u001b[43mencode\u001b[49m\u001b[43m(\u001b[49m\u001b[43mobj\u001b[49m\u001b[43m)\u001b[49m\n",
      "File \u001b[0;32m~/anaconda3/envs/my-manim-environment/lib/python3.11/site-packages/manim/utils/hashing.py:304\u001b[0m, in \u001b[0;36m_CustomEncoder.encode\u001b[0;34m(self, obj)\u001b[0m\n\u001b[1;32m    302\u001b[0m \u001b[38;5;28;01mif\u001b[39;00m \u001b[38;5;28misinstance\u001b[39m(obj, (\u001b[38;5;28mdict\u001b[39m, \u001b[38;5;28mlist\u001b[39m, \u001b[38;5;28mtuple\u001b[39m)):\n\u001b[1;32m    303\u001b[0m     \u001b[38;5;28;01mreturn\u001b[39;00m \u001b[38;5;28msuper\u001b[39m()\u001b[38;5;241m.\u001b[39mencode(\u001b[38;5;28mself\u001b[39m\u001b[38;5;241m.\u001b[39m_cleaned_iterable(obj))\n\u001b[0;32m--> 304\u001b[0m \u001b[38;5;28;01mreturn\u001b[39;00m \u001b[38;5;28;43msuper\u001b[39;49m\u001b[43m(\u001b[49m\u001b[43m)\u001b[49m\u001b[38;5;241;43m.\u001b[39;49m\u001b[43mencode\u001b[49m\u001b[43m(\u001b[49m\u001b[43mobj\u001b[49m\u001b[43m)\u001b[49m\n",
      "File \u001b[0;32m~/anaconda3/envs/my-manim-environment/lib/python3.11/json/encoder.py:200\u001b[0m, in \u001b[0;36mJSONEncoder.encode\u001b[0;34m(self, o)\u001b[0m\n\u001b[1;32m    196\u001b[0m         \u001b[38;5;28;01mreturn\u001b[39;00m encode_basestring(o)\n\u001b[1;32m    197\u001b[0m \u001b[38;5;66;03m# This doesn't pass the iterator directly to ''.join() because the\u001b[39;00m\n\u001b[1;32m    198\u001b[0m \u001b[38;5;66;03m# exceptions aren't as detailed.  The list call should be roughly\u001b[39;00m\n\u001b[1;32m    199\u001b[0m \u001b[38;5;66;03m# equivalent to the PySequence_Fast that ''.join() would do.\u001b[39;00m\n\u001b[0;32m--> 200\u001b[0m chunks \u001b[38;5;241m=\u001b[39m \u001b[38;5;28;43mself\u001b[39;49m\u001b[38;5;241;43m.\u001b[39;49m\u001b[43miterencode\u001b[49m\u001b[43m(\u001b[49m\u001b[43mo\u001b[49m\u001b[43m,\u001b[49m\u001b[43m \u001b[49m\u001b[43m_one_shot\u001b[49m\u001b[38;5;241;43m=\u001b[39;49m\u001b[38;5;28;43;01mTrue\u001b[39;49;00m\u001b[43m)\u001b[49m\n\u001b[1;32m    201\u001b[0m \u001b[38;5;28;01mif\u001b[39;00m \u001b[38;5;129;01mnot\u001b[39;00m \u001b[38;5;28misinstance\u001b[39m(chunks, (\u001b[38;5;28mlist\u001b[39m, \u001b[38;5;28mtuple\u001b[39m)):\n\u001b[1;32m    202\u001b[0m     chunks \u001b[38;5;241m=\u001b[39m \u001b[38;5;28mlist\u001b[39m(chunks)\n",
      "File \u001b[0;32m~/anaconda3/envs/my-manim-environment/lib/python3.11/json/encoder.py:258\u001b[0m, in \u001b[0;36mJSONEncoder.iterencode\u001b[0;34m(self, o, _one_shot)\u001b[0m\n\u001b[1;32m    253\u001b[0m \u001b[38;5;28;01melse\u001b[39;00m:\n\u001b[1;32m    254\u001b[0m     _iterencode \u001b[38;5;241m=\u001b[39m _make_iterencode(\n\u001b[1;32m    255\u001b[0m         markers, \u001b[38;5;28mself\u001b[39m\u001b[38;5;241m.\u001b[39mdefault, _encoder, \u001b[38;5;28mself\u001b[39m\u001b[38;5;241m.\u001b[39mindent, floatstr,\n\u001b[1;32m    256\u001b[0m         \u001b[38;5;28mself\u001b[39m\u001b[38;5;241m.\u001b[39mkey_separator, \u001b[38;5;28mself\u001b[39m\u001b[38;5;241m.\u001b[39mitem_separator, \u001b[38;5;28mself\u001b[39m\u001b[38;5;241m.\u001b[39msort_keys,\n\u001b[1;32m    257\u001b[0m         \u001b[38;5;28mself\u001b[39m\u001b[38;5;241m.\u001b[39mskipkeys, _one_shot)\n\u001b[0;32m--> 258\u001b[0m \u001b[38;5;28;01mreturn\u001b[39;00m \u001b[43m_iterencode\u001b[49m\u001b[43m(\u001b[49m\u001b[43mo\u001b[49m\u001b[43m,\u001b[49m\u001b[43m \u001b[49m\u001b[38;5;241;43m0\u001b[39;49m\u001b[43m)\u001b[49m\n",
      "File \u001b[0;32m~/anaconda3/envs/my-manim-environment/lib/python3.11/site-packages/manim/utils/hashing.py:219\u001b[0m, in \u001b[0;36m_CustomEncoder.default\u001b[0;34m(self, obj)\u001b[0m\n\u001b[1;32m    217\u001b[0m \u001b[38;5;28;01melif\u001b[39;00m \u001b[38;5;28misinstance\u001b[39m(obj, np\u001b[38;5;241m.\u001b[39mndarray):\n\u001b[1;32m    218\u001b[0m     \u001b[38;5;28;01mif\u001b[39;00m obj\u001b[38;5;241m.\u001b[39msize \u001b[38;5;241m>\u001b[39m \u001b[38;5;241m1000\u001b[39m:\n\u001b[0;32m--> 219\u001b[0m         obj \u001b[38;5;241m=\u001b[39m \u001b[43mnp\u001b[49m\u001b[38;5;241;43m.\u001b[39;49m\u001b[43mresize\u001b[49m\u001b[43m(\u001b[49m\u001b[43mobj\u001b[49m\u001b[43m,\u001b[49m\u001b[43m \u001b[49m\u001b[43m(\u001b[49m\u001b[38;5;241;43m100\u001b[39;49m\u001b[43m,\u001b[49m\u001b[43m \u001b[49m\u001b[38;5;241;43m100\u001b[39;49m\u001b[43m)\u001b[49m\u001b[43m)\u001b[49m\n\u001b[1;32m    220\u001b[0m         \u001b[38;5;28;01mreturn\u001b[39;00m \u001b[38;5;124mf\u001b[39m\u001b[38;5;124m\"\u001b[39m\u001b[38;5;124mTRUNCATED ARRAY: \u001b[39m\u001b[38;5;132;01m{\u001b[39;00m\u001b[38;5;28mrepr\u001b[39m(obj)\u001b[38;5;132;01m}\u001b[39;00m\u001b[38;5;124m\"\u001b[39m\n\u001b[1;32m    221\u001b[0m     \u001b[38;5;66;03m# We return the repr and not a list to avoid the JsonEncoder to iterate over it.\u001b[39;00m\n",
      "File \u001b[0;32m~/anaconda3/envs/my-manim-environment/lib/python3.11/site-packages/numpy/core/fromnumeric.py:1469\u001b[0m, in \u001b[0;36mresize\u001b[0;34m(a, new_shape)\u001b[0m\n\u001b[1;32m   1466\u001b[0m \u001b[38;5;28;01mif\u001b[39;00m \u001b[38;5;28misinstance\u001b[39m(new_shape, (\u001b[38;5;28mint\u001b[39m, nt\u001b[38;5;241m.\u001b[39minteger)):\n\u001b[1;32m   1467\u001b[0m     new_shape \u001b[38;5;241m=\u001b[39m (new_shape,)\n\u001b[0;32m-> 1469\u001b[0m a \u001b[38;5;241m=\u001b[39m \u001b[43mravel\u001b[49m\u001b[43m(\u001b[49m\u001b[43ma\u001b[49m\u001b[43m)\u001b[49m\n\u001b[1;32m   1471\u001b[0m new_size \u001b[38;5;241m=\u001b[39m \u001b[38;5;241m1\u001b[39m\n\u001b[1;32m   1472\u001b[0m \u001b[38;5;28;01mfor\u001b[39;00m dim_length \u001b[38;5;129;01min\u001b[39;00m new_shape:\n",
      "File \u001b[0;32m~/anaconda3/envs/my-manim-environment/lib/python3.11/site-packages/numpy/core/fromnumeric.py:1871\u001b[0m, in \u001b[0;36mravel\u001b[0;34m(a, order)\u001b[0m\n\u001b[1;32m   1768\u001b[0m \u001b[38;5;129m@array_function_dispatch\u001b[39m(_ravel_dispatcher)\n\u001b[1;32m   1769\u001b[0m \u001b[38;5;28;01mdef\u001b[39;00m \u001b[38;5;21mravel\u001b[39m(a, order\u001b[38;5;241m=\u001b[39m\u001b[38;5;124m'\u001b[39m\u001b[38;5;124mC\u001b[39m\u001b[38;5;124m'\u001b[39m):\n\u001b[1;32m   1770\u001b[0m \u001b[38;5;250m    \u001b[39m\u001b[38;5;124;03m\"\"\"Return a contiguous flattened array.\u001b[39;00m\n\u001b[1;32m   1771\u001b[0m \n\u001b[1;32m   1772\u001b[0m \u001b[38;5;124;03m    A 1-D array, containing the elements of the input, is returned.  A copy is\u001b[39;00m\n\u001b[0;32m   (...)\u001b[0m\n\u001b[1;32m   1869\u001b[0m \n\u001b[1;32m   1870\u001b[0m \u001b[38;5;124;03m    \"\"\"\u001b[39;00m\n\u001b[0;32m-> 1871\u001b[0m     \u001b[38;5;28;01mif\u001b[39;00m \u001b[38;5;28misinstance\u001b[39m(a, \u001b[43mnp\u001b[49m\u001b[38;5;241;43m.\u001b[39;49m\u001b[43mmatrix\u001b[49m):\n\u001b[1;32m   1872\u001b[0m         \u001b[38;5;28;01mreturn\u001b[39;00m asarray(a)\u001b[38;5;241m.\u001b[39mravel(order\u001b[38;5;241m=\u001b[39morder)\n\u001b[1;32m   1873\u001b[0m     \u001b[38;5;28;01melse\u001b[39;00m:\n",
      "\u001b[0;31mAttributeError\u001b[0m: module 'numpy' has no attribute 'matrix'"
     ]
    }
   ],
   "source": [
    "%%manim -ql -v WARNING FunctionPlot\n",
    "\n",
    "from manim import *\n",
    "\n",
    "class FunctionPlot(Scene):\n",
    "    def construct(self):\n",
    "        axes = Axes(\n",
    "            x_range=[0.1, 10, 1],  # Start, Ende, Schrittweite für x-Achse\n",
    "            y_range=[0, 1, 0.1],   # Start, Ende, Schrittweite für y-Achse\n",
    "            axis_config={\"color\": BLUE},  # Farbe der Achsen\n",
    "        )\n",
    "\n",
    "        # Funktion f(x) = 0.01 * 1/x\n",
    "        function = axes.plot(lambda x: 0.01 * (1/x), color=RED)\n",
    "        function_label = axes.get_graph_label(function, label='0.01 \\\\times \\\\frac{1}{x}')\n",
    "\n",
    "        # Hinzufügen der Achsen, Funktion und Beschriftung zur Szene\n",
    "        self.add(axes, function, function_label)\n",
    "        self.wait(1)  # Wartezeit am Ende der Animation\n",
    "\n"
   ]
  },
  {
   "cell_type": "code",
   "execution_count": null,
   "metadata": {},
   "outputs": [],
   "source": []
  }
 ],
 "metadata": {
  "kernelspec": {
   "display_name": "my-manim-environment",
   "language": "python",
   "name": "python3"
  },
  "language_info": {
   "codemirror_mode": {
    "name": "ipython",
    "version": 3
   },
   "file_extension": ".py",
   "mimetype": "text/x-python",
   "name": "python",
   "nbconvert_exporter": "python",
   "pygments_lexer": "ipython3",
   "version": "3.11.6"
  }
 },
 "nbformat": 4,
 "nbformat_minor": 2
}
