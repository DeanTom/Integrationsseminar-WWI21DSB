{
 "cells": [
  {
   "cell_type": "code",
   "execution_count": 1,
   "metadata": {},
   "outputs": [
    {
     "data": {
      "text/html": [
       "<pre style=\"white-space:pre;overflow-x:auto;line-height:normal;font-family:Menlo,'DejaVu Sans Mono',consolas,'Courier New',monospace\">Manim Community <span style=\"color: #008000; text-decoration-color: #008000\">v0.18.0</span>\n",
       "\n",
       "</pre>\n"
      ],
      "text/plain": [
       "Manim Community \u001b[32mv0.\u001b[0m\u001b[32m18.0\u001b[0m\n",
       "\n"
      ]
     },
     "metadata": {},
     "output_type": "display_data"
    }
   ],
   "source": [
    "from manim import *"
   ]
  },
  {
   "cell_type": "markdown",
   "metadata": {},
   "source": [
    "Szene 6"
   ]
  },
  {
   "cell_type": "code",
   "execution_count": 8,
   "metadata": {},
   "outputs": [
    {
     "ename": "OSError",
     "evalue": "From: c:\\Users\\Asus\\Documents\\DHBW\\Semester_5\\Integrationsseminar\\Integrationsseminar-WWI21DSB, could not find img/Galileo_Galilei.png at either of these locations: ['img\\\\Galileo_Galilei.png', 'img\\\\Galileo_Galilei.png', 'img\\\\Galileo_Galilei.png.jpg', 'img\\\\Galileo_Galilei.png.jpeg', 'img\\\\Galileo_Galilei.png.png', 'img\\\\Galileo_Galilei.png.gif', 'img\\\\Galileo_Galilei.png.ico']",
     "output_type": "error",
     "traceback": [
      "\u001b[1;31m---------------------------------------------------------------------------\u001b[0m",
      "\u001b[1;31mOSError\u001b[0m                                   Traceback (most recent call last)",
      "Input \u001b[1;32mIn [8]\u001b[0m, in \u001b[0;36m<cell line: 1>\u001b[1;34m()\u001b[0m\n\u001b[1;32m----> 1\u001b[0m \u001b[43mget_ipython\u001b[49m\u001b[43m(\u001b[49m\u001b[43m)\u001b[49m\u001b[38;5;241;43m.\u001b[39;49m\u001b[43mrun_cell_magic\u001b[49m\u001b[43m(\u001b[49m\u001b[38;5;124;43m'\u001b[39;49m\u001b[38;5;124;43mmanim\u001b[39;49m\u001b[38;5;124;43m'\u001b[39;49m\u001b[43m,\u001b[49m\u001b[43m \u001b[49m\u001b[38;5;124;43m'\u001b[39;49m\u001b[38;5;124;43m-ql -v WARNING ZeitstrahlScene\u001b[39;49m\u001b[38;5;124;43m'\u001b[39;49m\u001b[43m,\u001b[49m\u001b[43m \u001b[49m\u001b[38;5;124;43m'\u001b[39;49m\u001b[38;5;130;43;01m\\n\u001b[39;49;00m\u001b[38;5;124;43mclass ZeitstrahlScene(MovingCameraScene):\u001b[39;49m\u001b[38;5;130;43;01m\\n\u001b[39;49;00m\u001b[38;5;124;43m    def construct(self):\u001b[39;49m\u001b[38;5;130;43;01m\\n\u001b[39;49;00m\u001b[38;5;124;43m        self.camera.background_color = WHITE\u001b[39;49m\u001b[38;5;130;43;01m\\n\u001b[39;49;00m\u001b[38;5;130;43;01m\\n\u001b[39;49;00m\u001b[38;5;124;43m        ### Zeitstrahl erstellen\u001b[39;49m\u001b[38;5;130;43;01m\\n\u001b[39;49;00m\u001b[38;5;124;43m        timeline = NumberLine(\u001b[39;49m\u001b[38;5;130;43;01m\\n\u001b[39;49;00m\u001b[38;5;124;43m            x_range=[1500, 2200, 10],\u001b[39;49m\u001b[38;5;130;43;01m\\n\u001b[39;49;00m\u001b[38;5;124;43m            length=50,\u001b[39;49m\u001b[38;5;130;43;01m\\n\u001b[39;49;00m\u001b[38;5;124;43m            #include_numbers=True,\u001b[39;49m\u001b[38;5;130;43;01m\\n\u001b[39;49;00m\u001b[38;5;124;43m            #label_direction=UP,\u001b[39;49m\u001b[38;5;130;43;01m\\n\u001b[39;49;00m\u001b[38;5;124;43m            color = BLACK\u001b[39;49m\u001b[38;5;130;43;01m\\n\u001b[39;49;00m\u001b[38;5;124;43m        )\u001b[39;49m\u001b[38;5;130;43;01m\\n\u001b[39;49;00m\u001b[38;5;130;43;01m\\n\u001b[39;49;00m\u001b[38;5;124;43m        for x in range(1500, 2201, 50):\u001b[39;49m\u001b[38;5;130;43;01m\\n\u001b[39;49;00m\u001b[38;5;124;43m            number = Text(str(x), color=BLACK).next_to(timeline.n2p(x), DOWN)\u001b[39;49m\u001b[38;5;130;43;01m\\n\u001b[39;49;00m\u001b[38;5;124;43m            self.add(number)\u001b[39;49m\u001b[38;5;130;43;01m\\n\u001b[39;49;00m\u001b[38;5;130;43;01m\\n\u001b[39;49;00m\u001b[38;5;124;43m        ### Markierungen für Zeitstrahl erstellen\u001b[39;49m\u001b[38;5;130;43;01m\\n\u001b[39;49;00m\u001b[38;5;124;43m        \u001b[39;49m\u001b[38;5;130;43;01m\\n\u001b[39;49;00m\u001b[38;5;124;43m        line_2024 = Line(timeline.number_to_point(2024), timeline.number_to_point(2024) + 1 * np.array([np.cos(PI/4), np.sin(PI/4), 0]) , color =BLACK)\u001b[39;49m\u001b[38;5;130;43;01m\\n\u001b[39;49;00m\u001b[38;5;124;43m        text_2024 = Tex(str(2024)+ \u001b[39;49m\u001b[38;5;124;43m\"\u001b[39;49m\u001b[38;5;124;43m - \u001b[39;49m\u001b[38;5;124;43m\"\u001b[39;49m\u001b[38;5;124;43m + \u001b[39;49m\u001b[38;5;124;43m\"\u001b[39;49m\u001b[38;5;124;43mSpongebob\u001b[39;49m\u001b[38;5;124;43m\"\u001b[39;49m\u001b[38;5;124;43m, color = BLACK).next_to(line_2024, UP * 0.9 + RIGHT * 0.5)\u001b[39;49m\u001b[38;5;130;43;01m\\n\u001b[39;49;00m\u001b[38;5;130;43;01m\\n\u001b[39;49;00m\u001b[38;5;124;43m        line_1638 = Line(timeline.number_to_point(1638), timeline.number_to_point(1638) + 1 * np.array([np.cos(PI/4), np.sin(PI/4), 0]) , color =BLACK)\u001b[39;49m\u001b[38;5;130;43;01m\\n\u001b[39;49;00m\u001b[38;5;124;43m        text_1638 = Tex(str(1638)+ \u001b[39;49m\u001b[38;5;124;43m\"\u001b[39;49m\u001b[38;5;124;43m - \u001b[39;49m\u001b[38;5;124;43m\"\u001b[39;49m\u001b[38;5;124;43m + \u001b[39;49m\u001b[38;5;124;43m\"\u001b[39;49m\u001b[38;5;124;43mGallileo\u001b[39;49m\u001b[38;5;124;43m\"\u001b[39;49m\u001b[38;5;124;43m, color = BLACK).next_to(line_1638, UP * 0.9 + RIGHT * 0.5)\u001b[39;49m\u001b[38;5;130;43;01m\\n\u001b[39;49;00m\u001b[38;5;130;43;01m\\n\u001b[39;49;00m\u001b[38;5;124;43m        line_1697 = Line(timeline.number_to_point(1697), timeline.number_to_point(1697) + 4 * np.array([np.cos(PI/4), 0.5 * np.sin(PI/4), 0]) , color =BLACK)\u001b[39;49m\u001b[38;5;130;43;01m\\n\u001b[39;49;00m\u001b[38;5;124;43m        text_1697 = Tex(str(1697)+ \u001b[39;49m\u001b[38;5;124;43m\"\u001b[39;49m\u001b[38;5;124;43m - \u001b[39;49m\u001b[38;5;124;43m\"\u001b[39;49m\u001b[38;5;124;43m + \u001b[39;49m\u001b[38;5;124;43m\"\u001b[39;49m\u001b[38;5;124;43mNewton\u001b[39;49m\u001b[38;5;124;43m\"\u001b[39;49m\u001b[38;5;124;43m, color = BLACK).next_to(line_1697, UP * 0.9 + RIGHT)\u001b[39;49m\u001b[38;5;130;43;01m\\n\u001b[39;49;00m\u001b[38;5;130;43;01m\\n\u001b[39;49;00m\u001b[38;5;124;43m        # Bilder Hinzufügen \u001b[39;49m\u001b[38;5;130;43;01m\\n\u001b[39;49;00m\u001b[38;5;124;43m        gallileo_image = ImageMobject(\u001b[39;49m\u001b[38;5;124;43m\"\u001b[39;49m\u001b[38;5;124;43mimg/Galileo_Galilei.png\u001b[39;49m\u001b[38;5;124;43m\"\u001b[39;49m\u001b[38;5;124;43m)\u001b[39;49m\u001b[38;5;130;43;01m\\n\u001b[39;49;00m\u001b[38;5;124;43m        gallileo_image.move_to(LEFT * 16 + UP * 3)\u001b[39;49m\u001b[38;5;130;43;01m\\n\u001b[39;49;00m\u001b[38;5;124;43m        # Group\u001b[39;49m\u001b[38;5;130;43;01m\\n\u001b[39;49;00m\u001b[38;5;124;43m        spongebob_image = ImageMobject(\u001b[39;49m\u001b[38;5;124;43m\"\u001b[39;49m\u001b[38;5;124;43mimg/spongebob.png\u001b[39;49m\u001b[38;5;124;43m\"\u001b[39;49m\u001b[38;5;124;43m).scale(0.7)\u001b[39;49m\u001b[38;5;130;43;01m\\n\u001b[39;49;00m\u001b[38;5;124;43m        spongebob_image.move_to(RIGHT * 16 + UP * 3)\u001b[39;49m\u001b[38;5;130;43;01m\\n\u001b[39;49;00m\u001b[38;5;130;43;01m\\n\u001b[39;49;00m\u001b[38;5;124;43m        patrick_image = ImageMobject(\u001b[39;49m\u001b[38;5;124;43m\"\u001b[39;49m\u001b[38;5;124;43mimg/patrick.png\u001b[39;49m\u001b[38;5;124;43m\"\u001b[39;49m\u001b[38;5;124;43m)\u001b[39;49m\u001b[38;5;130;43;01m\\n\u001b[39;49;00m\u001b[38;5;124;43m        patrick_image.move_to(RIGHT * 12 + UP * 2.3)\u001b[39;49m\u001b[38;5;130;43;01m\\n\u001b[39;49;00m\u001b[38;5;130;43;01m\\n\u001b[39;49;00m\u001b[38;5;124;43m        racecar_image = ImageMobject(\u001b[39;49m\u001b[38;5;124;43m\"\u001b[39;49m\u001b[38;5;124;43mimg/RaceCar.png\u001b[39;49m\u001b[38;5;124;43m\"\u001b[39;49m\u001b[38;5;124;43m)\u001b[39;49m\u001b[38;5;130;43;01m\\n\u001b[39;49;00m\u001b[38;5;124;43m        racecar_image.scale(0.05)\u001b[39;49m\u001b[38;5;130;43;01m\\n\u001b[39;49;00m\u001b[38;5;130;43;01m\\n\u001b[39;49;00m\u001b[38;5;124;43m        newton_image = ImageMobject(\u001b[39;49m\u001b[38;5;124;43m\"\u001b[39;49m\u001b[38;5;124;43mimg/Isaac_Newton.png\u001b[39;49m\u001b[38;5;124;43m\"\u001b[39;49m\u001b[38;5;124;43m).scale(0.5)\u001b[39;49m\u001b[38;5;130;43;01m\\n\u001b[39;49;00m\u001b[38;5;124;43m        newton_image.next_to(text_1697, UP)\u001b[39;49m\u001b[38;5;130;43;01m\\n\u001b[39;49;00m\u001b[38;5;130;43;01m\\n\u001b[39;49;00m\u001b[38;5;130;43;01m\\n\u001b[39;49;00m\u001b[38;5;124;43m        ### Kreis für Gallileo Erklärung hinzufügen\u001b[39;49m\u001b[38;5;130;43;01m\\n\u001b[39;49;00m\u001b[38;5;124;43m        circle = Circle(radius=2, color=BLACK)\u001b[39;49m\u001b[38;5;130;43;01m\\n\u001b[39;49;00m\u001b[38;5;124;43m        circle.move_to(LEFT * 11 + UP*4)\u001b[39;49m\u001b[38;5;130;43;01m\\n\u001b[39;49;00m\u001b[38;5;124;43m        # Definiere zwei Punkte auf dem Umfang des Kreises unten links\u001b[39;49m\u001b[38;5;130;43;01m\\n\u001b[39;49;00m\u001b[38;5;124;43m        point1 = circle.point_at_angle(5 * PI / 4) # 225 Grad\u001b[39;49m\u001b[38;5;130;43;01m\\n\u001b[39;49;00m\u001b[38;5;124;43m        point2 = circle.point_at_angle(3 * PI / 2) # 270 Grad\u001b[39;49m\u001b[38;5;130;43;01m\\n\u001b[39;49;00m\u001b[38;5;124;43m        # Erstelle Dot-Objekte für die Punkte\u001b[39;49m\u001b[38;5;130;43;01m\\n\u001b[39;49;00m\u001b[38;5;124;43m        dot1 = Dot(point1, color=RED)\u001b[39;49m\u001b[38;5;130;43;01m\\n\u001b[39;49;00m\u001b[38;5;124;43m        dot2 = Dot(point2, color=BLUE)\u001b[39;49m\u001b[38;5;130;43;01m\\n\u001b[39;49;00m\u001b[38;5;124;43m        # Linie zwischen Punkten\u001b[39;49m\u001b[38;5;130;43;01m\\n\u001b[39;49;00m\u001b[38;5;124;43m        arc = Arc(\u001b[39;49m\u001b[38;5;130;43;01m\\n\u001b[39;49;00m\u001b[38;5;124;43m            start_angle=5 * PI / 4, \u001b[39;49m\u001b[38;5;130;43;01m\\n\u001b[39;49;00m\u001b[38;5;124;43m            angle=3 * PI / 2 - 5 * PI / 4, \u001b[39;49m\u001b[38;5;130;43;01m\\n\u001b[39;49;00m\u001b[38;5;124;43m            radius=circle.radius, \u001b[39;49m\u001b[38;5;130;43;01m\\n\u001b[39;49;00m\u001b[38;5;124;43m            color=YELLOW,\u001b[39;49m\u001b[38;5;130;43;01m\\n\u001b[39;49;00m\u001b[38;5;124;43m            arc_center=circle.get_center()\u001b[39;49m\u001b[38;5;130;43;01m\\n\u001b[39;49;00m\u001b[38;5;124;43m        )\u001b[39;49m\u001b[38;5;130;43;01m\\n\u001b[39;49;00m\u001b[38;5;130;43;01m\\n\u001b[39;49;00m\u001b[38;5;130;43;01m\\n\u001b[39;49;00m\u001b[38;5;124;43m        # objekte an richtige stelle bringen:   \u001b[39;49m\u001b[38;5;130;43;01m\\n\u001b[39;49;00m\u001b[38;5;124;43m        # Objekte zu image hinzufügen.\u001b[39;49m\u001b[38;5;130;43;01m\\n\u001b[39;49;00m\u001b[38;5;124;43m        self.add(timeline)\u001b[39;49m\u001b[38;5;130;43;01m\\n\u001b[39;49;00m\u001b[38;5;124;43m        #self.add(circle,dot1,dot2,arc)\u001b[39;49m\u001b[38;5;130;43;01m\\n\u001b[39;49;00m\u001b[38;5;124;43m        #self.add(racecar_image)\u001b[39;49m\u001b[38;5;130;43;01m\\n\u001b[39;49;00m\u001b[38;5;130;43;01m\\n\u001b[39;49;00m\u001b[38;5;124;43m        \u001b[39;49m\u001b[38;5;130;43;01m\\n\u001b[39;49;00m\u001b[38;5;124;43m        # Camera setup für Frame creation\u001b[39;49m\u001b[38;5;130;43;01m\\n\u001b[39;49;00m\u001b[38;5;124;43m        self.camera.frame.move_to(RIGHT * 13 + UP)\u001b[39;49m\u001b[38;5;130;43;01m\\n\u001b[39;49;00m\u001b[38;5;124;43m        self.play(Create(line_2024))\u001b[39;49m\u001b[38;5;130;43;01m\\n\u001b[39;49;00m\u001b[38;5;124;43m        self.play(Write(text_2024))\u001b[39;49m\u001b[38;5;130;43;01m\\n\u001b[39;49;00m\u001b[38;5;124;43m        self.play(FadeIn(patrick_image,spongebob_image))\u001b[39;49m\u001b[38;5;130;43;01m\\n\u001b[39;49;00m\u001b[38;5;124;43m        self.play(self.camera.frame.animate.shift(LEFT * 26), run_time = 3)\u001b[39;49m\u001b[38;5;130;43;01m\\n\u001b[39;49;00m\u001b[38;5;124;43m        self.play(Create(line_1638))\u001b[39;49m\u001b[38;5;130;43;01m\\n\u001b[39;49;00m\u001b[38;5;124;43m        self.play(Write(text_1638))\u001b[39;49m\u001b[38;5;130;43;01m\\n\u001b[39;49;00m\u001b[38;5;124;43m        self.play(FadeIn(gallileo_image))\u001b[39;49m\u001b[38;5;130;43;01m\\n\u001b[39;49;00m\u001b[38;5;124;43m        self.play(self.camera.frame.animate.shift(UP * 1.5), run_time = 2)\u001b[39;49m\u001b[38;5;130;43;01m\\n\u001b[39;49;00m\u001b[38;5;124;43m        self.play(Create(circle))\u001b[39;49m\u001b[38;5;130;43;01m\\n\u001b[39;49;00m\u001b[38;5;124;43m        self.play(self.camera.frame.animate.scale(0.2).move_to(arc),run_time = 2)\u001b[39;49m\u001b[38;5;130;43;01m\\n\u001b[39;49;00m\u001b[38;5;124;43m        self.play(FadeIn(dot1))\u001b[39;49m\u001b[38;5;130;43;01m\\n\u001b[39;49;00m\u001b[38;5;124;43m        self.play(FadeIn(dot2))\u001b[39;49m\u001b[38;5;130;43;01m\\n\u001b[39;49;00m\u001b[38;5;124;43m        self.play(Create(arc))\u001b[39;49m\u001b[38;5;130;43;01m\\n\u001b[39;49;00m\u001b[38;5;124;43m        self.wait(2)\u001b[39;49m\u001b[38;5;130;43;01m\\n\u001b[39;49;00m\u001b[38;5;124;43m        self.play(MoveAlongPath(racecar_image, arc), run_time=2)\u001b[39;49m\u001b[38;5;130;43;01m\\n\u001b[39;49;00m\u001b[38;5;124;43m        self.play(self.camera.frame.animate.scale(5).move_to(ORIGIN + LEFT * 13 + UP * 2.5), run_time=2)\u001b[39;49m\u001b[38;5;130;43;01m\\n\u001b[39;49;00m\u001b[38;5;124;43m        self.wait(2)\u001b[39;49m\u001b[38;5;130;43;01m\\n\u001b[39;49;00m\u001b[38;5;124;43m        self.play(self.camera.frame.animate.move_to(text_1697),run_time = 2)\u001b[39;49m\u001b[38;5;130;43;01m\\n\u001b[39;49;00m\u001b[38;5;124;43m        self.play(Create(line_1697))\u001b[39;49m\u001b[38;5;130;43;01m\\n\u001b[39;49;00m\u001b[38;5;124;43m        self.play(Write(text_1697))\u001b[39;49m\u001b[38;5;130;43;01m\\n\u001b[39;49;00m\u001b[38;5;124;43m        self.play(FadeIn(newton_image))\u001b[39;49m\u001b[38;5;130;43;01m\\n\u001b[39;49;00m\u001b[38;5;124;43m        self.wait(2)\u001b[39;49m\u001b[38;5;130;43;01m\\n\u001b[39;49;00m\u001b[38;5;124;43m'\u001b[39;49m\u001b[43m)\u001b[49m\n",
      "File \u001b[1;32mc:\\Users\\Asus\\AppData\\Local\\Programs\\Python\\Python310\\lib\\site-packages\\IPython\\core\\interactiveshell.py:2357\u001b[0m, in \u001b[0;36mInteractiveShell.run_cell_magic\u001b[1;34m(self, magic_name, line, cell)\u001b[0m\n\u001b[0;32m   2355\u001b[0m \u001b[38;5;28;01mwith\u001b[39;00m \u001b[38;5;28mself\u001b[39m\u001b[38;5;241m.\u001b[39mbuiltin_trap:\n\u001b[0;32m   2356\u001b[0m     args \u001b[38;5;241m=\u001b[39m (magic_arg_s, cell)\n\u001b[1;32m-> 2357\u001b[0m     result \u001b[38;5;241m=\u001b[39m fn(\u001b[38;5;241m*\u001b[39margs, \u001b[38;5;241m*\u001b[39m\u001b[38;5;241m*\u001b[39mkwargs)\n\u001b[0;32m   2358\u001b[0m \u001b[38;5;28;01mreturn\u001b[39;00m result\n",
      "File \u001b[1;32mc:\\Users\\Asus\\AppData\\Local\\Programs\\Python\\Python310\\lib\\site-packages\\manim\\utils\\ipython_magic.py:141\u001b[0m, in \u001b[0;36mManimMagic.manim\u001b[1;34m(self, line, cell, local_ns)\u001b[0m\n\u001b[0;32m    139\u001b[0m     SceneClass \u001b[38;5;241m=\u001b[39m local_ns[config[\u001b[38;5;124m\"\u001b[39m\u001b[38;5;124mscene_names\u001b[39m\u001b[38;5;124m\"\u001b[39m][\u001b[38;5;241m0\u001b[39m]]\n\u001b[0;32m    140\u001b[0m     scene \u001b[38;5;241m=\u001b[39m SceneClass(renderer\u001b[38;5;241m=\u001b[39mrenderer)\n\u001b[1;32m--> 141\u001b[0m     \u001b[43mscene\u001b[49m\u001b[38;5;241;43m.\u001b[39;49m\u001b[43mrender\u001b[49m\u001b[43m(\u001b[49m\u001b[43m)\u001b[49m\n\u001b[0;32m    142\u001b[0m \u001b[38;5;28;01mfinally\u001b[39;00m:\n\u001b[0;32m    143\u001b[0m     \u001b[38;5;66;03m# Shader cache becomes invalid as the context is destroyed\u001b[39;00m\n\u001b[0;32m    144\u001b[0m     shader_program_cache\u001b[38;5;241m.\u001b[39mclear()\n",
      "File \u001b[1;32mc:\\Users\\Asus\\AppData\\Local\\Programs\\Python\\Python310\\lib\\site-packages\\manim\\scene\\scene.py:223\u001b[0m, in \u001b[0;36mScene.render\u001b[1;34m(self, preview)\u001b[0m\n\u001b[0;32m    221\u001b[0m \u001b[38;5;28mself\u001b[39m\u001b[38;5;241m.\u001b[39msetup()\n\u001b[0;32m    222\u001b[0m \u001b[38;5;28;01mtry\u001b[39;00m:\n\u001b[1;32m--> 223\u001b[0m     \u001b[38;5;28;43mself\u001b[39;49m\u001b[38;5;241;43m.\u001b[39;49m\u001b[43mconstruct\u001b[49m\u001b[43m(\u001b[49m\u001b[43m)\u001b[49m\n\u001b[0;32m    224\u001b[0m \u001b[38;5;28;01mexcept\u001b[39;00m EndSceneEarlyException:\n\u001b[0;32m    225\u001b[0m     \u001b[38;5;28;01mpass\u001b[39;00m\n",
      "File \u001b[1;32m<string>:31\u001b[0m, in \u001b[0;36mconstruct\u001b[1;34m(self)\u001b[0m\n",
      "File \u001b[1;32mc:\\Users\\Asus\\AppData\\Local\\Programs\\Python\\Python310\\lib\\site-packages\\manim\\mobject\\types\\image_mobject.py:183\u001b[0m, in \u001b[0;36mImageMobject.__init__\u001b[1;34m(self, filename_or_array, scale_to_resolution, invert, image_mode, **kwargs)\u001b[0m\n\u001b[0;32m    181\u001b[0m \u001b[38;5;28mself\u001b[39m\u001b[38;5;241m.\u001b[39mimage_mode \u001b[38;5;241m=\u001b[39m image_mode\n\u001b[0;32m    182\u001b[0m \u001b[38;5;28;01mif\u001b[39;00m \u001b[38;5;28misinstance\u001b[39m(filename_or_array, (\u001b[38;5;28mstr\u001b[39m, pathlib\u001b[38;5;241m.\u001b[39mPurePath)):\n\u001b[1;32m--> 183\u001b[0m     path \u001b[38;5;241m=\u001b[39m \u001b[43mget_full_raster_image_path\u001b[49m\u001b[43m(\u001b[49m\u001b[43mfilename_or_array\u001b[49m\u001b[43m)\u001b[49m\n\u001b[0;32m    184\u001b[0m     image \u001b[38;5;241m=\u001b[39m Image\u001b[38;5;241m.\u001b[39mopen(path)\u001b[38;5;241m.\u001b[39mconvert(\u001b[38;5;28mself\u001b[39m\u001b[38;5;241m.\u001b[39mimage_mode)\n\u001b[0;32m    185\u001b[0m     \u001b[38;5;28mself\u001b[39m\u001b[38;5;241m.\u001b[39mpixel_array \u001b[38;5;241m=\u001b[39m np\u001b[38;5;241m.\u001b[39marray(image)\n",
      "File \u001b[1;32mc:\\Users\\Asus\\AppData\\Local\\Programs\\Python\\Python310\\lib\\site-packages\\manim\\utils\\images.py:22\u001b[0m, in \u001b[0;36mget_full_raster_image_path\u001b[1;34m(image_file_name)\u001b[0m\n\u001b[0;32m     21\u001b[0m \u001b[38;5;28;01mdef\u001b[39;00m \u001b[38;5;21mget_full_raster_image_path\u001b[39m(image_file_name: \u001b[38;5;28mstr\u001b[39m) \u001b[38;5;241m-\u001b[39m\u001b[38;5;241m>\u001b[39m Path:\n\u001b[1;32m---> 22\u001b[0m     \u001b[38;5;28;01mreturn\u001b[39;00m \u001b[43mseek_full_path_from_defaults\u001b[49m\u001b[43m(\u001b[49m\n\u001b[0;32m     23\u001b[0m \u001b[43m        \u001b[49m\u001b[43mimage_file_name\u001b[49m\u001b[43m,\u001b[49m\n\u001b[0;32m     24\u001b[0m \u001b[43m        \u001b[49m\u001b[43mdefault_dir\u001b[49m\u001b[38;5;241;43m=\u001b[39;49m\u001b[43mconfig\u001b[49m\u001b[38;5;241;43m.\u001b[39;49m\u001b[43mget_dir\u001b[49m\u001b[43m(\u001b[49m\u001b[38;5;124;43m\"\u001b[39;49m\u001b[38;5;124;43massets_dir\u001b[39;49m\u001b[38;5;124;43m\"\u001b[39;49m\u001b[43m)\u001b[49m\u001b[43m,\u001b[49m\n\u001b[0;32m     25\u001b[0m \u001b[43m        \u001b[49m\u001b[43mextensions\u001b[49m\u001b[38;5;241;43m=\u001b[39;49m\u001b[43m[\u001b[49m\u001b[38;5;124;43m\"\u001b[39;49m\u001b[38;5;124;43m.jpg\u001b[39;49m\u001b[38;5;124;43m\"\u001b[39;49m\u001b[43m,\u001b[49m\u001b[43m \u001b[49m\u001b[38;5;124;43m\"\u001b[39;49m\u001b[38;5;124;43m.jpeg\u001b[39;49m\u001b[38;5;124;43m\"\u001b[39;49m\u001b[43m,\u001b[49m\u001b[43m \u001b[49m\u001b[38;5;124;43m\"\u001b[39;49m\u001b[38;5;124;43m.png\u001b[39;49m\u001b[38;5;124;43m\"\u001b[39;49m\u001b[43m,\u001b[49m\u001b[43m \u001b[49m\u001b[38;5;124;43m\"\u001b[39;49m\u001b[38;5;124;43m.gif\u001b[39;49m\u001b[38;5;124;43m\"\u001b[39;49m\u001b[43m,\u001b[49m\u001b[43m \u001b[49m\u001b[38;5;124;43m\"\u001b[39;49m\u001b[38;5;124;43m.ico\u001b[39;49m\u001b[38;5;124;43m\"\u001b[39;49m\u001b[43m]\u001b[49m\u001b[43m,\u001b[49m\n\u001b[0;32m     26\u001b[0m \u001b[43m    \u001b[49m\u001b[43m)\u001b[49m\n",
      "File \u001b[1;32mc:\\Users\\Asus\\AppData\\Local\\Programs\\Python\\Python310\\lib\\site-packages\\manim\\utils\\file_ops.py:175\u001b[0m, in \u001b[0;36mseek_full_path_from_defaults\u001b[1;34m(file_name, default_dir, extensions)\u001b[0m\n\u001b[0;32m    170\u001b[0m         \u001b[38;5;28;01mreturn\u001b[39;00m path\n\u001b[0;32m    171\u001b[0m error \u001b[38;5;241m=\u001b[39m (\n\u001b[0;32m    172\u001b[0m     \u001b[38;5;124mf\u001b[39m\u001b[38;5;124m\"\u001b[39m\u001b[38;5;124mFrom: \u001b[39m\u001b[38;5;132;01m{\u001b[39;00mPath\u001b[38;5;241m.\u001b[39mcwd()\u001b[38;5;132;01m}\u001b[39;00m\u001b[38;5;124m, could not find \u001b[39m\u001b[38;5;132;01m{\u001b[39;00mfile_name\u001b[38;5;132;01m}\u001b[39;00m\u001b[38;5;124m at either \u001b[39m\u001b[38;5;124m\"\u001b[39m\n\u001b[0;32m    173\u001b[0m     \u001b[38;5;124mf\u001b[39m\u001b[38;5;124m\"\u001b[39m\u001b[38;5;124mof these locations: \u001b[39m\u001b[38;5;132;01m{\u001b[39;00m\u001b[38;5;28mlist\u001b[39m(\u001b[38;5;28mmap\u001b[39m(\u001b[38;5;28mstr\u001b[39m,\u001b[38;5;250m \u001b[39mpossible_paths))\u001b[38;5;132;01m}\u001b[39;00m\u001b[38;5;124m\"\u001b[39m\n\u001b[0;32m    174\u001b[0m )\n\u001b[1;32m--> 175\u001b[0m \u001b[38;5;28;01mraise\u001b[39;00m \u001b[38;5;167;01mOSError\u001b[39;00m(error)\n",
      "\u001b[1;31mOSError\u001b[0m: From: c:\\Users\\Asus\\Documents\\DHBW\\Semester_5\\Integrationsseminar\\Integrationsseminar-WWI21DSB, could not find img/Galileo_Galilei.png at either of these locations: ['img\\\\Galileo_Galilei.png', 'img\\\\Galileo_Galilei.png', 'img\\\\Galileo_Galilei.png.jpg', 'img\\\\Galileo_Galilei.png.jpeg', 'img\\\\Galileo_Galilei.png.png', 'img\\\\Galileo_Galilei.png.gif', 'img\\\\Galileo_Galilei.png.ico']"
     ]
    }
   ],
   "source": [
    "%%manim -ql -v WARNING ZeitstrahlScene\n",
    "\n",
    "class ZeitstrahlScene(MovingCameraScene):\n",
    "    def construct(self):\n",
    "        self.camera.background_color = WHITE\n",
    "\n",
    "        ### Zeitstrahl erstellen\n",
    "        timeline = NumberLine(\n",
    "            x_range=[1500, 2200, 10],\n",
    "            length=50,\n",
    "            #include_numbers=True,\n",
    "            #label_direction=UP,\n",
    "            color = BLACK\n",
    "        )\n",
    "\n",
    "        for x in range(1500, 2201, 50):\n",
    "            number = Text(str(x), color=BLACK).next_to(timeline.n2p(x), DOWN)\n",
    "            self.add(number)\n",
    "\n",
    "        ### Markierungen für Zeitstrahl erstellen\n",
    "        \n",
    "        line_2024 = Line(timeline.number_to_point(2024), timeline.number_to_point(2024) + 1 * np.array([np.cos(PI/4), np.sin(PI/4), 0]) , color =BLACK)\n",
    "        text_2024 = Tex(str(2024)+ \" - \" + \"Spongebob\", color = BLACK).next_to(line_2024, UP * 0.9 + RIGHT * 0.5)\n",
    "\n",
    "        line_1638 = Line(timeline.number_to_point(1638), timeline.number_to_point(1638) + 1 * np.array([np.cos(PI/4), np.sin(PI/4), 0]) , color =BLACK)\n",
    "        text_1638 = Tex(str(1638)+ \" - \" + \"Gallileo\", color = BLACK).next_to(line_1638, UP * 0.9 + RIGHT * 0.5)\n",
    "\n",
    "        line_1697 = Line(timeline.number_to_point(1697), timeline.number_to_point(1697) + 4 * np.array([np.cos(PI/4), 0.5 * np.sin(PI/4), 0]) , color =BLACK)\n",
    "        text_1697 = Tex(str(1697)+ \" - \" + \"Newton\", color = BLACK).next_to(line_1697, UP * 0.9 + RIGHT)\n",
    "\n",
    "        # Bilder Hinzufügen \n",
    "        gallileo_image = ImageMobject(\"img/Galileo_Galilei.png\")\n",
    "        gallileo_image.move_to(LEFT * 16 + UP * 3)\n",
    "        # Group\n",
    "        spongebob_image = ImageMobject(\"img/spongebob.png\").scale(0.7)\n",
    "        spongebob_image.move_to(RIGHT * 16 + UP * 3)\n",
    "\n",
    "        patrick_image = ImageMobject(\"img/patrick.png\")\n",
    "        patrick_image.move_to(RIGHT * 12 + UP * 2.3)\n",
    "\n",
    "        racecar_image = ImageMobject(\"img/RaceCar.png\")\n",
    "        racecar_image.scale(0.05)\n",
    "\n",
    "        newton_image = ImageMobject(\"img/Isaac_Newton.png\").scale(0.5)\n",
    "        newton_image.next_to(text_1697, UP)\n",
    "\n",
    "\n",
    "        ### Kreis für Gallileo Erklärung hinzufügen\n",
    "        circle = Circle(radius=2, color=BLACK)\n",
    "        circle.move_to(LEFT * 11 + UP*4)\n",
    "        # Definiere zwei Punkte auf dem Umfang des Kreises unten links\n",
    "        point1 = circle.point_at_angle(5 * PI / 4) # 225 Grad\n",
    "        point2 = circle.point_at_angle(3 * PI / 2) # 270 Grad\n",
    "        # Erstelle Dot-Objekte für die Punkte\n",
    "        dot1 = Dot(point1, color=RED)\n",
    "        dot2 = Dot(point2, color=BLUE)\n",
    "        # Linie zwischen Punkten\n",
    "        arc = Arc(\n",
    "            start_angle=5 * PI / 4, \n",
    "            angle=3 * PI / 2 - 5 * PI / 4, \n",
    "            radius=circle.radius, \n",
    "            color=YELLOW,\n",
    "            arc_center=circle.get_center()\n",
    "        )\n",
    "\n",
    "\n",
    "        # objekte an richtige stelle bringen:   \n",
    "        # Objekte zu image hinzufügen.\n",
    "        self.add(timeline)\n",
    "        #self.add(circle,dot1,dot2,arc)\n",
    "        #self.add(racecar_image)\n",
    "\n",
    "        \n",
    "        # Camera setup für Frame creation\n",
    "        self.camera.frame.move_to(RIGHT * 13 + UP)\n",
    "        self.play(Create(line_2024))\n",
    "        self.play(Write(text_2024))\n",
    "        self.play(FadeIn(patrick_image,spongebob_image))\n",
    "        self.play(self.camera.frame.animate.shift(LEFT * 26), run_time = 3)\n",
    "        self.play(Create(line_1638))\n",
    "        self.play(Write(text_1638))\n",
    "        self.play(FadeIn(gallileo_image))\n",
    "        self.play(self.camera.frame.animate.shift(UP * 1.5), run_time = 2)\n",
    "        self.play(Create(circle))\n",
    "        self.play(self.camera.frame.animate.scale(0.2).move_to(arc),run_time = 2)\n",
    "        self.play(FadeIn(dot1))\n",
    "        self.play(FadeIn(dot2))\n",
    "        self.play(Create(arc))\n",
    "        self.wait(2)\n",
    "        self.play(MoveAlongPath(racecar_image, arc), run_time=2)\n",
    "        self.play(self.camera.frame.animate.scale(5).move_to(ORIGIN + LEFT * 13 + UP * 2.5), run_time=2)\n",
    "        self.wait(2)\n",
    "        self.play(self.camera.frame.animate.move_to(text_1697),run_time = 2)\n",
    "        self.play(Create(line_1697))\n",
    "        self.play(Write(text_1697))\n",
    "        self.play(FadeIn(newton_image))\n",
    "        self.wait(2)"
   ]
  },
  {
   "cell_type": "code",
   "execution_count": 3,
   "metadata": {},
   "outputs": [
    {
     "data": {
      "text/html": [
       "<video src=\"media\\jupyter\\FunctionPlot@2024-01-06@09-50-29.mp4\" controls autoplay loop style=\"max-width: 60%;\"  >\n",
       "      Your browser does not support the <code>video</code> element.\n",
       "    </video>"
      ],
      "text/plain": [
       "<IPython.core.display.Video object>"
      ]
     },
     "metadata": {},
     "output_type": "display_data"
    }
   ],
   "source": [
    "%%manim -ql -v WARNING FunctionPlot\n",
    "\n",
    "from manim import *\n",
    "\n",
    "class FunctionPlot(Scene):\n",
    "    def construct(self):\n",
    "        axes = Axes(\n",
    "            x_range=[0.1, 10, 1],  # Start, Ende, Schrittweite für x-Achse\n",
    "            y_range=[0, 1, 0.1],   # Start, Ende, Schrittweite für y-Achse\n",
    "            axis_config={\"color\": BLUE},  # Farbe der Achsen\n",
    "        )\n",
    "\n",
    "        # Funktion f(x) = 0.01 * 1/x\n",
    "        function = axes.plot(lambda x: 0.01 * (1/x), color=RED)\n",
    "        function_label = axes.get_graph_label(function, label='0.01 \\\\times \\\\frac{1}{x}')\n",
    "\n",
    "        # Hinzufügen der Achsen, Funktion und Beschriftung zur Szene\n",
    "        self.add(axes, function, function_label)\n",
    "        self.wait(1)  # Wartezeit am Ende der Animation\n",
    "\n"
   ]
  }
 ],
 "metadata": {
  "kernelspec": {
   "display_name": "my-manim-environment",
   "language": "python",
   "name": "python3"
  },
  "language_info": {
   "codemirror_mode": {
    "name": "ipython",
    "version": 3
   },
   "file_extension": ".py",
   "mimetype": "text/x-python",
   "name": "python",
   "nbconvert_exporter": "python",
   "pygments_lexer": "ipython3",
   "version": "3.10.4"
  }
 },
 "nbformat": 4,
 "nbformat_minor": 2
}
