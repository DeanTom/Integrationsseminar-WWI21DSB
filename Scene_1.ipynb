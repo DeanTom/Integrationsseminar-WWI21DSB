{
 "cells": [
  {
   "cell_type": "code",
   "execution_count": 2,
   "metadata": {},
   "outputs": [
    {
     "data": {
      "text/html": [
       "<pre style=\"white-space:pre;overflow-x:auto;line-height:normal;font-family:Menlo,'DejaVu Sans Mono',consolas,'Courier New',monospace\">Manim Community <span style=\"color: #008000; text-decoration-color: #008000\">v0.18.0</span>\n",
       "\n",
       "</pre>\n"
      ],
      "text/plain": [
       "Manim Community \u001b[32mv0.\u001b[0m\u001b[32m18.0\u001b[0m\n",
       "\n"
      ]
     },
     "metadata": {},
     "output_type": "display_data"
    }
   ],
   "source": [
    "from manim import *"
   ]
  },
  {
   "cell_type": "code",
   "execution_count": 71,
   "metadata": {},
   "outputs": [
    {
     "name": "stderr",
     "output_type": "stream",
     "text": [
      "<string>:73: DeprecationWarning: This method is not guaranteed to stay around. Please prefer getting the attribute normally.\n",
      "                                                                                                  \r"
     ]
    },
    {
     "data": {
      "text/html": [
       "<video src=\"media\\jupyter\\SpongebobAndPatrickScene1@2024-01-04@19-41-58.mp4\" controls autoplay loop style=\"max-width: 60%;\"  >\n",
       "      Your browser does not support the <code>video</code> element.\n",
       "    </video>"
      ],
      "text/plain": [
       "<IPython.core.display.Video object>"
      ]
     },
     "metadata": {},
     "output_type": "display_data"
    }
   ],
   "source": [
    "%%manim -qh -v WARNING SpongebobAndPatrickScene1\n",
    "\n",
    "class SpongebobAndPatrickScene1(MovingCameraScene):\n",
    "    def construct(self):\n",
    "        self.camera.background_color=GRAY_A\n",
    "\n",
    "        # Create the images\n",
    "        spongebob = ImageMobject(\"img\\spongebob.png\")\n",
    "        patrick = ImageMobject(\"img\\patrick.png\")\n",
    "\n",
    "        spongebob.scale(0.7)\n",
    "        patrick.scale(0.7)\n",
    "\n",
    "        spongebob.move_to(20 * LEFT)\n",
    "        patrick.move_to(20 * RIGHT)\n",
    "        self.add(spongebob, patrick)\n",
    "\n",
    "\n",
    "        # Move the images to the edges of the screen\n",
    "        spongebob_animation = AnimationGroup(\n",
    "            FadeIn(spongebob),\n",
    "            spongebob.animate.to_edge(RIGHT, buff=1),\n",
    "        )\n",
    "\n",
    "        patrick_animation = AnimationGroup(\n",
    "            FadeIn(patrick),\n",
    "            patrick.animate.to_edge(LEFT, buff=1),\n",
    "        )\n",
    "\n",
    "        self.play(spongebob_animation, patrick_animation)\n",
    "        self.wait(1)\n",
    "\n",
    "        # Add the text\n",
    "        text_spongebob = Text(\"Spongebob\", color = BLACK).next_to(spongebob, UP)\n",
    "        text_patrick = Text(\"Patrick\", color = BLACK).next_to(patrick, UP)\n",
    "        self.play(Write(text_patrick), Write(text_spongebob))\n",
    "        self.wait(3)\n",
    "        self.play(FadeOut(text_patrick), FadeOut(text_spongebob))\n",
    "\n",
    "        # Define the mountainside function\n",
    "        def custom_func(x):\n",
    "                return np.where(x < np.pi/2, 1, np.where(np.pi/2 <= x < 3*np.pi/2, np.sin(x), -1))\n",
    "\n",
    "      \n",
    "        custom_graph = FunctionGraph(\n",
    "            custom_func,\n",
    "            color=BLACK,\n",
    "            x_range=[0, 4*np.pi/2]\n",
    "        )\n",
    "        graph_label = Text(\"Let's do a race\", color=BLACK, font_size= 30).next_to(custom_graph, DOWN)\n",
    "        custom_graph.center()\n",
    "\n",
    "        # Move the images to the top left corner\n",
    "        spongebob_animation_to_corner = AnimationGroup(\n",
    "            spongebob.animate.to_corner(UP + LEFT * 1.5).scale(0.4),\n",
    "        )\n",
    "\n",
    "        patrick_animation_to_corner = AnimationGroup(\n",
    "            patrick.animate.to_corner(UP + LEFT * 4.5).scale(0.4),\n",
    "        )\n",
    "\n",
    "        # Group the animations together and add lag\n",
    "        animations = AnimationGroup(\n",
    "            spongebob_animation_to_corner,\n",
    "            patrick_animation_to_corner,\n",
    "            lag_ratio=0.5  \n",
    "        )\n",
    "\n",
    "        # Add the animations to the scene\n",
    "        self.play(animations)\n",
    "        self.play(Create(custom_graph), Write(graph_label))\n",
    "        self.wait(3)\n",
    "        self.play(FadeOut(graph_label))\n",
    "        self.play(self.camera.frame.animate.set(width=custom_graph.get_width() * 1.8))\n",
    "        self.wait(3)\n",
    "\n",
    "        # Add the racecars\n",
    "        racecar1 = ImageMobject(\"img\\RaceCar.png\")\n",
    "        racecar2 = ImageMobject(\"img\\RaceCar.png\")\n",
    "        racecar1.scale(0.15)\n",
    "        racecar2.scale(0.15)\n",
    "        racecar1.move_to(custom_graph.points[0] + UP * 0.1)\n",
    "        racecar2.move_to(custom_graph.points[0] + UP * 0.05)\n",
    "\n",
    "        # Play the race\n",
    "        self.play(FadeIn(racecar1), FadeIn(racecar2))\n",
    "        self.play(MoveAlongPath(racecar1, custom_graph, rate_func=smooth), MoveAlongPath(racecar2, custom_graph, rate_func=smooth), run_time=2)\n",
    "        self.wait(3)\n",
    "\n",
    "        # Next up : Woahh, both arrive at the same time \n",
    "        \n",
    "\n"
   ]
  }
 ],
 "metadata": {
  "kernelspec": {
   "display_name": "Python 3",
   "language": "python",
   "name": "python3"
  },
  "language_info": {
   "codemirror_mode": {
    "name": "ipython",
    "version": 3
   },
   "file_extension": ".py",
   "mimetype": "text/x-python",
   "name": "python",
   "nbconvert_exporter": "python",
   "pygments_lexer": "ipython3",
   "version": "3.10.11"
  }
 },
 "nbformat": 4,
 "nbformat_minor": 2
}
